{
 "cells": [
  {
   "cell_type": "markdown",
   "id": "ecdf2d8f",
   "metadata": {},
   "source": [
    "### March 2023: END SEMESTER ASSESSMENT (ESA)\n",
    "## M TECH DATA SCIENCE AND MACHINE LEARNING_ SEMESTER II\n",
    "\n",
    "### UE20CS935: Introduction to Deep Learning and Applications\n"
   ]
  },
  {
   "cell_type": "markdown",
   "id": "1ef77dff",
   "metadata": {},
   "source": [
    "Question 1: Build a Convolution Neural Network to classify the 6 different species of Butterfly images. Dataset_Folder Name: Butterflies_classification_dataset\t(10 marks)<br>\n",
    "Data pre-processing<br>\n",
    "Conditions to consider:<br>\n",
    "    1. Parameters should not cross 300000  <br>\n",
    "    2. Should not use more than 4 layers (except input and output, including convolution and dense layers) <br>\n",
    "    3. Use Adam Optimizer\n"
   ]
  },
  {
   "cell_type": "code",
   "execution_count": 33,
   "id": "2a4339bd",
   "metadata": {},
   "outputs": [],
   "source": [
    "import os\n",
    "import cv2\n",
    "\n",
    "import tensorflow as tf\n",
    "from tensorflow.keras.models import Sequential, Model\n",
    "from tensorflow.keras.layers import Conv2D, Dense, Flatten, GlobalMaxPooling2D, MaxPool2D, Input, BatchNormalization, Dropout\n",
    "from tensorflow.keras.callbacks import EarlyStopping, ModelCheckpoint\n",
    "from tensorflow.keras.preprocessing.image import ImageDataGenerator\n",
    "import segmentation_models as sm\n",
    "\n",
    "from sklearn.model_selection import train_test_split\n",
    "from PIL import Image\n",
    "import matplotlib.pyplot as plt\n",
    "\n",
    "os.environ['CUDA_DEVICE_ORDER'] = 'PCI_BUS_ID'\n",
    "os.environ['CUDA_VISIBLE_DEVICES'] = '0'"
   ]
  },
  {
   "cell_type": "code",
   "execution_count": 4,
   "id": "47e5492d",
   "metadata": {},
   "outputs": [],
   "source": [
    "train_dir=\"Butterflies_classification_dataset/train\"\n",
    "test_dir=\"Butterflies_classification_dataset/test\""
   ]
  },
  {
   "cell_type": "code",
   "execution_count": 3,
   "id": "fcb396a6",
   "metadata": {},
   "outputs": [],
   "source": [
    "train_image_generator = ImageDataGenerator(rescale=1./255, validation_split=0.2)\n",
    "test_image_generator = ImageDataGenerator(rescale=1./255)"
   ]
  },
  {
   "cell_type": "code",
   "execution_count": 5,
   "id": "04764e3b",
   "metadata": {},
   "outputs": [
    {
     "name": "stdout",
     "output_type": "stream",
     "text": [
      "Found 384 images belonging to 6 classes.\n",
      "Found 96 images belonging to 6 classes.\n",
      "Found 151 images belonging to 6 classes.\n"
     ]
    }
   ],
   "source": [
    "target_size = (64, 64)\n",
    "train_data_generator = train_image_generator.flow_from_directory(train_dir, \n",
    "                                                                 target_size=target_size, subset='training', shuffle=True)\n",
    "\n",
    "validation_data_generator = train_image_generator.flow_from_directory(train_dir, \n",
    "                                                                 target_size=target_size, subset='validation', shuffle=True)\n",
    "\n",
    "test_data_generator = test_image_generator.flow_from_directory(test_dir, target_size=target_size)\n"
   ]
  },
  {
   "cell_type": "code",
   "execution_count": 6,
   "id": "bdf0b054",
   "metadata": {},
   "outputs": [
    {
     "name": "stdout",
     "output_type": "stream",
     "text": [
      "Model: \"sequential\"\n",
      "_________________________________________________________________\n",
      " Layer (type)                Output Shape              Param #   \n",
      "=================================================================\n",
      " conv2d (Conv2D)             (None, 62, 62, 64)        1792      \n",
      "                                                                 \n",
      " max_pooling2d (MaxPooling2  (None, 31, 31, 64)        0         \n",
      " D)                                                              \n",
      "                                                                 \n",
      " conv2d_1 (Conv2D)           (None, 29, 29, 32)        18464     \n",
      "                                                                 \n",
      " max_pooling2d_1 (MaxPoolin  (None, 14, 14, 32)        0         \n",
      " g2D)                                                            \n",
      "                                                                 \n",
      " flatten (Flatten)           (None, 6272)              0         \n",
      "                                                                 \n",
      " dense (Dense)               (None, 6)                 37638     \n",
      "                                                                 \n",
      "=================================================================\n",
      "Total params: 57894 (226.15 KB)\n",
      "Trainable params: 57894 (226.15 KB)\n",
      "Non-trainable params: 0 (0.00 Byte)\n",
      "_________________________________________________________________\n"
     ]
    }
   ],
   "source": [
    "model = Sequential()\n",
    "model.add(Conv2D(64, 3, activation='relu', input_shape=(64, 64, 3)))\n",
    "model.add(MaxPool2D())\n",
    "model.add(Conv2D(32, 3, activation='relu'))\n",
    "model.add(MaxPool2D())\n",
    "model.add(Flatten())\n",
    "model.add(Dense(6, activation='softmax'))\n",
    "model.compile(optimizer='adam', loss='categorical_crossentropy', metrics=['accuracy'])\n",
    "\n",
    "model.summary()"
   ]
  },
  {
   "cell_type": "code",
   "execution_count": 7,
   "id": "12a41eb6",
   "metadata": {},
   "outputs": [
    {
     "name": "stdout",
     "output_type": "stream",
     "text": [
      "Epoch 1/3\n",
      "12/12 [==============================] - 7s 510ms/step - loss: 1.6785 - accuracy: 0.3099 - val_loss: 1.4829 - val_accuracy: 0.4583\n",
      "Epoch 2/3\n",
      "12/12 [==============================] - 3s 213ms/step - loss: 1.2035 - accuracy: 0.6172 - val_loss: 1.0029 - val_accuracy: 0.6562\n",
      "Epoch 3/3\n",
      "12/12 [==============================] - 3s 215ms/step - loss: 0.8223 - accuracy: 0.7422 - val_loss: 0.8923 - val_accuracy: 0.7292\n"
     ]
    },
    {
     "data": {
      "text/plain": [
       "<keras.src.callbacks.History at 0x1fc628aaeb0>"
      ]
     },
     "execution_count": 7,
     "metadata": {},
     "output_type": "execute_result"
    }
   ],
   "source": [
    "model.fit(train_data_generator, validation_data=validation_data_generator, epochs=3)"
   ]
  },
  {
   "cell_type": "code",
   "execution_count": 8,
   "id": "2b357142",
   "metadata": {},
   "outputs": [
    {
     "name": "stdout",
     "output_type": "stream",
     "text": [
      "5/5 [==============================] - 2s 330ms/step - loss: 1.1283 - accuracy: 0.5960\n",
      "Base Model Accuracy: 0.60\n"
     ]
    }
   ],
   "source": [
    "loss, accuracy = model.evaluate(test_data_generator)\n",
    "print(f'Base Model Accuracy: {accuracy:.2f}')"
   ]
  },
  {
   "cell_type": "markdown",
   "id": "ae2c4d27",
   "metadata": {},
   "source": [
    "#### Question No:2  (15 marks)\n",
    "Improve the baseline model performance and save the weights of improved model\n",
    "\n",
    "<u> **Conditions to consider** </u>\n",
    "\n",
    "Apply Data Augmentation if required (5 marks)<br>\n",
    "No parameter limit  (2 marks)<br>\n",
    "Can use any number of layers (2 marks)<br>\n",
    "Use any optimizers of your choice  (3 marks)<br>\n",
    "Use early stopping and save best model callbacks (8 marks)<br>\n",
    "\n"
   ]
  },
  {
   "cell_type": "code",
   "execution_count": 9,
   "id": "b3223170",
   "metadata": {},
   "outputs": [
    {
     "name": "stdout",
     "output_type": "stream",
     "text": [
      "Found 384 images belonging to 6 classes.\n",
      "Found 96 images belonging to 6 classes.\n",
      "Found 151 images belonging to 6 classes.\n"
     ]
    }
   ],
   "source": [
    "train_image_generator = ImageDataGenerator(rescale=1./255, validation_split=0.2, rotation_range=60, \n",
    "                                           zoom_range=0.2, shear_range=0.2, width_shift_range=0.2,\n",
    "                                          height_shift_range=0.2, horizontal_flip=True)\n",
    "test_image_generator = ImageDataGenerator(rescale=1./255)\n",
    "\n",
    "target_size = (128, 128)\n",
    "train_data_generator = train_image_generator.flow_from_directory(train_dir, \n",
    "                                                                 target_size=target_size, subset='training', shuffle=True)\n",
    "\n",
    "validation_data_generator = train_image_generator.flow_from_directory(train_dir, \n",
    "                                                                 target_size=target_size, subset='validation', shuffle=True)\n",
    "\n",
    "test_data_generator = test_image_generator.flow_from_directory(test_dir, target_size=target_size)\n"
   ]
  },
  {
   "cell_type": "code",
   "execution_count": 10,
   "id": "5101f697",
   "metadata": {},
   "outputs": [
    {
     "name": "stdout",
     "output_type": "stream",
     "text": [
      "Model: \"sequential_1\"\n",
      "_________________________________________________________________\n",
      " Layer (type)                Output Shape              Param #   \n",
      "=================================================================\n",
      " conv2d_2 (Conv2D)           (None, 126, 126, 200)     5600      \n",
      "                                                                 \n",
      " batch_normalization (Batch  (None, 126, 126, 200)     800       \n",
      " Normalization)                                                  \n",
      "                                                                 \n",
      " dropout (Dropout)           (None, 126, 126, 200)     0         \n",
      "                                                                 \n",
      " max_pooling2d_2 (MaxPoolin  (None, 63, 63, 200)       0         \n",
      " g2D)                                                            \n",
      "                                                                 \n",
      " conv2d_3 (Conv2D)           (None, 61, 61, 100)       180100    \n",
      "                                                                 \n",
      " batch_normalization_1 (Bat  (None, 61, 61, 100)       400       \n",
      " chNormalization)                                                \n",
      "                                                                 \n",
      " dropout_1 (Dropout)         (None, 61, 61, 100)       0         \n",
      "                                                                 \n",
      " max_pooling2d_3 (MaxPoolin  (None, 30, 30, 100)       0         \n",
      " g2D)                                                            \n",
      "                                                                 \n",
      " conv2d_4 (Conv2D)           (None, 28, 28, 100)       90100     \n",
      "                                                                 \n",
      " batch_normalization_2 (Bat  (None, 28, 28, 100)       400       \n",
      " chNormalization)                                                \n",
      "                                                                 \n",
      " dropout_2 (Dropout)         (None, 28, 28, 100)       0         \n",
      "                                                                 \n",
      " max_pooling2d_4 (MaxPoolin  (None, 14, 14, 100)       0         \n",
      " g2D)                                                            \n",
      "                                                                 \n",
      " conv2d_5 (Conv2D)           (None, 12, 12, 100)       90100     \n",
      "                                                                 \n",
      " batch_normalization_3 (Bat  (None, 12, 12, 100)       400       \n",
      " chNormalization)                                                \n",
      "                                                                 \n",
      " dropout_3 (Dropout)         (None, 12, 12, 100)       0         \n",
      "                                                                 \n",
      " max_pooling2d_5 (MaxPoolin  (None, 6, 6, 100)         0         \n",
      " g2D)                                                            \n",
      "                                                                 \n",
      " flatten_1 (Flatten)         (None, 3600)              0         \n",
      "                                                                 \n",
      " dense_1 (Dense)             (None, 6)                 21606     \n",
      "                                                                 \n",
      "=================================================================\n",
      "Total params: 389506 (1.49 MB)\n",
      "Trainable params: 388506 (1.48 MB)\n",
      "Non-trainable params: 1000 (3.91 KB)\n",
      "_________________________________________________________________\n"
     ]
    }
   ],
   "source": [
    "model = Sequential()\n",
    "model.add(Conv2D(200, 3, activation='relu', input_shape=(128, 128, 3)))\n",
    "model.add(BatchNormalization())\n",
    "model.add(Dropout(0.3))\n",
    "model.add(MaxPool2D())\n",
    "model.add(Conv2D(100, 3, activation='relu'))\n",
    "model.add(BatchNormalization())\n",
    "model.add(Dropout(0.3))\n",
    "model.add(MaxPool2D())\n",
    "model.add(Conv2D(100, 3, activation='relu'))\n",
    "model.add(BatchNormalization())\n",
    "model.add(Dropout(0.3))\n",
    "model.add(MaxPool2D())\n",
    "model.add(Conv2D(100, 3, activation='relu'))\n",
    "model.add(BatchNormalization())\n",
    "model.add(Dropout(0.3))\n",
    "model.add(MaxPool2D())\n",
    "model.add(Flatten())\n",
    "model.add(Dense(6, activation='softmax'))\n",
    "model.compile(optimizer='adam', loss='categorical_crossentropy', metrics=['accuracy'])\n",
    "\n",
    "model.summary()"
   ]
  },
  {
   "cell_type": "code",
   "execution_count": 11,
   "id": "dfcb5d70",
   "metadata": {},
   "outputs": [
    {
     "name": "stdout",
     "output_type": "stream",
     "text": [
      "Epoch 1/3\n",
      "12/12 [==============================] - ETA: 0s - loss: 2.7223 - accuracy: 0.3646INFO:tensorflow:Assets written to: best_optimized_model\\assets\n"
     ]
    },
    {
     "name": "stderr",
     "output_type": "stream",
     "text": [
      "INFO:tensorflow:Assets written to: best_optimized_model\\assets\n"
     ]
    },
    {
     "name": "stdout",
     "output_type": "stream",
     "text": [
      "12/12 [==============================] - 43s 3s/step - loss: 2.7223 - accuracy: 0.3646 - val_loss: 1.7730 - val_accuracy: 0.1667\n",
      "Epoch 2/3\n",
      "12/12 [==============================] - 39s 3s/step - loss: 1.4280 - accuracy: 0.5781 - val_loss: 2.3568 - val_accuracy: 0.2604\n",
      "Epoch 3/3\n",
      "12/12 [==============================] - 40s 3s/step - loss: 1.1150 - accuracy: 0.6302 - val_loss: 2.8785 - val_accuracy: 0.1771\n"
     ]
    },
    {
     "data": {
      "text/plain": [
       "<keras.src.callbacks.History at 0x1fc63e4d070>"
      ]
     },
     "execution_count": 11,
     "metadata": {},
     "output_type": "execute_result"
    }
   ],
   "source": [
    "early_stop = EarlyStopping(monitor='val_loss', patience=3, restore_best_weights=True)\n",
    "model_checkpoint = ModelCheckpoint(filepath='best_optimized_model', save_best_only=True)\n",
    "\n",
    "model.fit(train_data_generator, validation_data=validation_data_generator, epochs=3, callbacks=[early_stop, model_checkpoint])"
   ]
  },
  {
   "cell_type": "code",
   "execution_count": 17,
   "id": "9751422a",
   "metadata": {},
   "outputs": [
    {
     "name": "stdout",
     "output_type": "stream",
     "text": [
      "5/5 [==============================] - 3s 507ms/step - loss: 1.8026 - accuracy: 0.1854\n",
      "Optimized Model Accuracy: 0.19\n"
     ]
    }
   ],
   "source": [
    "loss, accuracy = model.evaluate(test_data_generator)\n",
    "print(f'Optimized Model Accuracy: {accuracy:.2f}')"
   ]
  },
  {
   "cell_type": "markdown",
   "id": "db03d962",
   "metadata": {},
   "source": [
    "#### Section C: Question 4: **(15 Marks)**\n",
    "\n",
    "Use the Transfer learning technique to improve the previous section model’s classification performance.\n",
    "\n",
    "The pre-trained models weights are given to you. The architecture of pre-trained model till convolution layers and its corresponding weights are already saved under the folder **‘base_model’**. The given model convolution layers are already freezed. (Note: This pre-trained model is MobileNet)\n",
    "\n",
    "<u>Load these weights along with architecture using the following syntax:</u>\n",
    "\n",
    "- cust_model=tf.keras.models.load_model(\"base_model\")\n",
    "\n",
    "- “base_model” is the folder name under all the required models files are exist.\n",
    "\n",
    "Design the remaining layers of network in your own way (from flattening to output layer) and train only its weights with the dataset given."
   ]
  },
  {
   "cell_type": "code",
   "execution_count": null,
   "id": "8a1eb8be",
   "metadata": {},
   "outputs": [],
   "source": [
    "train_dir=\"Butterflies_classification_dataset/train\"\n",
    "test_dir=\"Butterflies_classification_dataset/test\""
   ]
  },
  {
   "cell_type": "code",
   "execution_count": 13,
   "id": "4b3b7def",
   "metadata": {},
   "outputs": [
    {
     "name": "stdout",
     "output_type": "stream",
     "text": [
      "WARNING:tensorflow:SavedModel saved prior to TF 2.5 detected when loading Keras model. Please ensure that you are saving the model with model.save() or tf.keras.models.save_model(), *NOT* tf.saved_model.save(). To confirm, there should be a file named \"keras_metadata.pb\" in the SavedModel directory.\n"
     ]
    },
    {
     "name": "stderr",
     "output_type": "stream",
     "text": [
      "WARNING:tensorflow:SavedModel saved prior to TF 2.5 detected when loading Keras model. Please ensure that you are saving the model with model.save() or tf.keras.models.save_model(), *NOT* tf.saved_model.save(). To confirm, there should be a file named \"keras_metadata.pb\" in the SavedModel directory.\n"
     ]
    },
    {
     "name": "stdout",
     "output_type": "stream",
     "text": [
      "WARNING:tensorflow:No training configuration found in save file, so the model was *not* compiled. Compile it manually.\n"
     ]
    },
    {
     "name": "stderr",
     "output_type": "stream",
     "text": [
      "WARNING:tensorflow:No training configuration found in save file, so the model was *not* compiled. Compile it manually.\n"
     ]
    },
    {
     "name": "stdout",
     "output_type": "stream",
     "text": [
      "Model: \"mobilenetv2_1.00_224\"\n",
      "__________________________________________________________________________________________________\n",
      " Layer (type)                Output Shape                 Param #   Connected to                  \n",
      "==================================================================================================\n",
      " input_3 (InputLayer)        [(None, 224, 224, 3)]        0         []                            \n",
      "                                                                                                  \n",
      " Conv1_pad (ZeroPadding2D)   (None, 225, 225, 3)          0         ['input_3[0][0]']             \n",
      "                                                                                                  \n",
      " Conv1 (Conv2D)              (None, 112, 112, 32)         864       ['Conv1_pad[0][0]']           \n",
      "                                                                                                  \n",
      " bn_Conv1 (BatchNormalizati  (None, 112, 112, 32)         128       ['Conv1[0][0]']               \n",
      " on)                                                                                              \n",
      "                                                                                                  \n",
      " Conv1_relu (ReLU)           (None, 112, 112, 32)         0         ['bn_Conv1[0][0]']            \n",
      "                                                                                                  \n",
      " expanded_conv_depthwise (D  (None, 112, 112, 32)         288       ['Conv1_relu[0][0]']          \n",
      " epthwiseConv2D)                                                                                  \n",
      "                                                                                                  \n",
      " expanded_conv_depthwise_BN  (None, 112, 112, 32)         128       ['expanded_conv_depthwise[0][0\n",
      "  (BatchNormalization)                                              ]']                           \n",
      "                                                                                                  \n",
      " expanded_conv_depthwise_re  (None, 112, 112, 32)         0         ['expanded_conv_depthwise_BN[0\n",
      " lu (ReLU)                                                          ][0]']                        \n",
      "                                                                                                  \n",
      " expanded_conv_project (Con  (None, 112, 112, 16)         512       ['expanded_conv_depthwise_relu\n",
      " v2D)                                                               [0][0]']                      \n",
      "                                                                                                  \n",
      " expanded_conv_project_BN (  (None, 112, 112, 16)         64        ['expanded_conv_project[0][0]'\n",
      " BatchNormalization)                                                ]                             \n",
      "                                                                                                  \n",
      " block_1_expand (Conv2D)     (None, 112, 112, 96)         1536      ['expanded_conv_project_BN[0][\n",
      "                                                                    0]']                          \n",
      "                                                                                                  \n",
      " block_1_expand_BN (BatchNo  (None, 112, 112, 96)         384       ['block_1_expand[0][0]']      \n",
      " rmalization)                                                                                     \n",
      "                                                                                                  \n",
      " block_1_expand_relu (ReLU)  (None, 112, 112, 96)         0         ['block_1_expand_BN[0][0]']   \n",
      "                                                                                                  \n",
      " block_1_pad (ZeroPadding2D  (None, 113, 113, 96)         0         ['block_1_expand_relu[0][0]'] \n",
      " )                                                                                                \n",
      "                                                                                                  \n",
      " block_1_depthwise (Depthwi  (None, 56, 56, 96)           864       ['block_1_pad[0][0]']         \n",
      " seConv2D)                                                                                        \n",
      "                                                                                                  \n",
      " block_1_depthwise_BN (Batc  (None, 56, 56, 96)           384       ['block_1_depthwise[0][0]']   \n",
      " hNormalization)                                                                                  \n",
      "                                                                                                  \n",
      " block_1_depthwise_relu (Re  (None, 56, 56, 96)           0         ['block_1_depthwise_BN[0][0]']\n",
      " LU)                                                                                              \n",
      "                                                                                                  \n",
      " block_1_project (Conv2D)    (None, 56, 56, 24)           2304      ['block_1_depthwise_relu[0][0]\n",
      "                                                                    ']                            \n",
      "                                                                                                  \n",
      " block_1_project_BN (BatchN  (None, 56, 56, 24)           96        ['block_1_project[0][0]']     \n",
      " ormalization)                                                                                    \n",
      "                                                                                                  \n",
      " block_2_expand (Conv2D)     (None, 56, 56, 144)          3456      ['block_1_project_BN[0][0]']  \n",
      "                                                                                                  \n",
      " block_2_expand_BN (BatchNo  (None, 56, 56, 144)          576       ['block_2_expand[0][0]']      \n",
      " rmalization)                                                                                     \n",
      "                                                                                                  \n",
      " block_2_expand_relu (ReLU)  (None, 56, 56, 144)          0         ['block_2_expand_BN[0][0]']   \n",
      "                                                                                                  \n",
      " block_2_depthwise (Depthwi  (None, 56, 56, 144)          1296      ['block_2_expand_relu[0][0]'] \n",
      " seConv2D)                                                                                        \n",
      "                                                                                                  \n",
      " block_2_depthwise_BN (Batc  (None, 56, 56, 144)          576       ['block_2_depthwise[0][0]']   \n",
      " hNormalization)                                                                                  \n",
      "                                                                                                  \n",
      " block_2_depthwise_relu (Re  (None, 56, 56, 144)          0         ['block_2_depthwise_BN[0][0]']\n",
      " LU)                                                                                              \n",
      "                                                                                                  \n",
      " block_2_project (Conv2D)    (None, 56, 56, 24)           3456      ['block_2_depthwise_relu[0][0]\n",
      "                                                                    ']                            \n",
      "                                                                                                  \n",
      " block_2_project_BN (BatchN  (None, 56, 56, 24)           96        ['block_2_project[0][0]']     \n",
      " ormalization)                                                                                    \n",
      "                                                                                                  \n",
      " block_2_add (Add)           (None, 56, 56, 24)           0         ['block_1_project_BN[0][0]',  \n",
      "                                                                     'block_2_project_BN[0][0]']  \n",
      "                                                                                                  \n",
      " block_3_expand (Conv2D)     (None, 56, 56, 144)          3456      ['block_2_add[0][0]']         \n",
      "                                                                                                  \n",
      " block_3_expand_BN (BatchNo  (None, 56, 56, 144)          576       ['block_3_expand[0][0]']      \n"
     ]
    },
    {
     "name": "stdout",
     "output_type": "stream",
     "text": [
      " rmalization)                                                                                     \n",
      "                                                                                                  \n",
      " block_3_expand_relu (ReLU)  (None, 56, 56, 144)          0         ['block_3_expand_BN[0][0]']   \n",
      "                                                                                                  \n",
      " block_3_pad (ZeroPadding2D  (None, 57, 57, 144)          0         ['block_3_expand_relu[0][0]'] \n",
      " )                                                                                                \n",
      "                                                                                                  \n",
      " block_3_depthwise (Depthwi  (None, 28, 28, 144)          1296      ['block_3_pad[0][0]']         \n",
      " seConv2D)                                                                                        \n",
      "                                                                                                  \n",
      " block_3_depthwise_BN (Batc  (None, 28, 28, 144)          576       ['block_3_depthwise[0][0]']   \n",
      " hNormalization)                                                                                  \n",
      "                                                                                                  \n",
      " block_3_depthwise_relu (Re  (None, 28, 28, 144)          0         ['block_3_depthwise_BN[0][0]']\n",
      " LU)                                                                                              \n",
      "                                                                                                  \n",
      " block_3_project (Conv2D)    (None, 28, 28, 32)           4608      ['block_3_depthwise_relu[0][0]\n",
      "                                                                    ']                            \n",
      "                                                                                                  \n",
      " block_3_project_BN (BatchN  (None, 28, 28, 32)           128       ['block_3_project[0][0]']     \n",
      " ormalization)                                                                                    \n",
      "                                                                                                  \n",
      " block_4_expand (Conv2D)     (None, 28, 28, 192)          6144      ['block_3_project_BN[0][0]']  \n",
      "                                                                                                  \n",
      " block_4_expand_BN (BatchNo  (None, 28, 28, 192)          768       ['block_4_expand[0][0]']      \n",
      " rmalization)                                                                                     \n",
      "                                                                                                  \n",
      " block_4_expand_relu (ReLU)  (None, 28, 28, 192)          0         ['block_4_expand_BN[0][0]']   \n",
      "                                                                                                  \n",
      " block_4_depthwise (Depthwi  (None, 28, 28, 192)          1728      ['block_4_expand_relu[0][0]'] \n",
      " seConv2D)                                                                                        \n",
      "                                                                                                  \n",
      " block_4_depthwise_BN (Batc  (None, 28, 28, 192)          768       ['block_4_depthwise[0][0]']   \n",
      " hNormalization)                                                                                  \n",
      "                                                                                                  \n",
      " block_4_depthwise_relu (Re  (None, 28, 28, 192)          0         ['block_4_depthwise_BN[0][0]']\n",
      " LU)                                                                                              \n",
      "                                                                                                  \n",
      " block_4_project (Conv2D)    (None, 28, 28, 32)           6144      ['block_4_depthwise_relu[0][0]\n",
      "                                                                    ']                            \n",
      "                                                                                                  \n",
      " block_4_project_BN (BatchN  (None, 28, 28, 32)           128       ['block_4_project[0][0]']     \n",
      " ormalization)                                                                                    \n",
      "                                                                                                  \n",
      " block_4_add (Add)           (None, 28, 28, 32)           0         ['block_3_project_BN[0][0]',  \n",
      "                                                                     'block_4_project_BN[0][0]']  \n",
      "                                                                                                  \n",
      " block_5_expand (Conv2D)     (None, 28, 28, 192)          6144      ['block_4_add[0][0]']         \n",
      "                                                                                                  \n",
      " block_5_expand_BN (BatchNo  (None, 28, 28, 192)          768       ['block_5_expand[0][0]']      \n",
      " rmalization)                                                                                     \n",
      "                                                                                                  \n",
      " block_5_expand_relu (ReLU)  (None, 28, 28, 192)          0         ['block_5_expand_BN[0][0]']   \n",
      "                                                                                                  \n",
      " block_5_depthwise (Depthwi  (None, 28, 28, 192)          1728      ['block_5_expand_relu[0][0]'] \n",
      " seConv2D)                                                                                        \n",
      "                                                                                                  \n",
      " block_5_depthwise_BN (Batc  (None, 28, 28, 192)          768       ['block_5_depthwise[0][0]']   \n",
      " hNormalization)                                                                                  \n",
      "                                                                                                  \n",
      " block_5_depthwise_relu (Re  (None, 28, 28, 192)          0         ['block_5_depthwise_BN[0][0]']\n",
      " LU)                                                                                              \n",
      "                                                                                                  \n",
      " block_5_project (Conv2D)    (None, 28, 28, 32)           6144      ['block_5_depthwise_relu[0][0]\n",
      "                                                                    ']                            \n",
      "                                                                                                  \n",
      " block_5_project_BN (BatchN  (None, 28, 28, 32)           128       ['block_5_project[0][0]']     \n",
      " ormalization)                                                                                    \n",
      "                                                                                                  \n",
      " block_5_add (Add)           (None, 28, 28, 32)           0         ['block_4_add[0][0]',         \n",
      "                                                                     'block_5_project_BN[0][0]']  \n",
      "                                                                                                  \n",
      " block_6_expand (Conv2D)     (None, 28, 28, 192)          6144      ['block_5_add[0][0]']         \n",
      "                                                                                                  \n",
      " block_6_expand_BN (BatchNo  (None, 28, 28, 192)          768       ['block_6_expand[0][0]']      \n",
      " rmalization)                                                                                     \n",
      "                                                                                                  \n",
      " block_6_expand_relu (ReLU)  (None, 28, 28, 192)          0         ['block_6_expand_BN[0][0]']   \n",
      "                                                                                                  \n",
      " block_6_pad (ZeroPadding2D  (None, 29, 29, 192)          0         ['block_6_expand_relu[0][0]'] \n",
      " )                                                                                                \n",
      "                                                                                                  \n",
      " block_6_depthwise (Depthwi  (None, 14, 14, 192)          1728      ['block_6_pad[0][0]']         \n"
     ]
    },
    {
     "name": "stdout",
     "output_type": "stream",
     "text": [
      " seConv2D)                                                                                        \n",
      "                                                                                                  \n",
      " block_6_depthwise_BN (Batc  (None, 14, 14, 192)          768       ['block_6_depthwise[0][0]']   \n",
      " hNormalization)                                                                                  \n",
      "                                                                                                  \n",
      " block_6_depthwise_relu (Re  (None, 14, 14, 192)          0         ['block_6_depthwise_BN[0][0]']\n",
      " LU)                                                                                              \n",
      "                                                                                                  \n",
      " block_6_project (Conv2D)    (None, 14, 14, 64)           12288     ['block_6_depthwise_relu[0][0]\n",
      "                                                                    ']                            \n",
      "                                                                                                  \n",
      " block_6_project_BN (BatchN  (None, 14, 14, 64)           256       ['block_6_project[0][0]']     \n",
      " ormalization)                                                                                    \n",
      "                                                                                                  \n",
      " block_7_expand (Conv2D)     (None, 14, 14, 384)          24576     ['block_6_project_BN[0][0]']  \n",
      "                                                                                                  \n",
      " block_7_expand_BN (BatchNo  (None, 14, 14, 384)          1536      ['block_7_expand[0][0]']      \n",
      " rmalization)                                                                                     \n",
      "                                                                                                  \n",
      " block_7_expand_relu (ReLU)  (None, 14, 14, 384)          0         ['block_7_expand_BN[0][0]']   \n",
      "                                                                                                  \n",
      " block_7_depthwise (Depthwi  (None, 14, 14, 384)          3456      ['block_7_expand_relu[0][0]'] \n",
      " seConv2D)                                                                                        \n",
      "                                                                                                  \n",
      " block_7_depthwise_BN (Batc  (None, 14, 14, 384)          1536      ['block_7_depthwise[0][0]']   \n",
      " hNormalization)                                                                                  \n",
      "                                                                                                  \n",
      " block_7_depthwise_relu (Re  (None, 14, 14, 384)          0         ['block_7_depthwise_BN[0][0]']\n",
      " LU)                                                                                              \n",
      "                                                                                                  \n",
      " block_7_project (Conv2D)    (None, 14, 14, 64)           24576     ['block_7_depthwise_relu[0][0]\n",
      "                                                                    ']                            \n",
      "                                                                                                  \n",
      " block_7_project_BN (BatchN  (None, 14, 14, 64)           256       ['block_7_project[0][0]']     \n",
      " ormalization)                                                                                    \n",
      "                                                                                                  \n",
      " block_7_add (Add)           (None, 14, 14, 64)           0         ['block_6_project_BN[0][0]',  \n",
      "                                                                     'block_7_project_BN[0][0]']  \n",
      "                                                                                                  \n",
      " block_8_expand (Conv2D)     (None, 14, 14, 384)          24576     ['block_7_add[0][0]']         \n",
      "                                                                                                  \n",
      " block_8_expand_BN (BatchNo  (None, 14, 14, 384)          1536      ['block_8_expand[0][0]']      \n",
      " rmalization)                                                                                     \n",
      "                                                                                                  \n",
      " block_8_expand_relu (ReLU)  (None, 14, 14, 384)          0         ['block_8_expand_BN[0][0]']   \n",
      "                                                                                                  \n",
      " block_8_depthwise (Depthwi  (None, 14, 14, 384)          3456      ['block_8_expand_relu[0][0]'] \n",
      " seConv2D)                                                                                        \n",
      "                                                                                                  \n",
      " block_8_depthwise_BN (Batc  (None, 14, 14, 384)          1536      ['block_8_depthwise[0][0]']   \n",
      " hNormalization)                                                                                  \n",
      "                                                                                                  \n",
      " block_8_depthwise_relu (Re  (None, 14, 14, 384)          0         ['block_8_depthwise_BN[0][0]']\n",
      " LU)                                                                                              \n",
      "                                                                                                  \n",
      " block_8_project (Conv2D)    (None, 14, 14, 64)           24576     ['block_8_depthwise_relu[0][0]\n",
      "                                                                    ']                            \n",
      "                                                                                                  \n",
      " block_8_project_BN (BatchN  (None, 14, 14, 64)           256       ['block_8_project[0][0]']     \n",
      " ormalization)                                                                                    \n",
      "                                                                                                  \n",
      " block_8_add (Add)           (None, 14, 14, 64)           0         ['block_7_add[0][0]',         \n",
      "                                                                     'block_8_project_BN[0][0]']  \n",
      "                                                                                                  \n",
      " block_9_expand (Conv2D)     (None, 14, 14, 384)          24576     ['block_8_add[0][0]']         \n",
      "                                                                                                  \n",
      " block_9_expand_BN (BatchNo  (None, 14, 14, 384)          1536      ['block_9_expand[0][0]']      \n",
      " rmalization)                                                                                     \n",
      "                                                                                                  \n",
      " block_9_expand_relu (ReLU)  (None, 14, 14, 384)          0         ['block_9_expand_BN[0][0]']   \n",
      "                                                                                                  \n",
      " block_9_depthwise (Depthwi  (None, 14, 14, 384)          3456      ['block_9_expand_relu[0][0]'] \n",
      " seConv2D)                                                                                        \n",
      "                                                                                                  \n",
      " block_9_depthwise_BN (Batc  (None, 14, 14, 384)          1536      ['block_9_depthwise[0][0]']   \n",
      " hNormalization)                                                                                  \n",
      "                                                                                                  \n",
      " block_9_depthwise_relu (Re  (None, 14, 14, 384)          0         ['block_9_depthwise_BN[0][0]']\n",
      " LU)                                                                                              \n",
      "                                                                                                  \n",
      " block_9_project (Conv2D)    (None, 14, 14, 64)           24576     ['block_9_depthwise_relu[0][0]\n",
      "                                                                    ']                            \n",
      "                                                                                                  \n"
     ]
    },
    {
     "name": "stdout",
     "output_type": "stream",
     "text": [
      " block_9_project_BN (BatchN  (None, 14, 14, 64)           256       ['block_9_project[0][0]']     \n",
      " ormalization)                                                                                    \n",
      "                                                                                                  \n",
      " block_9_add (Add)           (None, 14, 14, 64)           0         ['block_8_add[0][0]',         \n",
      "                                                                     'block_9_project_BN[0][0]']  \n",
      "                                                                                                  \n",
      " block_10_expand (Conv2D)    (None, 14, 14, 384)          24576     ['block_9_add[0][0]']         \n",
      "                                                                                                  \n",
      " block_10_expand_BN (BatchN  (None, 14, 14, 384)          1536      ['block_10_expand[0][0]']     \n",
      " ormalization)                                                                                    \n",
      "                                                                                                  \n",
      " block_10_expand_relu (ReLU  (None, 14, 14, 384)          0         ['block_10_expand_BN[0][0]']  \n",
      " )                                                                                                \n",
      "                                                                                                  \n",
      " block_10_depthwise (Depthw  (None, 14, 14, 384)          3456      ['block_10_expand_relu[0][0]']\n",
      " iseConv2D)                                                                                       \n",
      "                                                                                                  \n",
      " block_10_depthwise_BN (Bat  (None, 14, 14, 384)          1536      ['block_10_depthwise[0][0]']  \n",
      " chNormalization)                                                                                 \n",
      "                                                                                                  \n",
      " block_10_depthwise_relu (R  (None, 14, 14, 384)          0         ['block_10_depthwise_BN[0][0]'\n",
      " eLU)                                                               ]                             \n",
      "                                                                                                  \n",
      " block_10_project (Conv2D)   (None, 14, 14, 96)           36864     ['block_10_depthwise_relu[0][0\n",
      "                                                                    ]']                           \n",
      "                                                                                                  \n",
      " block_10_project_BN (Batch  (None, 14, 14, 96)           384       ['block_10_project[0][0]']    \n",
      " Normalization)                                                                                   \n",
      "                                                                                                  \n",
      " block_11_expand (Conv2D)    (None, 14, 14, 576)          55296     ['block_10_project_BN[0][0]'] \n",
      "                                                                                                  \n",
      " block_11_expand_BN (BatchN  (None, 14, 14, 576)          2304      ['block_11_expand[0][0]']     \n",
      " ormalization)                                                                                    \n",
      "                                                                                                  \n",
      " block_11_expand_relu (ReLU  (None, 14, 14, 576)          0         ['block_11_expand_BN[0][0]']  \n",
      " )                                                                                                \n",
      "                                                                                                  \n",
      " block_11_depthwise (Depthw  (None, 14, 14, 576)          5184      ['block_11_expand_relu[0][0]']\n",
      " iseConv2D)                                                                                       \n",
      "                                                                                                  \n",
      " block_11_depthwise_BN (Bat  (None, 14, 14, 576)          2304      ['block_11_depthwise[0][0]']  \n",
      " chNormalization)                                                                                 \n",
      "                                                                                                  \n",
      " block_11_depthwise_relu (R  (None, 14, 14, 576)          0         ['block_11_depthwise_BN[0][0]'\n",
      " eLU)                                                               ]                             \n",
      "                                                                                                  \n",
      " block_11_project (Conv2D)   (None, 14, 14, 96)           55296     ['block_11_depthwise_relu[0][0\n",
      "                                                                    ]']                           \n",
      "                                                                                                  \n",
      " block_11_project_BN (Batch  (None, 14, 14, 96)           384       ['block_11_project[0][0]']    \n",
      " Normalization)                                                                                   \n",
      "                                                                                                  \n",
      " block_11_add (Add)          (None, 14, 14, 96)           0         ['block_10_project_BN[0][0]', \n",
      "                                                                     'block_11_project_BN[0][0]'] \n",
      "                                                                                                  \n",
      " block_12_expand (Conv2D)    (None, 14, 14, 576)          55296     ['block_11_add[0][0]']        \n",
      "                                                                                                  \n",
      " block_12_expand_BN (BatchN  (None, 14, 14, 576)          2304      ['block_12_expand[0][0]']     \n",
      " ormalization)                                                                                    \n",
      "                                                                                                  \n",
      " block_12_expand_relu (ReLU  (None, 14, 14, 576)          0         ['block_12_expand_BN[0][0]']  \n",
      " )                                                                                                \n",
      "                                                                                                  \n",
      " block_12_depthwise (Depthw  (None, 14, 14, 576)          5184      ['block_12_expand_relu[0][0]']\n",
      " iseConv2D)                                                                                       \n",
      "                                                                                                  \n",
      " block_12_depthwise_BN (Bat  (None, 14, 14, 576)          2304      ['block_12_depthwise[0][0]']  \n",
      " chNormalization)                                                                                 \n",
      "                                                                                                  \n",
      " block_12_depthwise_relu (R  (None, 14, 14, 576)          0         ['block_12_depthwise_BN[0][0]'\n",
      " eLU)                                                               ]                             \n",
      "                                                                                                  \n",
      " block_12_project (Conv2D)   (None, 14, 14, 96)           55296     ['block_12_depthwise_relu[0][0\n",
      "                                                                    ]']                           \n",
      "                                                                                                  \n",
      " block_12_project_BN (Batch  (None, 14, 14, 96)           384       ['block_12_project[0][0]']    \n",
      " Normalization)                                                                                   \n",
      "                                                                                                  \n",
      " block_12_add (Add)          (None, 14, 14, 96)           0         ['block_11_add[0][0]',        \n",
      "                                                                     'block_12_project_BN[0][0]'] \n",
      "                                                                                                  \n",
      " block_13_expand (Conv2D)    (None, 14, 14, 576)          55296     ['block_12_add[0][0]']        \n",
      "                                                                                                  \n"
     ]
    },
    {
     "name": "stdout",
     "output_type": "stream",
     "text": [
      " block_13_expand_BN (BatchN  (None, 14, 14, 576)          2304      ['block_13_expand[0][0]']     \n",
      " ormalization)                                                                                    \n",
      "                                                                                                  \n",
      " block_13_expand_relu (ReLU  (None, 14, 14, 576)          0         ['block_13_expand_BN[0][0]']  \n",
      " )                                                                                                \n",
      "                                                                                                  \n",
      " block_13_pad (ZeroPadding2  (None, 15, 15, 576)          0         ['block_13_expand_relu[0][0]']\n",
      " D)                                                                                               \n",
      "                                                                                                  \n",
      " block_13_depthwise (Depthw  (None, 7, 7, 576)            5184      ['block_13_pad[0][0]']        \n",
      " iseConv2D)                                                                                       \n",
      "                                                                                                  \n",
      " block_13_depthwise_BN (Bat  (None, 7, 7, 576)            2304      ['block_13_depthwise[0][0]']  \n",
      " chNormalization)                                                                                 \n",
      "                                                                                                  \n",
      " block_13_depthwise_relu (R  (None, 7, 7, 576)            0         ['block_13_depthwise_BN[0][0]'\n",
      " eLU)                                                               ]                             \n",
      "                                                                                                  \n",
      " block_13_project (Conv2D)   (None, 7, 7, 160)            92160     ['block_13_depthwise_relu[0][0\n",
      "                                                                    ]']                           \n",
      "                                                                                                  \n",
      " block_13_project_BN (Batch  (None, 7, 7, 160)            640       ['block_13_project[0][0]']    \n",
      " Normalization)                                                                                   \n",
      "                                                                                                  \n",
      " block_14_expand (Conv2D)    (None, 7, 7, 960)            153600    ['block_13_project_BN[0][0]'] \n",
      "                                                                                                  \n",
      " block_14_expand_BN (BatchN  (None, 7, 7, 960)            3840      ['block_14_expand[0][0]']     \n",
      " ormalization)                                                                                    \n",
      "                                                                                                  \n",
      " block_14_expand_relu (ReLU  (None, 7, 7, 960)            0         ['block_14_expand_BN[0][0]']  \n",
      " )                                                                                                \n",
      "                                                                                                  \n",
      " block_14_depthwise (Depthw  (None, 7, 7, 960)            8640      ['block_14_expand_relu[0][0]']\n",
      " iseConv2D)                                                                                       \n",
      "                                                                                                  \n",
      " block_14_depthwise_BN (Bat  (None, 7, 7, 960)            3840      ['block_14_depthwise[0][0]']  \n",
      " chNormalization)                                                                                 \n",
      "                                                                                                  \n",
      " block_14_depthwise_relu (R  (None, 7, 7, 960)            0         ['block_14_depthwise_BN[0][0]'\n",
      " eLU)                                                               ]                             \n",
      "                                                                                                  \n",
      " block_14_project (Conv2D)   (None, 7, 7, 160)            153600    ['block_14_depthwise_relu[0][0\n",
      "                                                                    ]']                           \n",
      "                                                                                                  \n",
      " block_14_project_BN (Batch  (None, 7, 7, 160)            640       ['block_14_project[0][0]']    \n",
      " Normalization)                                                                                   \n",
      "                                                                                                  \n",
      " block_14_add (Add)          (None, 7, 7, 160)            0         ['block_13_project_BN[0][0]', \n",
      "                                                                     'block_14_project_BN[0][0]'] \n",
      "                                                                                                  \n",
      " block_15_expand (Conv2D)    (None, 7, 7, 960)            153600    ['block_14_add[0][0]']        \n",
      "                                                                                                  \n",
      " block_15_expand_BN (BatchN  (None, 7, 7, 960)            3840      ['block_15_expand[0][0]']     \n",
      " ormalization)                                                                                    \n",
      "                                                                                                  \n",
      " block_15_expand_relu (ReLU  (None, 7, 7, 960)            0         ['block_15_expand_BN[0][0]']  \n",
      " )                                                                                                \n",
      "                                                                                                  \n",
      " block_15_depthwise (Depthw  (None, 7, 7, 960)            8640      ['block_15_expand_relu[0][0]']\n",
      " iseConv2D)                                                                                       \n",
      "                                                                                                  \n",
      " block_15_depthwise_BN (Bat  (None, 7, 7, 960)            3840      ['block_15_depthwise[0][0]']  \n",
      " chNormalization)                                                                                 \n",
      "                                                                                                  \n",
      " block_15_depthwise_relu (R  (None, 7, 7, 960)            0         ['block_15_depthwise_BN[0][0]'\n",
      " eLU)                                                               ]                             \n",
      "                                                                                                  \n",
      " block_15_project (Conv2D)   (None, 7, 7, 160)            153600    ['block_15_depthwise_relu[0][0\n",
      "                                                                    ]']                           \n",
      "                                                                                                  \n",
      " block_15_project_BN (Batch  (None, 7, 7, 160)            640       ['block_15_project[0][0]']    \n",
      " Normalization)                                                                                   \n",
      "                                                                                                  \n",
      " block_15_add (Add)          (None, 7, 7, 160)            0         ['block_14_add[0][0]',        \n",
      "                                                                     'block_15_project_BN[0][0]'] \n",
      "                                                                                                  \n",
      " block_16_expand (Conv2D)    (None, 7, 7, 960)            153600    ['block_15_add[0][0]']        \n",
      "                                                                                                  \n",
      " block_16_expand_BN (BatchN  (None, 7, 7, 960)            3840      ['block_16_expand[0][0]']     \n",
      " ormalization)                                                                                    \n",
      "                                                                                                  \n",
      " block_16_expand_relu (ReLU  (None, 7, 7, 960)            0         ['block_16_expand_BN[0][0]']  \n",
      " )                                                                                                \n"
     ]
    },
    {
     "name": "stdout",
     "output_type": "stream",
     "text": [
      "                                                                                                  \n",
      " block_16_depthwise (Depthw  (None, 7, 7, 960)            8640      ['block_16_expand_relu[0][0]']\n",
      " iseConv2D)                                                                                       \n",
      "                                                                                                  \n",
      " block_16_depthwise_BN (Bat  (None, 7, 7, 960)            3840      ['block_16_depthwise[0][0]']  \n",
      " chNormalization)                                                                                 \n",
      "                                                                                                  \n",
      " block_16_depthwise_relu (R  (None, 7, 7, 960)            0         ['block_16_depthwise_BN[0][0]'\n",
      " eLU)                                                               ]                             \n",
      "                                                                                                  \n",
      " block_16_project (Conv2D)   (None, 7, 7, 320)            307200    ['block_16_depthwise_relu[0][0\n",
      "                                                                    ]']                           \n",
      "                                                                                                  \n",
      " block_16_project_BN (Batch  (None, 7, 7, 320)            1280      ['block_16_project[0][0]']    \n",
      " Normalization)                                                                                   \n",
      "                                                                                                  \n",
      " Conv_1 (Conv2D)             (None, 7, 7, 1280)           409600    ['block_16_project_BN[0][0]'] \n",
      "                                                                                                  \n",
      " Conv_1_bn (BatchNormalizat  (None, 7, 7, 1280)           5120      ['Conv_1[0][0]']              \n",
      " ion)                                                                                             \n",
      "                                                                                                  \n",
      " out_relu (ReLU)             (None, 7, 7, 1280)           0         ['Conv_1_bn[0][0]']           \n",
      "                                                                                                  \n",
      "==================================================================================================\n",
      "Total params: 2257984 (8.61 MB)\n",
      "Trainable params: 0 (0.00 Byte)\n",
      "Non-trainable params: 2257984 (8.61 MB)\n",
      "__________________________________________________________________________________________________\n"
     ]
    }
   ],
   "source": [
    "base_model = tf.keras.models.load_model('base_model')\n",
    "base_model.summary()"
   ]
  },
  {
   "cell_type": "code",
   "execution_count": 14,
   "id": "ccd1aaf1",
   "metadata": {},
   "outputs": [
    {
     "name": "stdout",
     "output_type": "stream",
     "text": [
      "Found 384 images belonging to 6 classes.\n",
      "Found 96 images belonging to 6 classes.\n",
      "Found 151 images belonging to 6 classes.\n"
     ]
    }
   ],
   "source": [
    "train_image_generator = ImageDataGenerator(rescale=1./255, validation_split=0.2, rotation_range=60, \n",
    "                                           zoom_range=0.2, shear_range=0.2, width_shift_range=0.2,\n",
    "                                          height_shift_range=0.2, horizontal_flip=True,\n",
    "                                          preprocessing_function=tf.keras.applications.mobilenet_v2.preprocess_input)\n",
    "test_image_generator = ImageDataGenerator(rescale=1./255,\n",
    "                                         preprocessing_function=tf.keras.applications.mobilenet_v2.preprocess_input)\n",
    "\n",
    "target_size = (224, 224)\n",
    "train_data_generator = train_image_generator.flow_from_directory(train_dir, \n",
    "                                                                 target_size=target_size, subset='training', shuffle=True)\n",
    "\n",
    "validation_data_generator = train_image_generator.flow_from_directory(train_dir, \n",
    "                                                                 target_size=target_size, subset='validation', shuffle=True)\n",
    "\n",
    "test_data_generator = test_image_generator.flow_from_directory(test_dir, target_size=target_size)\n"
   ]
  },
  {
   "cell_type": "code",
   "execution_count": 15,
   "id": "34fd91a0",
   "metadata": {},
   "outputs": [
    {
     "name": "stdout",
     "output_type": "stream",
     "text": [
      "Model: \"model\"\n",
      "_________________________________________________________________\n",
      " Layer (type)                Output Shape              Param #   \n",
      "=================================================================\n",
      " input_1 (InputLayer)        [(None, 224, 224, 3)]     0         \n",
      "                                                                 \n",
      " mobilenetv2_1.00_224 (Func  (None, 7, 7, 1280)        2257984   \n",
      " tional)                                                         \n",
      "                                                                 \n",
      " global_max_pooling2d (Glob  (None, 1280)              0         \n",
      " alMaxPooling2D)                                                 \n",
      "                                                                 \n",
      " dense_2 (Dense)             (None, 6)                 7686      \n",
      "                                                                 \n",
      "=================================================================\n",
      "Total params: 2265670 (8.64 MB)\n",
      "Trainable params: 7686 (30.02 KB)\n",
      "Non-trainable params: 2257984 (8.61 MB)\n",
      "_________________________________________________________________\n"
     ]
    }
   ],
   "source": [
    "inputs = Input(shape=(224, 224, 3))\n",
    "x = base_model(inputs, training=False)\n",
    "p = GlobalMaxPooling2D()(x)\n",
    "outputs = Dense(6, activation='softmax')(p)\n",
    "\n",
    "model = Model(inputs, outputs)\n",
    "model.compile(optimizer='adam', loss='categorical_crossentropy', metrics=['accuracy'])\n",
    "model.summary()"
   ]
  },
  {
   "cell_type": "code",
   "execution_count": 16,
   "id": "9772da76",
   "metadata": {},
   "outputs": [
    {
     "name": "stdout",
     "output_type": "stream",
     "text": [
      "Epoch 1/3\n",
      "12/12 [==============================] - ETA: 0s - loss: 2.5448 - accuracy: 0.1901INFO:tensorflow:Assets written to: best_tl_model\\assets\n"
     ]
    },
    {
     "name": "stderr",
     "output_type": "stream",
     "text": [
      "INFO:tensorflow:Assets written to: best_tl_model\\assets\n"
     ]
    },
    {
     "name": "stdout",
     "output_type": "stream",
     "text": [
      "12/12 [==============================] - 29s 2s/step - loss: 2.5448 - accuracy: 0.1901 - val_loss: 2.0071 - val_accuracy: 0.1979\n",
      "Epoch 2/3\n",
      "12/12 [==============================] - ETA: 0s - loss: 1.7968 - accuracy: 0.2682INFO:tensorflow:Assets written to: best_tl_model\\assets\n"
     ]
    },
    {
     "name": "stderr",
     "output_type": "stream",
     "text": [
      "INFO:tensorflow:Assets written to: best_tl_model\\assets\n"
     ]
    },
    {
     "name": "stdout",
     "output_type": "stream",
     "text": [
      "12/12 [==============================] - 25s 2s/step - loss: 1.7968 - accuracy: 0.2682 - val_loss: 1.6987 - val_accuracy: 0.2604\n",
      "Epoch 3/3\n",
      "12/12 [==============================] - ETA: 0s - loss: 1.7847 - accuracy: 0.3021INFO:tensorflow:Assets written to: best_tl_model\\assets\n"
     ]
    },
    {
     "name": "stderr",
     "output_type": "stream",
     "text": [
      "INFO:tensorflow:Assets written to: best_tl_model\\assets\n"
     ]
    },
    {
     "name": "stdout",
     "output_type": "stream",
     "text": [
      "\b\b\b\b\b\b\b\b\b\b\b\b\b\b\b\b\b\b\b\b\b\b\b\b\b\b\b\b\b\b\b\b\b\b\b\b\b\b\b\b\b\b\b\b\b\b\b\b\b\b\b\b\b\b\b\b\b\b\b\b\b\b\b\b\b\b\b\b\b\b\b\b\b\b\b\b\b\b\b\b\b\b\r",
      "12/12 [==============================] - 26s 2s/step - loss: 1.7847 - accuracy: 0.3021 - val_loss: 1.6595 - val_accuracy: 0.3333\n"
     ]
    },
    {
     "data": {
      "text/plain": [
       "<keras.src.callbacks.History at 0x1fc6bd161f0>"
      ]
     },
     "execution_count": 16,
     "metadata": {},
     "output_type": "execute_result"
    }
   ],
   "source": [
    "model_checkpoint = ModelCheckpoint(filepath='best_tl_model', save_best_only=True)\n",
    "model.fit(train_data_generator, validation_data=validation_data_generator, epochs=3, \n",
    "          callbacks=[early_stop, model_checkpoint])"
   ]
  },
  {
   "cell_type": "code",
   "execution_count": 19,
   "id": "ba07c9ac",
   "metadata": {},
   "outputs": [
    {
     "name": "stdout",
     "output_type": "stream",
     "text": [
      "5/5 [==============================] - 3s 468ms/step - loss: 1.8026 - accuracy: 0.1854\n",
      "TL Accuracy: 0.19\n"
     ]
    }
   ],
   "source": [
    "loss, accuracy = model.evaluate(test_data_generator)\n",
    "print(f'TL Accuracy: {accuracy:.2f}')"
   ]
  },
  {
   "cell_type": "markdown",
   "id": "ff500e18",
   "metadata": {},
   "source": [
    "#### Section C: Question 5:    (15 Marks)\n",
    "\n",
    "<u>**The Problem Statement**</u>\n",
    "\n",
    "The human gastrointestinal (GI) tract is made up of different sections, one of them being the large bowel. Several types of anomalies and diseases can affect the large bowel, such as colorectal cancer. Colorectal cancer is the second most common cancer type among women and third most common among men. Polyps are precursors to colorectal cancer, and is found in nearly half of the individuals at age 50 having a screening colonoscopy, and are increasing with age. Colonoscopy is the gold standard for detection and assessment of these polyps with subsequent biopsy and removal of the polyps. Early disease detection has a huge impact on survival from colorectal cancer, and polyp detection is therefore important. In addition, several studies have shown that polyps are often overlooked during colonoscopies, with polyp miss rates of 14%-30% depending on the type and size of the polyps. Increasing the detection of polyps has been shown to decrease risk of colorectal cancer. Thus, automatic detection of more polyps at an early stage can play a crucial role in improving both prevention of and survival from colorectal cancer.\n",
    "\n",
    "<u> **Dataset Details** </u> \n",
    "\n",
    "The dataset contains 247 polyp images and their corresponding masks.The resolution of the images varies from 332x487 to 1920x1072 pixels. The images and its corresponding masks are stored in two separate folders. Find the dataset under the folder **“polyp_segmentation_dataset”**.\n",
    "\n",
    "<u> **The Task** </u> \n",
    "\n",
    "Develop a Semantic segmentation model using Unet architecture on the given dataset.\n",
    "\n",
    "Students can make use of pre-trained Unet segmentation model using the library\n",
    " - **import segmentation_models as sm**\n",
    "\n",
    "<u> **Hints** </u>\n",
    "\n",
    "1. Load all the images in one array of size 247x128x128x1\n",
    "    Where 247 is total number of trained images,\n",
    "    128x128x1 is each image size\n",
    "2. Load all the masks in one array of size 247x128x128x1\n",
    "3. Scale both the above two arrays\n",
    "4. Split the data into train and test\n",
    "5. Define the pre-trained segmentation model. Use encoder_weight=None, If internet access is not available.\n",
    "6. Compile with appropriate loss and metric and fit the data into it.\n",
    "7. Reduce the batch_size to 1 or 2, if you get any memory related error \n",
    "\n",
    "**Run the model for minimum 2 epochs and present your result. The solution will be evaluated based on approach only as it take lot of epochs to produce good result.**\n"
   ]
  },
  {
   "cell_type": "code",
   "execution_count": 20,
   "id": "349ab304",
   "metadata": {},
   "outputs": [],
   "source": [
    "image_dir= 'polyp_segmentation_dataset/images/'\n",
    "mask_dir = 'polyp_segmentation_dataset/masks/'"
   ]
  },
  {
   "cell_type": "code",
   "execution_count": 41,
   "id": "f64b9d05",
   "metadata": {},
   "outputs": [
    {
     "name": "stdout",
     "output_type": "stream",
     "text": [
      "247\n",
      "247\n"
     ]
    }
   ],
   "source": [
    "size = 128\n",
    "image_dataset = []\n",
    "mask_dataset = []\n",
    "\n",
    "images = os.listdir(image_dir)\n",
    "print(len(images))\n",
    "\n",
    "for _, image_name in enumerate(images):\n",
    "    if image_name.split('.')[-1]== 'jpg':\n",
    "        image = cv2.imread(image_dir + image_name, cv2.IMREAD_COLOR)\n",
    "        image = Image.fromarray(image)\n",
    "        image = image.resize((size, size))\n",
    "        image_dataset.append(np.array(image))\n",
    "\n",
    "\n",
    "masks = os.listdir(mask_dir)\n",
    "print(len(masks))\n",
    "\n",
    "for _, image_name in enumerate(masks):\n",
    "    if image_name.split('.')[-1]== 'jpg':\n",
    "        image = cv2.imread(mask_dir + image_name, cv2.IMREAD_GRAYSCALE)\n",
    "        image = cv2.resize(image, (size, size))\n",
    "        (threshold, bwimage) = cv2.threshold(image, 127, 255, cv2.THRESH_BINARY)\n",
    "        image = Image.fromarray(bwimage)\n",
    "        mask_dataset.append(np.array(bwimage))"
   ]
  },
  {
   "cell_type": "code",
   "execution_count": 42,
   "id": "5566a231",
   "metadata": {},
   "outputs": [
    {
     "data": {
      "text/plain": [
       "(247, 128, 128, 3)"
      ]
     },
     "execution_count": 42,
     "metadata": {},
     "output_type": "execute_result"
    }
   ],
   "source": [
    "import numpy as np\n",
    "image_dataset = np.array(image_dataset)\n",
    "image_dataset.shape"
   ]
  },
  {
   "cell_type": "code",
   "execution_count": 43,
   "id": "3c89552a",
   "metadata": {},
   "outputs": [
    {
     "data": {
      "text/plain": [
       "(247, 128, 128, 1)"
      ]
     },
     "execution_count": 43,
     "metadata": {},
     "output_type": "execute_result"
    }
   ],
   "source": [
    "mask_dataset = np.array(mask_dataset)\n",
    "mask_dataset = np.where(mask_dataset > 0.5, 1, 0).astype('float32')\n",
    "mask_dataset = np.expand_dims(mask_dataset, axis=3)\n",
    "mask_dataset.shape"
   ]
  },
  {
   "cell_type": "code",
   "execution_count": 50,
   "id": "40ebbf82",
   "metadata": {},
   "outputs": [],
   "source": [
    "x_train, x_test, y_train, y_test = train_test_split(image_dataset, mask_dataset, test_size=0.2, random_state=43)\n",
    "\n",
    "backbone = 'resnet34'\n",
    "processing_func = sm.get_preprocessing(backbone)\n",
    "x_train_preprocessed = processing_func(x_train)\n",
    "x_test_preprocessed = processing_func(x_test)"
   ]
  },
  {
   "cell_type": "code",
   "execution_count": 45,
   "id": "c8f87743",
   "metadata": {},
   "outputs": [
    {
     "data": {
      "image/png": "[encoded data removed]",
      "text/plain": [
       "<Figure size 640x480 with 2 Axes>"
      ]
     },
     "metadata": {},
     "output_type": "display_data"
    }
   ],
   "source": [
    "n = np.random.randint(1, len(image_dataset))\n",
    "\n",
    "plt.subplot(1, 2, 1)\n",
    "plt.imshow(image_dataset[n, :, :, :])\n",
    "\n",
    "plt.subplot(1, 2, 2)\n",
    "plt.imshow(mask_dataset[n, :, :, :], cmap='gray')\n",
    "\n",
    "plt.tight_layout()\n",
    "plt.show()"
   ]
  },
  {
   "cell_type": "code",
   "execution_count": 52,
   "id": "9d555966",
   "metadata": {},
   "outputs": [
    {
     "name": "stdout",
     "output_type": "stream",
     "text": [
      "Model: \"model_3\"\n",
      "__________________________________________________________________________________________________\n",
      " Layer (type)                Output Shape                 Param #   Connected to                  \n",
      "==================================================================================================\n",
      " data (InputLayer)           [(None, 128, 128, 3)]        0         []                            \n",
      "                                                                                                  \n",
      " bn_data (BatchNormalizatio  (None, 128, 128, 3)          9         ['data[0][0]']                \n",
      " n)                                                                                               \n",
      "                                                                                                  \n",
      " zero_padding2d_34 (ZeroPad  (None, 134, 134, 3)          0         ['bn_data[0][0]']             \n",
      " ding2D)                                                                                          \n",
      "                                                                                                  \n",
      " conv0 (Conv2D)              (None, 64, 64, 64)           9408      ['zero_padding2d_34[0][0]']   \n",
      "                                                                                                  \n",
      " bn0 (BatchNormalization)    (None, 64, 64, 64)           256       ['conv0[0][0]']               \n",
      "                                                                                                  \n",
      " relu0 (Activation)          (None, 64, 64, 64)           0         ['bn0[0][0]']                 \n",
      "                                                                                                  \n",
      " zero_padding2d_35 (ZeroPad  (None, 66, 66, 64)           0         ['relu0[0][0]']               \n",
      " ding2D)                                                                                          \n",
      "                                                                                                  \n",
      " pooling0 (MaxPooling2D)     (None, 32, 32, 64)           0         ['zero_padding2d_35[0][0]']   \n",
      "                                                                                                  \n",
      " stage1_unit1_bn1 (BatchNor  (None, 32, 32, 64)           256       ['pooling0[0][0]']            \n",
      " malization)                                                                                      \n",
      "                                                                                                  \n",
      " stage1_unit1_relu1 (Activa  (None, 32, 32, 64)           0         ['stage1_unit1_bn1[0][0]']    \n",
      " tion)                                                                                            \n",
      "                                                                                                  \n",
      " zero_padding2d_36 (ZeroPad  (None, 34, 34, 64)           0         ['stage1_unit1_relu1[0][0]']  \n",
      " ding2D)                                                                                          \n",
      "                                                                                                  \n",
      " stage1_unit1_conv1 (Conv2D  (None, 32, 32, 64)           36864     ['zero_padding2d_36[0][0]']   \n",
      " )                                                                                                \n",
      "                                                                                                  \n",
      " stage1_unit1_bn2 (BatchNor  (None, 32, 32, 64)           256       ['stage1_unit1_conv1[0][0]']  \n",
      " malization)                                                                                      \n",
      "                                                                                                  \n",
      " stage1_unit1_relu2 (Activa  (None, 32, 32, 64)           0         ['stage1_unit1_bn2[0][0]']    \n",
      " tion)                                                                                            \n",
      "                                                                                                  \n",
      " zero_padding2d_37 (ZeroPad  (None, 34, 34, 64)           0         ['stage1_unit1_relu2[0][0]']  \n",
      " ding2D)                                                                                          \n",
      "                                                                                                  \n",
      " stage1_unit1_conv2 (Conv2D  (None, 32, 32, 64)           36864     ['zero_padding2d_37[0][0]']   \n",
      " )                                                                                                \n",
      "                                                                                                  \n",
      " stage1_unit1_sc (Conv2D)    (None, 32, 32, 64)           4096      ['stage1_unit1_relu1[0][0]']  \n",
      "                                                                                                  \n",
      " add_16 (Add)                (None, 32, 32, 64)           0         ['stage1_unit1_conv2[0][0]',  \n",
      "                                                                     'stage1_unit1_sc[0][0]']     \n",
      "                                                                                                  \n",
      " stage1_unit2_bn1 (BatchNor  (None, 32, 32, 64)           256       ['add_16[0][0]']              \n",
      " malization)                                                                                      \n",
      "                                                                                                  \n",
      " stage1_unit2_relu1 (Activa  (None, 32, 32, 64)           0         ['stage1_unit2_bn1[0][0]']    \n",
      " tion)                                                                                            \n",
      "                                                                                                  \n",
      " zero_padding2d_38 (ZeroPad  (None, 34, 34, 64)           0         ['stage1_unit2_relu1[0][0]']  \n",
      " ding2D)                                                                                          \n",
      "                                                                                                  \n",
      " stage1_unit2_conv1 (Conv2D  (None, 32, 32, 64)           36864     ['zero_padding2d_38[0][0]']   \n",
      " )                                                                                                \n",
      "                                                                                                  \n",
      " stage1_unit2_bn2 (BatchNor  (None, 32, 32, 64)           256       ['stage1_unit2_conv1[0][0]']  \n",
      " malization)                                                                                      \n",
      "                                                                                                  \n",
      " stage1_unit2_relu2 (Activa  (None, 32, 32, 64)           0         ['stage1_unit2_bn2[0][0]']    \n",
      " tion)                                                                                            \n",
      "                                                                                                  \n",
      " zero_padding2d_39 (ZeroPad  (None, 34, 34, 64)           0         ['stage1_unit2_relu2[0][0]']  \n",
      " ding2D)                                                                                          \n",
      "                                                                                                  \n",
      " stage1_unit2_conv2 (Conv2D  (None, 32, 32, 64)           36864     ['zero_padding2d_39[0][0]']   \n",
      " )                                                                                                \n",
      "                                                                                                  \n",
      " add_17 (Add)                (None, 32, 32, 64)           0         ['stage1_unit2_conv2[0][0]',  \n",
      "                                                                     'add_16[0][0]']              \n",
      "                                                                                                  \n",
      " stage1_unit3_bn1 (BatchNor  (None, 32, 32, 64)           256       ['add_17[0][0]']              \n",
      " malization)                                                                                      \n",
      "                                                                                                  \n",
      " stage1_unit3_relu1 (Activa  (None, 32, 32, 64)           0         ['stage1_unit3_bn1[0][0]']    \n",
      " tion)                                                                                            \n"
     ]
    },
    {
     "name": "stdout",
     "output_type": "stream",
     "text": [
      "                                                                                                  \n",
      " zero_padding2d_40 (ZeroPad  (None, 34, 34, 64)           0         ['stage1_unit3_relu1[0][0]']  \n",
      " ding2D)                                                                                          \n",
      "                                                                                                  \n",
      " stage1_unit3_conv1 (Conv2D  (None, 32, 32, 64)           36864     ['zero_padding2d_40[0][0]']   \n",
      " )                                                                                                \n",
      "                                                                                                  \n",
      " stage1_unit3_bn2 (BatchNor  (None, 32, 32, 64)           256       ['stage1_unit3_conv1[0][0]']  \n",
      " malization)                                                                                      \n",
      "                                                                                                  \n",
      " stage1_unit3_relu2 (Activa  (None, 32, 32, 64)           0         ['stage1_unit3_bn2[0][0]']    \n",
      " tion)                                                                                            \n",
      "                                                                                                  \n",
      " zero_padding2d_41 (ZeroPad  (None, 34, 34, 64)           0         ['stage1_unit3_relu2[0][0]']  \n",
      " ding2D)                                                                                          \n",
      "                                                                                                  \n",
      " stage1_unit3_conv2 (Conv2D  (None, 32, 32, 64)           36864     ['zero_padding2d_41[0][0]']   \n",
      " )                                                                                                \n",
      "                                                                                                  \n",
      " add_18 (Add)                (None, 32, 32, 64)           0         ['stage1_unit3_conv2[0][0]',  \n",
      "                                                                     'add_17[0][0]']              \n",
      "                                                                                                  \n",
      " stage2_unit1_bn1 (BatchNor  (None, 32, 32, 64)           256       ['add_18[0][0]']              \n",
      " malization)                                                                                      \n",
      "                                                                                                  \n",
      " stage2_unit1_relu1 (Activa  (None, 32, 32, 64)           0         ['stage2_unit1_bn1[0][0]']    \n",
      " tion)                                                                                            \n",
      "                                                                                                  \n",
      " zero_padding2d_42 (ZeroPad  (None, 34, 34, 64)           0         ['stage2_unit1_relu1[0][0]']  \n",
      " ding2D)                                                                                          \n",
      "                                                                                                  \n",
      " stage2_unit1_conv1 (Conv2D  (None, 16, 16, 128)          73728     ['zero_padding2d_42[0][0]']   \n",
      " )                                                                                                \n",
      "                                                                                                  \n",
      " stage2_unit1_bn2 (BatchNor  (None, 16, 16, 128)          512       ['stage2_unit1_conv1[0][0]']  \n",
      " malization)                                                                                      \n",
      "                                                                                                  \n",
      " stage2_unit1_relu2 (Activa  (None, 16, 16, 128)          0         ['stage2_unit1_bn2[0][0]']    \n",
      " tion)                                                                                            \n",
      "                                                                                                  \n",
      " zero_padding2d_43 (ZeroPad  (None, 18, 18, 128)          0         ['stage2_unit1_relu2[0][0]']  \n",
      " ding2D)                                                                                          \n",
      "                                                                                                  \n",
      " stage2_unit1_conv2 (Conv2D  (None, 16, 16, 128)          147456    ['zero_padding2d_43[0][0]']   \n",
      " )                                                                                                \n",
      "                                                                                                  \n",
      " stage2_unit1_sc (Conv2D)    (None, 16, 16, 128)          8192      ['stage2_unit1_relu1[0][0]']  \n",
      "                                                                                                  \n",
      " add_19 (Add)                (None, 16, 16, 128)          0         ['stage2_unit1_conv2[0][0]',  \n",
      "                                                                     'stage2_unit1_sc[0][0]']     \n",
      "                                                                                                  \n",
      " stage2_unit2_bn1 (BatchNor  (None, 16, 16, 128)          512       ['add_19[0][0]']              \n",
      " malization)                                                                                      \n",
      "                                                                                                  \n",
      " stage2_unit2_relu1 (Activa  (None, 16, 16, 128)          0         ['stage2_unit2_bn1[0][0]']    \n",
      " tion)                                                                                            \n",
      "                                                                                                  \n",
      " zero_padding2d_44 (ZeroPad  (None, 18, 18, 128)          0         ['stage2_unit2_relu1[0][0]']  \n",
      " ding2D)                                                                                          \n",
      "                                                                                                  \n",
      " stage2_unit2_conv1 (Conv2D  (None, 16, 16, 128)          147456    ['zero_padding2d_44[0][0]']   \n",
      " )                                                                                                \n",
      "                                                                                                  \n",
      " stage2_unit2_bn2 (BatchNor  (None, 16, 16, 128)          512       ['stage2_unit2_conv1[0][0]']  \n",
      " malization)                                                                                      \n",
      "                                                                                                  \n",
      " stage2_unit2_relu2 (Activa  (None, 16, 16, 128)          0         ['stage2_unit2_bn2[0][0]']    \n",
      " tion)                                                                                            \n",
      "                                                                                                  \n",
      " zero_padding2d_45 (ZeroPad  (None, 18, 18, 128)          0         ['stage2_unit2_relu2[0][0]']  \n",
      " ding2D)                                                                                          \n",
      "                                                                                                  \n",
      " stage2_unit2_conv2 (Conv2D  (None, 16, 16, 128)          147456    ['zero_padding2d_45[0][0]']   \n",
      " )                                                                                                \n",
      "                                                                                                  \n",
      " add_20 (Add)                (None, 16, 16, 128)          0         ['stage2_unit2_conv2[0][0]',  \n",
      "                                                                     'add_19[0][0]']              \n",
      "                                                                                                  \n",
      " stage2_unit3_bn1 (BatchNor  (None, 16, 16, 128)          512       ['add_20[0][0]']              \n",
      " malization)                                                                                      \n",
      "                                                                                                  \n",
      " stage2_unit3_relu1 (Activa  (None, 16, 16, 128)          0         ['stage2_unit3_bn1[0][0]']    \n",
      " tion)                                                                                            \n"
     ]
    },
    {
     "name": "stdout",
     "output_type": "stream",
     "text": [
      "                                                                                                  \n",
      " zero_padding2d_46 (ZeroPad  (None, 18, 18, 128)          0         ['stage2_unit3_relu1[0][0]']  \n",
      " ding2D)                                                                                          \n",
      "                                                                                                  \n",
      " stage2_unit3_conv1 (Conv2D  (None, 16, 16, 128)          147456    ['zero_padding2d_46[0][0]']   \n",
      " )                                                                                                \n",
      "                                                                                                  \n",
      " stage2_unit3_bn2 (BatchNor  (None, 16, 16, 128)          512       ['stage2_unit3_conv1[0][0]']  \n",
      " malization)                                                                                      \n",
      "                                                                                                  \n",
      " stage2_unit3_relu2 (Activa  (None, 16, 16, 128)          0         ['stage2_unit3_bn2[0][0]']    \n",
      " tion)                                                                                            \n",
      "                                                                                                  \n",
      " zero_padding2d_47 (ZeroPad  (None, 18, 18, 128)          0         ['stage2_unit3_relu2[0][0]']  \n",
      " ding2D)                                                                                          \n",
      "                                                                                                  \n",
      " stage2_unit3_conv2 (Conv2D  (None, 16, 16, 128)          147456    ['zero_padding2d_47[0][0]']   \n",
      " )                                                                                                \n",
      "                                                                                                  \n",
      " add_21 (Add)                (None, 16, 16, 128)          0         ['stage2_unit3_conv2[0][0]',  \n",
      "                                                                     'add_20[0][0]']              \n",
      "                                                                                                  \n",
      " stage2_unit4_bn1 (BatchNor  (None, 16, 16, 128)          512       ['add_21[0][0]']              \n",
      " malization)                                                                                      \n",
      "                                                                                                  \n",
      " stage2_unit4_relu1 (Activa  (None, 16, 16, 128)          0         ['stage2_unit4_bn1[0][0]']    \n",
      " tion)                                                                                            \n",
      "                                                                                                  \n",
      " zero_padding2d_48 (ZeroPad  (None, 18, 18, 128)          0         ['stage2_unit4_relu1[0][0]']  \n",
      " ding2D)                                                                                          \n",
      "                                                                                                  \n",
      " stage2_unit4_conv1 (Conv2D  (None, 16, 16, 128)          147456    ['zero_padding2d_48[0][0]']   \n",
      " )                                                                                                \n",
      "                                                                                                  \n",
      " stage2_unit4_bn2 (BatchNor  (None, 16, 16, 128)          512       ['stage2_unit4_conv1[0][0]']  \n",
      " malization)                                                                                      \n",
      "                                                                                                  \n",
      " stage2_unit4_relu2 (Activa  (None, 16, 16, 128)          0         ['stage2_unit4_bn2[0][0]']    \n",
      " tion)                                                                                            \n",
      "                                                                                                  \n",
      " zero_padding2d_49 (ZeroPad  (None, 18, 18, 128)          0         ['stage2_unit4_relu2[0][0]']  \n",
      " ding2D)                                                                                          \n",
      "                                                                                                  \n",
      " stage2_unit4_conv2 (Conv2D  (None, 16, 16, 128)          147456    ['zero_padding2d_49[0][0]']   \n",
      " )                                                                                                \n",
      "                                                                                                  \n",
      " add_22 (Add)                (None, 16, 16, 128)          0         ['stage2_unit4_conv2[0][0]',  \n",
      "                                                                     'add_21[0][0]']              \n",
      "                                                                                                  \n",
      " stage3_unit1_bn1 (BatchNor  (None, 16, 16, 128)          512       ['add_22[0][0]']              \n",
      " malization)                                                                                      \n",
      "                                                                                                  \n",
      " stage3_unit1_relu1 (Activa  (None, 16, 16, 128)          0         ['stage3_unit1_bn1[0][0]']    \n",
      " tion)                                                                                            \n",
      "                                                                                                  \n",
      " zero_padding2d_50 (ZeroPad  (None, 18, 18, 128)          0         ['stage3_unit1_relu1[0][0]']  \n",
      " ding2D)                                                                                          \n",
      "                                                                                                  \n",
      " stage3_unit1_conv1 (Conv2D  (None, 8, 8, 256)            294912    ['zero_padding2d_50[0][0]']   \n",
      " )                                                                                                \n",
      "                                                                                                  \n",
      " stage3_unit1_bn2 (BatchNor  (None, 8, 8, 256)            1024      ['stage3_unit1_conv1[0][0]']  \n",
      " malization)                                                                                      \n",
      "                                                                                                  \n",
      " stage3_unit1_relu2 (Activa  (None, 8, 8, 256)            0         ['stage3_unit1_bn2[0][0]']    \n",
      " tion)                                                                                            \n",
      "                                                                                                  \n",
      " zero_padding2d_51 (ZeroPad  (None, 10, 10, 256)          0         ['stage3_unit1_relu2[0][0]']  \n",
      " ding2D)                                                                                          \n",
      "                                                                                                  \n",
      " stage3_unit1_conv2 (Conv2D  (None, 8, 8, 256)            589824    ['zero_padding2d_51[0][0]']   \n",
      " )                                                                                                \n",
      "                                                                                                  \n",
      " stage3_unit1_sc (Conv2D)    (None, 8, 8, 256)            32768     ['stage3_unit1_relu1[0][0]']  \n",
      "                                                                                                  \n",
      " add_23 (Add)                (None, 8, 8, 256)            0         ['stage3_unit1_conv2[0][0]',  \n",
      "                                                                     'stage3_unit1_sc[0][0]']     \n",
      "                                                                                                  \n",
      " stage3_unit2_bn1 (BatchNor  (None, 8, 8, 256)            1024      ['add_23[0][0]']              \n",
      " malization)                                                                                      \n",
      "                                                                                                  \n",
      " stage3_unit2_relu1 (Activa  (None, 8, 8, 256)            0         ['stage3_unit2_bn1[0][0]']    \n",
      " tion)                                                                                            \n"
     ]
    },
    {
     "name": "stdout",
     "output_type": "stream",
     "text": [
      "                                                                                                  \n",
      " zero_padding2d_52 (ZeroPad  (None, 10, 10, 256)          0         ['stage3_unit2_relu1[0][0]']  \n",
      " ding2D)                                                                                          \n",
      "                                                                                                  \n",
      " stage3_unit2_conv1 (Conv2D  (None, 8, 8, 256)            589824    ['zero_padding2d_52[0][0]']   \n",
      " )                                                                                                \n",
      "                                                                                                  \n",
      " stage3_unit2_bn2 (BatchNor  (None, 8, 8, 256)            1024      ['stage3_unit2_conv1[0][0]']  \n",
      " malization)                                                                                      \n",
      "                                                                                                  \n",
      " stage3_unit2_relu2 (Activa  (None, 8, 8, 256)            0         ['stage3_unit2_bn2[0][0]']    \n",
      " tion)                                                                                            \n",
      "                                                                                                  \n",
      " zero_padding2d_53 (ZeroPad  (None, 10, 10, 256)          0         ['stage3_unit2_relu2[0][0]']  \n",
      " ding2D)                                                                                          \n",
      "                                                                                                  \n",
      " stage3_unit2_conv2 (Conv2D  (None, 8, 8, 256)            589824    ['zero_padding2d_53[0][0]']   \n",
      " )                                                                                                \n",
      "                                                                                                  \n",
      " add_24 (Add)                (None, 8, 8, 256)            0         ['stage3_unit2_conv2[0][0]',  \n",
      "                                                                     'add_23[0][0]']              \n",
      "                                                                                                  \n",
      " stage3_unit3_bn1 (BatchNor  (None, 8, 8, 256)            1024      ['add_24[0][0]']              \n",
      " malization)                                                                                      \n",
      "                                                                                                  \n",
      " stage3_unit3_relu1 (Activa  (None, 8, 8, 256)            0         ['stage3_unit3_bn1[0][0]']    \n",
      " tion)                                                                                            \n",
      "                                                                                                  \n",
      " zero_padding2d_54 (ZeroPad  (None, 10, 10, 256)          0         ['stage3_unit3_relu1[0][0]']  \n",
      " ding2D)                                                                                          \n",
      "                                                                                                  \n",
      " stage3_unit3_conv1 (Conv2D  (None, 8, 8, 256)            589824    ['zero_padding2d_54[0][0]']   \n",
      " )                                                                                                \n",
      "                                                                                                  \n",
      " stage3_unit3_bn2 (BatchNor  (None, 8, 8, 256)            1024      ['stage3_unit3_conv1[0][0]']  \n",
      " malization)                                                                                      \n",
      "                                                                                                  \n",
      " stage3_unit3_relu2 (Activa  (None, 8, 8, 256)            0         ['stage3_unit3_bn2[0][0]']    \n",
      " tion)                                                                                            \n",
      "                                                                                                  \n",
      " zero_padding2d_55 (ZeroPad  (None, 10, 10, 256)          0         ['stage3_unit3_relu2[0][0]']  \n",
      " ding2D)                                                                                          \n",
      "                                                                                                  \n",
      " stage3_unit3_conv2 (Conv2D  (None, 8, 8, 256)            589824    ['zero_padding2d_55[0][0]']   \n",
      " )                                                                                                \n",
      "                                                                                                  \n",
      " add_25 (Add)                (None, 8, 8, 256)            0         ['stage3_unit3_conv2[0][0]',  \n",
      "                                                                     'add_24[0][0]']              \n",
      "                                                                                                  \n",
      " stage3_unit4_bn1 (BatchNor  (None, 8, 8, 256)            1024      ['add_25[0][0]']              \n",
      " malization)                                                                                      \n",
      "                                                                                                  \n",
      " stage3_unit4_relu1 (Activa  (None, 8, 8, 256)            0         ['stage3_unit4_bn1[0][0]']    \n",
      " tion)                                                                                            \n",
      "                                                                                                  \n",
      " zero_padding2d_56 (ZeroPad  (None, 10, 10, 256)          0         ['stage3_unit4_relu1[0][0]']  \n",
      " ding2D)                                                                                          \n",
      "                                                                                                  \n",
      " stage3_unit4_conv1 (Conv2D  (None, 8, 8, 256)            589824    ['zero_padding2d_56[0][0]']   \n",
      " )                                                                                                \n",
      "                                                                                                  \n",
      " stage3_unit4_bn2 (BatchNor  (None, 8, 8, 256)            1024      ['stage3_unit4_conv1[0][0]']  \n",
      " malization)                                                                                      \n",
      "                                                                                                  \n",
      " stage3_unit4_relu2 (Activa  (None, 8, 8, 256)            0         ['stage3_unit4_bn2[0][0]']    \n",
      " tion)                                                                                            \n",
      "                                                                                                  \n",
      " zero_padding2d_57 (ZeroPad  (None, 10, 10, 256)          0         ['stage3_unit4_relu2[0][0]']  \n",
      " ding2D)                                                                                          \n",
      "                                                                                                  \n",
      " stage3_unit4_conv2 (Conv2D  (None, 8, 8, 256)            589824    ['zero_padding2d_57[0][0]']   \n",
      " )                                                                                                \n",
      "                                                                                                  \n",
      " add_26 (Add)                (None, 8, 8, 256)            0         ['stage3_unit4_conv2[0][0]',  \n",
      "                                                                     'add_25[0][0]']              \n",
      "                                                                                                  \n",
      " stage3_unit5_bn1 (BatchNor  (None, 8, 8, 256)            1024      ['add_26[0][0]']              \n",
      " malization)                                                                                      \n",
      "                                                                                                  \n",
      " stage3_unit5_relu1 (Activa  (None, 8, 8, 256)            0         ['stage3_unit5_bn1[0][0]']    \n",
      " tion)                                                                                            \n",
      "                                                                                                  \n",
      " zero_padding2d_58 (ZeroPad  (None, 10, 10, 256)          0         ['stage3_unit5_relu1[0][0]']  \n"
     ]
    },
    {
     "name": "stdout",
     "output_type": "stream",
     "text": [
      " ding2D)                                                                                          \n",
      "                                                                                                  \n",
      " stage3_unit5_conv1 (Conv2D  (None, 8, 8, 256)            589824    ['zero_padding2d_58[0][0]']   \n",
      " )                                                                                                \n",
      "                                                                                                  \n",
      " stage3_unit5_bn2 (BatchNor  (None, 8, 8, 256)            1024      ['stage3_unit5_conv1[0][0]']  \n",
      " malization)                                                                                      \n",
      "                                                                                                  \n",
      " stage3_unit5_relu2 (Activa  (None, 8, 8, 256)            0         ['stage3_unit5_bn2[0][0]']    \n",
      " tion)                                                                                            \n",
      "                                                                                                  \n",
      " zero_padding2d_59 (ZeroPad  (None, 10, 10, 256)          0         ['stage3_unit5_relu2[0][0]']  \n",
      " ding2D)                                                                                          \n",
      "                                                                                                  \n",
      " stage3_unit5_conv2 (Conv2D  (None, 8, 8, 256)            589824    ['zero_padding2d_59[0][0]']   \n",
      " )                                                                                                \n",
      "                                                                                                  \n",
      " add_27 (Add)                (None, 8, 8, 256)            0         ['stage3_unit5_conv2[0][0]',  \n",
      "                                                                     'add_26[0][0]']              \n",
      "                                                                                                  \n",
      " stage3_unit6_bn1 (BatchNor  (None, 8, 8, 256)            1024      ['add_27[0][0]']              \n",
      " malization)                                                                                      \n",
      "                                                                                                  \n",
      " stage3_unit6_relu1 (Activa  (None, 8, 8, 256)            0         ['stage3_unit6_bn1[0][0]']    \n",
      " tion)                                                                                            \n",
      "                                                                                                  \n",
      " zero_padding2d_60 (ZeroPad  (None, 10, 10, 256)          0         ['stage3_unit6_relu1[0][0]']  \n",
      " ding2D)                                                                                          \n",
      "                                                                                                  \n",
      " stage3_unit6_conv1 (Conv2D  (None, 8, 8, 256)            589824    ['zero_padding2d_60[0][0]']   \n",
      " )                                                                                                \n",
      "                                                                                                  \n",
      " stage3_unit6_bn2 (BatchNor  (None, 8, 8, 256)            1024      ['stage3_unit6_conv1[0][0]']  \n",
      " malization)                                                                                      \n",
      "                                                                                                  \n",
      " stage3_unit6_relu2 (Activa  (None, 8, 8, 256)            0         ['stage3_unit6_bn2[0][0]']    \n",
      " tion)                                                                                            \n",
      "                                                                                                  \n",
      " zero_padding2d_61 (ZeroPad  (None, 10, 10, 256)          0         ['stage3_unit6_relu2[0][0]']  \n",
      " ding2D)                                                                                          \n",
      "                                                                                                  \n",
      " stage3_unit6_conv2 (Conv2D  (None, 8, 8, 256)            589824    ['zero_padding2d_61[0][0]']   \n",
      " )                                                                                                \n",
      "                                                                                                  \n",
      " add_28 (Add)                (None, 8, 8, 256)            0         ['stage3_unit6_conv2[0][0]',  \n",
      "                                                                     'add_27[0][0]']              \n",
      "                                                                                                  \n",
      " stage4_unit1_bn1 (BatchNor  (None, 8, 8, 256)            1024      ['add_28[0][0]']              \n",
      " malization)                                                                                      \n",
      "                                                                                                  \n",
      " stage4_unit1_relu1 (Activa  (None, 8, 8, 256)            0         ['stage4_unit1_bn1[0][0]']    \n",
      " tion)                                                                                            \n",
      "                                                                                                  \n",
      " zero_padding2d_62 (ZeroPad  (None, 10, 10, 256)          0         ['stage4_unit1_relu1[0][0]']  \n",
      " ding2D)                                                                                          \n",
      "                                                                                                  \n",
      " stage4_unit1_conv1 (Conv2D  (None, 4, 4, 512)            1179648   ['zero_padding2d_62[0][0]']   \n",
      " )                                                                                                \n",
      "                                                                                                  \n",
      " stage4_unit1_bn2 (BatchNor  (None, 4, 4, 512)            2048      ['stage4_unit1_conv1[0][0]']  \n",
      " malization)                                                                                      \n",
      "                                                                                                  \n",
      " stage4_unit1_relu2 (Activa  (None, 4, 4, 512)            0         ['stage4_unit1_bn2[0][0]']    \n",
      " tion)                                                                                            \n",
      "                                                                                                  \n",
      " zero_padding2d_63 (ZeroPad  (None, 6, 6, 512)            0         ['stage4_unit1_relu2[0][0]']  \n",
      " ding2D)                                                                                          \n",
      "                                                                                                  \n",
      " stage4_unit1_conv2 (Conv2D  (None, 4, 4, 512)            2359296   ['zero_padding2d_63[0][0]']   \n",
      " )                                                                                                \n",
      "                                                                                                  \n",
      " stage4_unit1_sc (Conv2D)    (None, 4, 4, 512)            131072    ['stage4_unit1_relu1[0][0]']  \n",
      "                                                                                                  \n",
      " add_29 (Add)                (None, 4, 4, 512)            0         ['stage4_unit1_conv2[0][0]',  \n",
      "                                                                     'stage4_unit1_sc[0][0]']     \n",
      "                                                                                                  \n",
      " stage4_unit2_bn1 (BatchNor  (None, 4, 4, 512)            2048      ['add_29[0][0]']              \n",
      " malization)                                                                                      \n",
      "                                                                                                  \n",
      " stage4_unit2_relu1 (Activa  (None, 4, 4, 512)            0         ['stage4_unit2_bn1[0][0]']    \n",
      " tion)                                                                                            \n",
      "                                                                                                  \n",
      " zero_padding2d_64 (ZeroPad  (None, 6, 6, 512)            0         ['stage4_unit2_relu1[0][0]']  \n"
     ]
    },
    {
     "name": "stdout",
     "output_type": "stream",
     "text": [
      " ding2D)                                                                                          \n",
      "                                                                                                  \n",
      " stage4_unit2_conv1 (Conv2D  (None, 4, 4, 512)            2359296   ['zero_padding2d_64[0][0]']   \n",
      " )                                                                                                \n",
      "                                                                                                  \n",
      " stage4_unit2_bn2 (BatchNor  (None, 4, 4, 512)            2048      ['stage4_unit2_conv1[0][0]']  \n",
      " malization)                                                                                      \n",
      "                                                                                                  \n",
      " stage4_unit2_relu2 (Activa  (None, 4, 4, 512)            0         ['stage4_unit2_bn2[0][0]']    \n",
      " tion)                                                                                            \n",
      "                                                                                                  \n",
      " zero_padding2d_65 (ZeroPad  (None, 6, 6, 512)            0         ['stage4_unit2_relu2[0][0]']  \n",
      " ding2D)                                                                                          \n",
      "                                                                                                  \n",
      " stage4_unit2_conv2 (Conv2D  (None, 4, 4, 512)            2359296   ['zero_padding2d_65[0][0]']   \n",
      " )                                                                                                \n",
      "                                                                                                  \n",
      " add_30 (Add)                (None, 4, 4, 512)            0         ['stage4_unit2_conv2[0][0]',  \n",
      "                                                                     'add_29[0][0]']              \n",
      "                                                                                                  \n",
      " stage4_unit3_bn1 (BatchNor  (None, 4, 4, 512)            2048      ['add_30[0][0]']              \n",
      " malization)                                                                                      \n",
      "                                                                                                  \n",
      " stage4_unit3_relu1 (Activa  (None, 4, 4, 512)            0         ['stage4_unit3_bn1[0][0]']    \n",
      " tion)                                                                                            \n",
      "                                                                                                  \n",
      " zero_padding2d_66 (ZeroPad  (None, 6, 6, 512)            0         ['stage4_unit3_relu1[0][0]']  \n",
      " ding2D)                                                                                          \n",
      "                                                                                                  \n",
      " stage4_unit3_conv1 (Conv2D  (None, 4, 4, 512)            2359296   ['zero_padding2d_66[0][0]']   \n",
      " )                                                                                                \n",
      "                                                                                                  \n",
      " stage4_unit3_bn2 (BatchNor  (None, 4, 4, 512)            2048      ['stage4_unit3_conv1[0][0]']  \n",
      " malization)                                                                                      \n",
      "                                                                                                  \n",
      " stage4_unit3_relu2 (Activa  (None, 4, 4, 512)            0         ['stage4_unit3_bn2[0][0]']    \n",
      " tion)                                                                                            \n",
      "                                                                                                  \n",
      " zero_padding2d_67 (ZeroPad  (None, 6, 6, 512)            0         ['stage4_unit3_relu2[0][0]']  \n",
      " ding2D)                                                                                          \n",
      "                                                                                                  \n",
      " stage4_unit3_conv2 (Conv2D  (None, 4, 4, 512)            2359296   ['zero_padding2d_67[0][0]']   \n",
      " )                                                                                                \n",
      "                                                                                                  \n",
      " add_31 (Add)                (None, 4, 4, 512)            0         ['stage4_unit3_conv2[0][0]',  \n",
      "                                                                     'add_30[0][0]']              \n",
      "                                                                                                  \n",
      " bn1 (BatchNormalization)    (None, 4, 4, 512)            2048      ['add_31[0][0]']              \n",
      "                                                                                                  \n",
      " relu1 (Activation)          (None, 4, 4, 512)            0         ['bn1[0][0]']                 \n",
      "                                                                                                  \n",
      " decoder_stage0_upsampling   (None, 8, 8, 512)            0         ['relu1[0][0]']               \n",
      " (UpSampling2D)                                                                                   \n",
      "                                                                                                  \n",
      " decoder_stage0_concat (Con  (None, 8, 8, 768)            0         ['decoder_stage0_upsampling[0]\n",
      " catenate)                                                          [0]',                         \n",
      "                                                                     'stage4_unit1_relu1[0][0]']  \n",
      "                                                                                                  \n",
      " decoder_stage0a_conv (Conv  (None, 8, 8, 256)            1769472   ['decoder_stage0_concat[0][0]'\n",
      " 2D)                                                                ]                             \n",
      "                                                                                                  \n",
      " decoder_stage0a_bn (BatchN  (None, 8, 8, 256)            1024      ['decoder_stage0a_conv[0][0]']\n",
      " ormalization)                                                                                    \n",
      "                                                                                                  \n",
      " decoder_stage0a_relu (Acti  (None, 8, 8, 256)            0         ['decoder_stage0a_bn[0][0]']  \n",
      " vation)                                                                                          \n",
      "                                                                                                  \n",
      " decoder_stage0b_conv (Conv  (None, 8, 8, 256)            589824    ['decoder_stage0a_relu[0][0]']\n",
      " 2D)                                                                                              \n",
      "                                                                                                  \n",
      " decoder_stage0b_bn (BatchN  (None, 8, 8, 256)            1024      ['decoder_stage0b_conv[0][0]']\n",
      " ormalization)                                                                                    \n",
      "                                                                                                  \n",
      " decoder_stage0b_relu (Acti  (None, 8, 8, 256)            0         ['decoder_stage0b_bn[0][0]']  \n",
      " vation)                                                                                          \n",
      "                                                                                                  \n",
      " decoder_stage1_upsampling   (None, 16, 16, 256)          0         ['decoder_stage0b_relu[0][0]']\n",
      " (UpSampling2D)                                                                                   \n",
      "                                                                                                  \n",
      " decoder_stage1_concat (Con  (None, 16, 16, 384)          0         ['decoder_stage1_upsampling[0]\n",
      " catenate)                                                          [0]',                         \n",
      "                                                                     'stage3_unit1_relu1[0][0]']  \n",
      "                                                                                                  \n"
     ]
    },
    {
     "name": "stdout",
     "output_type": "stream",
     "text": [
      " decoder_stage1a_conv (Conv  (None, 16, 16, 128)          442368    ['decoder_stage1_concat[0][0]'\n",
      " 2D)                                                                ]                             \n",
      "                                                                                                  \n",
      " decoder_stage1a_bn (BatchN  (None, 16, 16, 128)          512       ['decoder_stage1a_conv[0][0]']\n",
      " ormalization)                                                                                    \n",
      "                                                                                                  \n",
      " decoder_stage1a_relu (Acti  (None, 16, 16, 128)          0         ['decoder_stage1a_bn[0][0]']  \n",
      " vation)                                                                                          \n",
      "                                                                                                  \n",
      " decoder_stage1b_conv (Conv  (None, 16, 16, 128)          147456    ['decoder_stage1a_relu[0][0]']\n",
      " 2D)                                                                                              \n",
      "                                                                                                  \n",
      " decoder_stage1b_bn (BatchN  (None, 16, 16, 128)          512       ['decoder_stage1b_conv[0][0]']\n",
      " ormalization)                                                                                    \n",
      "                                                                                                  \n",
      " decoder_stage1b_relu (Acti  (None, 16, 16, 128)          0         ['decoder_stage1b_bn[0][0]']  \n",
      " vation)                                                                                          \n",
      "                                                                                                  \n",
      " decoder_stage2_upsampling   (None, 32, 32, 128)          0         ['decoder_stage1b_relu[0][0]']\n",
      " (UpSampling2D)                                                                                   \n",
      "                                                                                                  \n",
      " decoder_stage2_concat (Con  (None, 32, 32, 192)          0         ['decoder_stage2_upsampling[0]\n",
      " catenate)                                                          [0]',                         \n",
      "                                                                     'stage2_unit1_relu1[0][0]']  \n",
      "                                                                                                  \n",
      " decoder_stage2a_conv (Conv  (None, 32, 32, 64)           110592    ['decoder_stage2_concat[0][0]'\n",
      " 2D)                                                                ]                             \n",
      "                                                                                                  \n",
      " decoder_stage2a_bn (BatchN  (None, 32, 32, 64)           256       ['decoder_stage2a_conv[0][0]']\n",
      " ormalization)                                                                                    \n",
      "                                                                                                  \n",
      " decoder_stage2a_relu (Acti  (None, 32, 32, 64)           0         ['decoder_stage2a_bn[0][0]']  \n",
      " vation)                                                                                          \n",
      "                                                                                                  \n",
      " decoder_stage2b_conv (Conv  (None, 32, 32, 64)           36864     ['decoder_stage2a_relu[0][0]']\n",
      " 2D)                                                                                              \n",
      "                                                                                                  \n",
      " decoder_stage2b_bn (BatchN  (None, 32, 32, 64)           256       ['decoder_stage2b_conv[0][0]']\n",
      " ormalization)                                                                                    \n",
      "                                                                                                  \n",
      " decoder_stage2b_relu (Acti  (None, 32, 32, 64)           0         ['decoder_stage2b_bn[0][0]']  \n",
      " vation)                                                                                          \n",
      "                                                                                                  \n",
      " decoder_stage3_upsampling   (None, 64, 64, 64)           0         ['decoder_stage2b_relu[0][0]']\n",
      " (UpSampling2D)                                                                                   \n",
      "                                                                                                  \n",
      " decoder_stage3_concat (Con  (None, 64, 64, 128)          0         ['decoder_stage3_upsampling[0]\n",
      " catenate)                                                          [0]',                         \n",
      "                                                                     'relu0[0][0]']               \n",
      "                                                                                                  \n",
      " decoder_stage3a_conv (Conv  (None, 64, 64, 32)           36864     ['decoder_stage3_concat[0][0]'\n",
      " 2D)                                                                ]                             \n",
      "                                                                                                  \n",
      " decoder_stage3a_bn (BatchN  (None, 64, 64, 32)           128       ['decoder_stage3a_conv[0][0]']\n",
      " ormalization)                                                                                    \n",
      "                                                                                                  \n",
      " decoder_stage3a_relu (Acti  (None, 64, 64, 32)           0         ['decoder_stage3a_bn[0][0]']  \n",
      " vation)                                                                                          \n",
      "                                                                                                  \n",
      " decoder_stage3b_conv (Conv  (None, 64, 64, 32)           9216      ['decoder_stage3a_relu[0][0]']\n",
      " 2D)                                                                                              \n",
      "                                                                                                  \n",
      " decoder_stage3b_bn (BatchN  (None, 64, 64, 32)           128       ['decoder_stage3b_conv[0][0]']\n",
      " ormalization)                                                                                    \n",
      "                                                                                                  \n",
      " decoder_stage3b_relu (Acti  (None, 64, 64, 32)           0         ['decoder_stage3b_bn[0][0]']  \n",
      " vation)                                                                                          \n",
      "                                                                                                  \n",
      " decoder_stage4_upsampling   (None, 128, 128, 32)         0         ['decoder_stage3b_relu[0][0]']\n",
      " (UpSampling2D)                                                                                   \n",
      "                                                                                                  \n",
      " decoder_stage4a_conv (Conv  (None, 128, 128, 16)         4608      ['decoder_stage4_upsampling[0]\n",
      " 2D)                                                                [0]']                         \n",
      "                                                                                                  \n",
      " decoder_stage4a_bn (BatchN  (None, 128, 128, 16)         64        ['decoder_stage4a_conv[0][0]']\n",
      " ormalization)                                                                                    \n",
      "                                                                                                  \n",
      " decoder_stage4a_relu (Acti  (None, 128, 128, 16)         0         ['decoder_stage4a_bn[0][0]']  \n",
      " vation)                                                                                          \n",
      "                                                                                                  \n",
      " decoder_stage4b_conv (Conv  (None, 128, 128, 16)         2304      ['decoder_stage4a_relu[0][0]']\n",
      " 2D)                                                                                              \n",
      "                                                                                                  \n"
     ]
    },
    {
     "name": "stdout",
     "output_type": "stream",
     "text": [
      " decoder_stage4b_bn (BatchN  (None, 128, 128, 16)         64        ['decoder_stage4b_conv[0][0]']\n",
      " ormalization)                                                                                    \n",
      "                                                                                                  \n",
      " decoder_stage4b_relu (Acti  (None, 128, 128, 16)         0         ['decoder_stage4b_bn[0][0]']  \n",
      " vation)                                                                                          \n",
      "                                                                                                  \n",
      " final_conv (Conv2D)         (None, 128, 128, 1)          145       ['decoder_stage4b_relu[0][0]']\n",
      "                                                                                                  \n",
      " sigmoid (Activation)        (None, 128, 128, 1)          0         ['final_conv[0][0]']          \n",
      "                                                                                                  \n",
      "==================================================================================================\n",
      "Total params: 24456154 (93.29 MB)\n",
      "Trainable params: 24438804 (93.23 MB)\n",
      "Non-trainable params: 17350 (67.77 KB)\n",
      "__________________________________________________________________________________________________\n"
     ]
    }
   ],
   "source": [
    "model = sm.Unet(backbone_name=backbone, encoder_weights=None, classes=1, activation='sigmoid', input_shape=(128, 128, 3))\n",
    "\n",
    "model.compile(optimizer='adam', loss=sm.losses.bce_jaccard_loss, metrics=[sm.metrics.iou_score])\n",
    "model.summary()"
   ]
  },
  {
   "cell_type": "code",
   "execution_count": 53,
   "id": "a47b52b7",
   "metadata": {},
   "outputs": [
    {
     "name": "stdout",
     "output_type": "stream",
     "text": [
      "Epoch 1/10\n",
      "7/7 [==============================] - ETA: 0s - loss: 1.4514 - iou_score: 0.1665INFO:tensorflow:Assets written to: best_tl_model\\assets\n"
     ]
    },
    {
     "name": "stderr",
     "output_type": "stream",
     "text": [
      "INFO:tensorflow:Assets written to: best_tl_model\\assets\n"
     ]
    },
    {
     "name": "stdout",
     "output_type": "stream",
     "text": [
      "7/7 [==============================] - 60s 8s/step - loss: 1.4514 - iou_score: 0.1665 - val_loss: 101456.1406 - val_iou_score: 0.0018\n",
      "Epoch 2/10\n",
      "7/7 [==============================] - ETA: 0s - loss: 1.2292 - iou_score: 0.2159INFO:tensorflow:Assets written to: best_tl_model\\assets\n"
     ]
    },
    {
     "name": "stderr",
     "output_type": "stream",
     "text": [
      "INFO:tensorflow:Assets written to: best_tl_model\\assets\n"
     ]
    },
    {
     "name": "stdout",
     "output_type": "stream",
     "text": [
      "7/7 [==============================] - 48s 7s/step - loss: 1.2292 - iou_score: 0.2159 - val_loss: 53822.0859 - val_iou_score: 0.1944\n",
      "Epoch 3/10\n",
      "7/7 [==============================] - 30s 4s/step - loss: 1.1034 - iou_score: 0.2437 - val_loss: 129535.7891 - val_iou_score: 0.1875\n",
      "Epoch 4/10\n",
      "7/7 [==============================] - ETA: 0s - loss: 0.9861 - iou_score: 0.3127INFO:tensorflow:Assets written to: best_tl_model\\assets\n"
     ]
    },
    {
     "name": "stderr",
     "output_type": "stream",
     "text": [
      "INFO:tensorflow:Assets written to: best_tl_model\\assets\n"
     ]
    },
    {
     "name": "stdout",
     "output_type": "stream",
     "text": [
      "7/7 [==============================] - 48s 7s/step - loss: 0.9861 - iou_score: 0.3127 - val_loss: 17729.1992 - val_iou_score: 0.1612\n",
      "Epoch 5/10\n",
      "7/7 [==============================] - ETA: 0s - loss: 0.9939 - iou_score: 0.3146     INFO:tensorflow:Assets written to: best_tl_model\\assets\n"
     ]
    },
    {
     "name": "stderr",
     "output_type": "stream",
     "text": [
      "INFO:tensorflow:Assets written to: best_tl_model\\assets\n"
     ]
    },
    {
     "name": "stdout",
     "output_type": "stream",
     "text": [
      "7/7 [==============================] - 32659s 5442s/step - loss: 0.9939 - iou_score: 0.3146 - val_loss: 17333.1406 - val_iou_score: 0.1818\n",
      "Epoch 6/10\n",
      "7/7 [==============================] - ETA: 0s - loss: 0.9186 - iou_score: 0.3710INFO:tensorflow:Assets written to: best_tl_model\\assets\n"
     ]
    },
    {
     "name": "stderr",
     "output_type": "stream",
     "text": [
      "INFO:tensorflow:Assets written to: best_tl_model\\assets\n"
     ]
    },
    {
     "name": "stdout",
     "output_type": "stream",
     "text": [
      "7/7 [==============================] - 58s 9s/step - loss: 0.9186 - iou_score: 0.3710 - val_loss: 3781.3691 - val_iou_score: 0.2026\n",
      "Epoch 7/10\n",
      "7/7 [==============================] - 33s 5s/step - loss: 0.8506 - iou_score: 0.4062 - val_loss: 10873.7646 - val_iou_score: 0.1793\n",
      "Epoch 8/10\n",
      "7/7 [==============================] - ETA: 0s - loss: 0.8360 - iou_score: 0.4055INFO:tensorflow:Assets written to: best_tl_model\\assets\n"
     ]
    },
    {
     "name": "stderr",
     "output_type": "stream",
     "text": [
      "INFO:tensorflow:Assets written to: best_tl_model\\assets\n"
     ]
    },
    {
     "name": "stdout",
     "output_type": "stream",
     "text": [
      "7/7 [==============================] - 58s 9s/step - loss: 0.8360 - iou_score: 0.4055 - val_loss: 1755.2108 - val_iou_score: 0.1701\n",
      "Epoch 9/10\n",
      "7/7 [==============================] - ETA: 0s - loss: 0.7363 - iou_score: 0.4685INFO:tensorflow:Assets written to: best_tl_model\\assets\n"
     ]
    },
    {
     "name": "stderr",
     "output_type": "stream",
     "text": [
      "INFO:tensorflow:Assets written to: best_tl_model\\assets\n"
     ]
    },
    {
     "name": "stdout",
     "output_type": "stream",
     "text": [
      "7/7 [==============================] - 69s 11s/step - loss: 0.7363 - iou_score: 0.4685 - val_loss: 1055.6040 - val_iou_score: 0.1860\n",
      "Epoch 10/10\n",
      "7/7 [==============================] - ETA: 0s - loss: 0.7267 - iou_score: 0.5009INFO:tensorflow:Assets written to: best_tl_model\\assets\n"
     ]
    },
    {
     "name": "stderr",
     "output_type": "stream",
     "text": [
      "INFO:tensorflow:Assets written to: best_tl_model\\assets\n"
     ]
    },
    {
     "name": "stdout",
     "output_type": "stream",
     "text": [
      "\b\b\b\b\b\b\b\b\b\b\b\b\b\b\b\b\b\b\b\b\b\b\b\b\b\b\b\b\b\b\b\b\b\b\b\b\b\b\b\b\b\b\b\b\b\b\b\b\b\b\b\b\b\b\b\b\b\b\b\b\b\b\b\b\b\b\b\b\b\b\b\b\b\b\b\b\b\b\b\b\b\r",
      "7/7 [==============================] - 54s 8s/step - loss: 0.7267 - iou_score: 0.5009 - val_loss: 121.4727 - val_iou_score: 0.1584\n"
     ]
    },
    {
     "data": {
      "text/plain": [
       "<keras.src.callbacks.History at 0x1fc6bb1e3a0>"
      ]
     },
     "execution_count": 53,
     "metadata": {},
     "output_type": "execute_result"
    }
   ],
   "source": [
    "early_stop = EarlyStopping(restore_best_weights=True, patience=10, min_delta=0.01)\n",
    "model_checkpoint = ModelCheckpoint(filepath='best_tl_model', save_best_only=True)\n",
    "\n",
    "model.fit(x_train_prepprocessed, y_train, epochs=10, \n",
    "          callbacks=[early_stop, model_checkpoint], validation_data=(x_test_preprocessed, y_test))"
   ]
  },
  {
   "cell_type": "code",
   "execution_count": 54,
   "id": "68033ff2",
   "metadata": {},
   "outputs": [
    {
     "name": "stdout",
     "output_type": "stream",
     "text": [
      "(1, 128, 128, 3)\n",
      "1/1 [==============================] - 1s 877ms/step\n",
      "(1, 128, 128, 1)\n"
     ]
    }
   ],
   "source": [
    "n1 = np.random.randint(0, len(x_test))\n",
    "test_image = x_test_preprocessed[n1]\n",
    "test_image_input = np.expand_dims(test_image, axis=0)\n",
    "print(test_image_input.shape)\n",
    "\n",
    "predicted_image = model.predict(test_image_input)\n",
    "print(predicted_image.shape)\n",
    "predicted_image = (predicted_image[0, :, :, 0] > 0.5).astype(np.uint8)"
   ]
  },
  {
   "cell_type": "code",
   "execution_count": 55,
   "id": "d8679edc",
   "metadata": {},
   "outputs": [
    {
     "data": {
      "image/png": "[encoded data removed]",
      "text/plain": [
       "<Figure size 640x480 with 3 Axes>"
      ]
     },
     "metadata": {},
     "output_type": "display_data"
    }
   ],
   "source": [
    "plt.subplot(1, 3, 1)\n",
    "plt.title('Original Image')\n",
    "plt.imshow(test_image[:, :, :])\n",
    "\n",
    "plt.subplot(1, 3, 2)\n",
    "plt.title('Ground truth mask image')\n",
    "plt.imshow(y_test[n1][:, :, :], cmap='gray')\n",
    "\n",
    "plt.subplot(1, 3, 3)\n",
    "plt.title('Predicted mask image')\n",
    "plt.imshow(predicted_image, cmap='gray')\n",
    "\n",
    "plt.tight_layout()\n",
    "plt.show()"
   ]
  }
 ],
 "metadata": {
  "kernelspec": {
   "display_name": "Python 3 (ipykernel)",
   "language": "python",
   "name": "python3"
  },
  "language_info": {
   "codemirror_mode": {
    "name": "ipython",
    "version": 3
   },
   "file_extension": ".py",
   "mimetype": "text/x-python",
   "name": "python",
   "nbconvert_exporter": "python",
   "pygments_lexer": "ipython3",
   "version": "3.11.7"
  }
 },
 "nbformat": 4,
 "nbformat_minor": 5
}
