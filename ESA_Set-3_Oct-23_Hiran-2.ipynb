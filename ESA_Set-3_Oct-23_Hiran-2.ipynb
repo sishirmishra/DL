{
 "cells": [
  {
   "cell_type": "markdown",
   "id": "816a3628-cbee-4d57-8a13-4d5b7510525a",
   "metadata": {},
   "source": [
    "### Oct 2023: END SEMESTER ASSESSMENT (ESA) \n",
    "## M TECH DATA SCIENCE AND MACHINE LEARNING_ SEMESTER II\n",
    "\n",
    "### UE20CS935: Introduction to Deep Learning and Applications\n"
   ]
  },
  {
   "cell_type": "markdown",
   "id": "d7b9b8a1-deca-4742-b8a0-a378bb73c8e3",
   "metadata": {},
   "source": [
    "#### Section B: Question No:2   (10 marks)\n",
    "This dataset has images from 8 different classes of household garbage; battery, biological, clothes, green-glass, metal, paper, plastic and shoes.\n",
    "\n",
    "Garbage Recycling is a key aspect of preserving our environment. To make the recycling process possible/easier, the garbage must be sorted to groups that have similar recycling process\n",
    "\n",
    "Dataset_Folder Name: Garbage classes \n",
    "120 images are there in every train grabage class folder. \n",
    "\n",
    "Conditions to consider:\n",
    "\n",
    "--Parameters should not cross 300000\n",
    "\n",
    "--Should not use more than 4 layers (except input and output, including convolution and dense layers)\n",
    "\n",
    "--Use Adam Optimizer\n"
   ]
  },
  {
   "cell_type": "code",
   "execution_count": 15,
   "id": "3020fe04-c665-422d-828b-4d345aa4ac0a",
   "metadata": {},
   "outputs": [],
   "source": [
    "import tensorflow as tf\n",
    "from tensorflow.keras.models import Sequential\n",
    "from tensorflow.keras.layers import Conv2D, MaxPool2D, Flatten, Dense, GlobalAveragePooling2D, Dropout, Input, BatchNormalization\n",
    "from tensorflow.keras.optimizers import Adam\n",
    "from tensorflow.keras.preprocessing.image import ImageDataGenerator\n",
    "from tensorflow.keras.callbacks import EarlyStopping, ModelCheckpoint\n",
    "from tensorflow.keras.models import Model\n",
    "from sklearn.model_selection import train_test_split\n",
    "\n",
    "import os\n",
    "os.environ[\"CUDA_DEVICE_ORDER\"]=\"PCI_BUS_ID\"\n",
    "os.environ[\"CUDA_VISIBLE_DEVICES\"]=\"0\""
   ]
  },
  {
   "cell_type": "code",
   "execution_count": 6,
   "id": "bb74189b-17b5-496e-8496-96f340a6cfbc",
   "metadata": {},
   "outputs": [],
   "source": [
    "train_dir=r\"section 2-3/garbage_classes/Train\"\n",
    "test_dir=r\"section 2-3/garbage_classes/Test\""
   ]
  },
  {
   "cell_type": "code",
   "execution_count": 7,
   "id": "14c6d394-063d-4f37-9ad0-4d04f90d4fd4",
   "metadata": {},
   "outputs": [],
   "source": [
    "train_image_generator = ImageDataGenerator(rescale=1./255, validation_split=0.2)\n",
    "test_image_generator = ImageDataGenerator(rescale=1./255)"
   ]
  },
  {
   "cell_type": "code",
   "execution_count": 9,
   "id": "fc6dd66a-978f-4526-ac5c-332db849a913",
   "metadata": {},
   "outputs": [
    {
     "name": "stdout",
     "output_type": "stream",
     "text": [
      "Found 768 images belonging to 8 classes.\n",
      "Found 192 images belonging to 8 classes.\n",
      "Found 240 images belonging to 8 classes.\n"
     ]
    }
   ],
   "source": [
    "target_size=(64, 64)\n",
    "batch_size=32\n",
    "train_data_generator = train_image_generator.flow_from_directory(\n",
    "    directory=train_dir, \n",
    "    target_size=target_size, \n",
    "    class_mode='categorical',\n",
    "    subset='training',\n",
    "    shuffle=True                                                                 \n",
    ")\n",
    "validation_data_generator = train_image_generator.flow_from_directory(\n",
    "    directory=train_dir, \n",
    "    target_size=target_size, \n",
    "    class_mode='categorical',\n",
    "    subset='validation',\n",
    "    shuffle=True                                                                 \n",
    ")\n",
    "\n",
    "test_data_generator = test_image_generator.flow_from_directory(\n",
    "    directory=test_dir, \n",
    "    target_size=target_size, \n",
    "    class_mode='categorical'\n",
    "    )"
   ]
  },
  {
   "cell_type": "code",
   "execution_count": 11,
   "id": "ec0169fb-b1e1-428a-a41c-f8269d6c712f",
   "metadata": {},
   "outputs": [
    {
     "name": "stdout",
     "output_type": "stream",
     "text": [
      "Model: \"sequential_1\"\n",
      "_________________________________________________________________\n",
      " Layer (type)                Output Shape              Param #   \n",
      "=================================================================\n",
      " conv2d_1 (Conv2D)           (None, 62, 62, 64)        1792      \n",
      "                                                                 \n",
      " max_pooling2d_1 (MaxPoolin  (None, 31, 31, 64)        0         \n",
      " g2D)                                                            \n",
      "                                                                 \n",
      " conv2d_2 (Conv2D)           (None, 29, 29, 32)        18464     \n",
      "                                                                 \n",
      " max_pooling2d_2 (MaxPoolin  (None, 14, 14, 32)        0         \n",
      " g2D)                                                            \n",
      "                                                                 \n",
      " flatten (Flatten)           (None, 6272)              0         \n",
      "                                                                 \n",
      " dense (Dense)               (None, 8)                 50184     \n",
      "                                                                 \n",
      "=================================================================\n",
      "Total params: 70440 (275.16 KB)\n",
      "Trainable params: 70440 (275.16 KB)\n",
      "Non-trainable params: 0 (0.00 Byte)\n",
      "_________________________________________________________________\n"
     ]
    }
   ],
   "source": [
    "model = Sequential()\n",
    "model.add(Conv2D(filters=64, kernel_size=3, input_shape=(64, 64, 3), activation='relu'))\n",
    "model.add(MaxPool2D(2, 2))\n",
    "model.add(Conv2D(32, kernel_size=3, activation='relu'))\n",
    "model.add(MaxPool2D(2, 2))\n",
    "model.add(Flatten())\n",
    "model.add(Dense(8, activation='softmax'))\n",
    "\n",
    "model.compile(optimizer='adam', loss='categorical_crossentropy', metrics=['accuracy'])\n",
    "model.summary()"
   ]
  },
  {
   "cell_type": "code",
   "execution_count": 12,
   "id": "de40de5d-4926-426f-9841-8ecfc246edc9",
   "metadata": {},
   "outputs": [
    {
     "name": "stdout",
     "output_type": "stream",
     "text": [
      "Epoch 1/3\n",
      "24/24 [==============================] - 12s 477ms/step - loss: 1.9514 - accuracy: 0.2539 - val_loss: 1.8091 - val_accuracy: 0.4219\n",
      "Epoch 2/3\n",
      "24/24 [==============================] - 2s 97ms/step - loss: 1.5709 - accuracy: 0.4284 - val_loss: 1.5652 - val_accuracy: 0.4896\n",
      "Epoch 3/3\n",
      "24/24 [==============================] - 2s 96ms/step - loss: 1.3509 - accuracy: 0.5456 - val_loss: 1.5126 - val_accuracy: 0.4792\n"
     ]
    }
   ],
   "source": [
    "history = model.fit(train_data_generator, validation_data=validation_data_generator, epochs=3)"
   ]
  },
  {
   "cell_type": "code",
   "execution_count": 13,
   "id": "6b88ff8f",
   "metadata": {},
   "outputs": [
    {
     "name": "stdout",
     "output_type": "stream",
     "text": [
      "8/8 [==============================] - 2s 306ms/step - loss: 1.4281 - accuracy: 0.4792\n",
      "Basic Model accuracy : 0.48\n"
     ]
    }
   ],
   "source": [
    "loss, accuracy = model.evaluate(test_data_generator)\n",
    "print(f'Basic Model accuracy : {accuracy:.2f}')"
   ]
  },
  {
   "cell_type": "markdown",
   "id": "dceb140f-72bc-454a-8053-2f4650ba9e09",
   "metadata": {},
   "source": [
    "#### Section B: Question No:3   (20 marks)\n",
    "\n",
    "Improve the baseline model (model build in question2) performance and save the weights of improved model\n",
    "\n",
    "Conditions to consider:\n",
    "\n",
    "- Apply Data Augmentation if required\n",
    "\n",
    "- No parameter limit\n",
    "\n",
    "- Can use any number of layers\n",
    "\n",
    "- Use any optimizers of your choice \n",
    "\n",
    "- Use early stopping and save best model callbacks\n"
   ]
  },
  {
   "cell_type": "code",
   "execution_count": 14,
   "id": "9f4ca184-3612-405d-bed8-15ae05c29803",
   "metadata": {},
   "outputs": [
    {
     "name": "stdout",
     "output_type": "stream",
     "text": [
      "Found 768 images belonging to 8 classes.\n",
      "Found 192 images belonging to 8 classes.\n",
      "Found 240 images belonging to 8 classes.\n"
     ]
    }
   ],
   "source": [
    "train_image_generator = ImageDataGenerator(rescale=1./255, validation_split=0.2, rotation_range=60, height_shift_range=0.2, \n",
    "                                          width_shift_range=0.2, zoom_range=0.2, shear_range=0.2, horizontal_flip=True)\n",
    "test_image_generator = ImageDataGenerator(rescale=1./255)\n",
    "\n",
    "target_size=(128, 128)\n",
    "batch_size=32\n",
    "train_data_generator = train_image_generator.flow_from_directory(\n",
    "    directory=train_dir, \n",
    "    target_size=target_size, \n",
    "    class_mode='categorical',\n",
    "    subset='training',\n",
    "    shuffle=True                                                                 \n",
    ")\n",
    "validation_data_generator = train_image_generator.flow_from_directory(\n",
    "    directory=train_dir, \n",
    "    target_size=target_size, \n",
    "    class_mode='categorical',\n",
    "    subset='validation',\n",
    "    shuffle=True                                                                 \n",
    ")\n",
    "\n",
    "test_data_generator = test_image_generator.flow_from_directory(\n",
    "    directory=test_dir, \n",
    "    target_size=target_size, \n",
    "    class_mode='categorical'\n",
    "    )"
   ]
  },
  {
   "cell_type": "code",
   "execution_count": 16,
   "id": "27a5e768-e2d5-4cc9-aef0-85b38baecb63",
   "metadata": {},
   "outputs": [
    {
     "name": "stdout",
     "output_type": "stream",
     "text": [
      "Model: \"sequential_2\"\n",
      "_________________________________________________________________\n",
      " Layer (type)                Output Shape              Param #   \n",
      "=================================================================\n",
      " conv2d_3 (Conv2D)           (None, 126, 126, 200)     5600      \n",
      "                                                                 \n",
      " batch_normalization (Batch  (None, 126, 126, 200)     800       \n",
      " Normalization)                                                  \n",
      "                                                                 \n",
      " dropout (Dropout)           (None, 126, 126, 200)     0         \n",
      "                                                                 \n",
      " max_pooling2d_3 (MaxPoolin  (None, 63, 63, 200)       0         \n",
      " g2D)                                                            \n",
      "                                                                 \n",
      " dense_1 (Dense)             (None, 63, 63, 100)       20100     \n",
      "                                                                 \n",
      " batch_normalization_1 (Bat  (None, 63, 63, 100)       400       \n",
      " chNormalization)                                                \n",
      "                                                                 \n",
      " dropout_1 (Dropout)         (None, 63, 63, 100)       0         \n",
      "                                                                 \n",
      " max_pooling2d_4 (MaxPoolin  (None, 31, 31, 100)       0         \n",
      " g2D)                                                            \n",
      "                                                                 \n",
      " dense_2 (Dense)             (None, 31, 31, 100)       10100     \n",
      "                                                                 \n",
      " batch_normalization_2 (Bat  (None, 31, 31, 100)       400       \n",
      " chNormalization)                                                \n",
      "                                                                 \n",
      " dropout_2 (Dropout)         (None, 31, 31, 100)       0         \n",
      "                                                                 \n",
      " max_pooling2d_5 (MaxPoolin  (None, 15, 15, 100)       0         \n",
      " g2D)                                                            \n",
      "                                                                 \n",
      " dense_3 (Dense)             (None, 15, 15, 100)       10100     \n",
      "                                                                 \n",
      " batch_normalization_3 (Bat  (None, 15, 15, 100)       400       \n",
      " chNormalization)                                                \n",
      "                                                                 \n",
      " dropout_3 (Dropout)         (None, 15, 15, 100)       0         \n",
      "                                                                 \n",
      " max_pooling2d_6 (MaxPoolin  (None, 7, 7, 100)         0         \n",
      " g2D)                                                            \n",
      "                                                                 \n",
      " flatten_1 (Flatten)         (None, 4900)              0         \n",
      "                                                                 \n",
      " dense_4 (Dense)             (None, 8)                 39208     \n",
      "                                                                 \n",
      "=================================================================\n",
      "Total params: 87108 (340.27 KB)\n",
      "Trainable params: 86108 (336.36 KB)\n",
      "Non-trainable params: 1000 (3.91 KB)\n",
      "_________________________________________________________________\n"
     ]
    }
   ],
   "source": [
    "model = Sequential()\n",
    "model.add(Conv2D(200, kernel_size=3, input_shape=(128, 128, 3), activation='relu'))\n",
    "model.add(BatchNormalization())\n",
    "model.add(Dropout(0.3))\n",
    "model.add(MaxPool2D())\n",
    "model.add(Dense(100, activation='relu'))\n",
    "model.add(BatchNormalization())\n",
    "model.add(Dropout(0.3))\n",
    "model.add(MaxPool2D())\n",
    "model.add(Dense(100, activation='relu'))\n",
    "model.add(BatchNormalization())\n",
    "model.add(Dropout(0.3))\n",
    "model.add(MaxPool2D())\n",
    "model.add(Dense(100, activation='relu'))\n",
    "model.add(BatchNormalization())\n",
    "model.add(Dropout(0.3))\n",
    "model.add(MaxPool2D())\n",
    "model.add(Flatten())\n",
    "model.add(Dense(8, activation='softmax'))\n",
    "\n",
    "model.compile(optimizer='adam', loss='categorical_crossentropy', metrics=['accuracy'])\n",
    "model.summary()"
   ]
  },
  {
   "cell_type": "code",
   "execution_count": 17,
   "id": "ddd58b16-fd05-484e-a211-9e57a4b2b9a3",
   "metadata": {},
   "outputs": [
    {
     "name": "stdout",
     "output_type": "stream",
     "text": [
      "Epoch 1/3\n",
      "24/24 [==============================] - ETA: 0s - loss: 3.1294 - accuracy: 0.3047INFO:tensorflow:Assets written to: best_optimized_model\\assets\n"
     ]
    },
    {
     "name": "stderr",
     "output_type": "stream",
     "text": [
      "INFO:tensorflow:Assets written to: best_optimized_model\\assets\n"
     ]
    },
    {
     "name": "stdout",
     "output_type": "stream",
     "text": [
      "24/24 [==============================] - 60s 2s/step - loss: 3.1294 - accuracy: 0.3047 - val_loss: 2.2852 - val_accuracy: 0.1250\n",
      "Epoch 2/3\n",
      "24/24 [==============================] - 54s 2s/step - loss: 2.3400 - accuracy: 0.4401 - val_loss: 2.6161 - val_accuracy: 0.1250\n",
      "Epoch 3/3\n",
      "24/24 [==============================] - 53s 2s/step - loss: 2.0776 - accuracy: 0.4766 - val_loss: 3.0032 - val_accuracy: 0.1250\n"
     ]
    },
    {
     "data": {
      "text/plain": [
       "<keras.src.callbacks.History at 0x264e89bddf0>"
      ]
     },
     "execution_count": 17,
     "metadata": {},
     "output_type": "execute_result"
    }
   ],
   "source": [
    "early_stop = EarlyStopping(min_delta = 0.01, patience=5, restore_best_weights=True)\n",
    "model_checkpoint = ModelCheckpoint(filepath='best_optimized_model', save_best_only=True)\n",
    "\n",
    "model.fit(train_data_generator, validation_data=validation_data_generator, epochs=3, \n",
    "          callbacks=[early_stop, model_checkpoint])"
   ]
  },
  {
   "cell_type": "code",
   "execution_count": 19,
   "id": "6ba720e5-6b0f-4739-93b5-0ef21bb3bc11",
   "metadata": {},
   "outputs": [
    {
     "name": "stdout",
     "output_type": "stream",
     "text": [
      "8/8 [==============================] - 2s 259ms/step - loss: 2.9709 - accuracy: 0.1250\n",
      "Optimized Model accuracy : 0.12\n"
     ]
    }
   ],
   "source": [
    "loss, accuracy = model.evaluate(test_data_generator)\n",
    "print(f'Optimized Model accuracy : {accuracy:.2f}')"
   ]
  },
  {
   "cell_type": "markdown",
   "id": "77b1be22-ded8-46d6-bf5c-672a3181d934",
   "metadata": {},
   "source": [
    "#### Section C: Question 4:\n",
    "\n",
    "Use the Transfer learning technique to improve the previous section model’s classification performance. \n",
    "The pre-trained models weights are given to you. The architecture of pre-trained model till convolution layers and its corresponding weights are already saved under the folder ‘base_model’. The given model convolution layers already freezed. (Note: This pre-trained model provided is MobileNet).\n",
    "\n",
    "Load these weights along with architecture using the following syntax:\n",
    "\n",
    "cust_model=tf.keras.models.load_model(\"base_model\") \n",
    "\n",
    "“base_model” is the folder name under all the required models files are exist. \n",
    "\n",
    "Design the remaining layers of network in your own way (from flattening to output layer) and train only its weights with the dataset given.\n"
   ]
  },
  {
   "cell_type": "code",
   "execution_count": null,
   "id": "b285f948-681a-4d8b-88a5-ec3d6933cd1c",
   "metadata": {},
   "outputs": [],
   "source": [
    "import tensorflow as tf\n",
    "from tensorflow.keras.preprocessing.image import ImageDataGenerator\n",
    "from tensorflow.keras.models import Sequential\n",
    "from tensorflow.keras.layers import Conv2D, MaxPool2D, Flatten, Dense, GlobalAveragePooling2D\n",
    "from tensorflow.keras.callbacks import EarlyStopping, ModelCheckpoint\n",
    "import os\n",
    "os.environ[\"CUDA_DEVICE_ORDER\"]=\"PCI_BUS_ID\"\n",
    "os.environ[\"CUDA_VISIBLE_DEVICES\"]=\"0\""
   ]
  },
  {
   "cell_type": "code",
   "execution_count": null,
   "id": "aa81ec4d-2c82-43cb-aa66-c7ac447fc6d0",
   "metadata": {},
   "outputs": [],
   "source": [
    "train_dir=r\"section 2-3/garbage_classes/Train\"\n",
    "test_dir=r\"section 2-3/garbage_classes/Test\""
   ]
  },
  {
   "cell_type": "code",
   "execution_count": 20,
   "id": "de25099b-f8f1-4bc4-8e23-00352e1a7a72",
   "metadata": {},
   "outputs": [
    {
     "name": "stdout",
     "output_type": "stream",
     "text": [
      "WARNING:tensorflow:No training configuration found in save file, so the model was *not* compiled. Compile it manually.\n"
     ]
    },
    {
     "name": "stderr",
     "output_type": "stream",
     "text": [
      "WARNING:tensorflow:No training configuration found in save file, so the model was *not* compiled. Compile it manually.\n"
     ]
    },
    {
     "name": "stdout",
     "output_type": "stream",
     "text": [
      "Model: \"resnet50\"\n",
      "__________________________________________________________________________________________________\n",
      " Layer (type)                Output Shape                 Param #   Connected to                  \n",
      "==================================================================================================\n",
      " input_1 (InputLayer)        [(None, 224, 224, 3)]        0         []                            \n",
      "                                                                                                  \n",
      " conv1_pad (ZeroPadding2D)   (None, 230, 230, 3)          0         ['input_1[0][0]']             \n",
      "                                                                                                  \n",
      " conv1_conv (Conv2D)         (None, 112, 112, 64)         9472      ['conv1_pad[0][0]']           \n",
      "                                                                                                  \n",
      " conv1_bn (BatchNormalizati  (None, 112, 112, 64)         256       ['conv1_conv[0][0]']          \n",
      " on)                                                                                              \n",
      "                                                                                                  \n",
      " conv1_relu (Activation)     (None, 112, 112, 64)         0         ['conv1_bn[0][0]']            \n",
      "                                                                                                  \n",
      " pool1_pad (ZeroPadding2D)   (None, 114, 114, 64)         0         ['conv1_relu[0][0]']          \n",
      "                                                                                                  \n",
      " pool1_pool (MaxPooling2D)   (None, 56, 56, 64)           0         ['pool1_pad[0][0]']           \n",
      "                                                                                                  \n",
      " conv2_block1_1_conv (Conv2  (None, 56, 56, 64)           4160      ['pool1_pool[0][0]']          \n",
      " D)                                                                                               \n",
      "                                                                                                  \n",
      " conv2_block1_1_bn (BatchNo  (None, 56, 56, 64)           256       ['conv2_block1_1_conv[0][0]'] \n",
      " rmalization)                                                                                     \n",
      "                                                                                                  \n",
      " conv2_block1_1_relu (Activ  (None, 56, 56, 64)           0         ['conv2_block1_1_bn[0][0]']   \n",
      " ation)                                                                                           \n",
      "                                                                                                  \n",
      " conv2_block1_2_conv (Conv2  (None, 56, 56, 64)           36928     ['conv2_block1_1_relu[0][0]'] \n",
      " D)                                                                                               \n",
      "                                                                                                  \n",
      " conv2_block1_2_bn (BatchNo  (None, 56, 56, 64)           256       ['conv2_block1_2_conv[0][0]'] \n",
      " rmalization)                                                                                     \n",
      "                                                                                                  \n",
      " conv2_block1_2_relu (Activ  (None, 56, 56, 64)           0         ['conv2_block1_2_bn[0][0]']   \n",
      " ation)                                                                                           \n",
      "                                                                                                  \n",
      " conv2_block1_0_conv (Conv2  (None, 56, 56, 256)          16640     ['pool1_pool[0][0]']          \n",
      " D)                                                                                               \n",
      "                                                                                                  \n",
      " conv2_block1_3_conv (Conv2  (None, 56, 56, 256)          16640     ['conv2_block1_2_relu[0][0]'] \n",
      " D)                                                                                               \n",
      "                                                                                                  \n",
      " conv2_block1_0_bn (BatchNo  (None, 56, 56, 256)          1024      ['conv2_block1_0_conv[0][0]'] \n",
      " rmalization)                                                                                     \n",
      "                                                                                                  \n",
      " conv2_block1_3_bn (BatchNo  (None, 56, 56, 256)          1024      ['conv2_block1_3_conv[0][0]'] \n",
      " rmalization)                                                                                     \n",
      "                                                                                                  \n",
      " conv2_block1_add (Add)      (None, 56, 56, 256)          0         ['conv2_block1_0_bn[0][0]',   \n",
      "                                                                     'conv2_block1_3_bn[0][0]']   \n",
      "                                                                                                  \n",
      " conv2_block1_out (Activati  (None, 56, 56, 256)          0         ['conv2_block1_add[0][0]']    \n",
      " on)                                                                                              \n",
      "                                                                                                  \n",
      " conv2_block2_1_conv (Conv2  (None, 56, 56, 64)           16448     ['conv2_block1_out[0][0]']    \n",
      " D)                                                                                               \n",
      "                                                                                                  \n",
      " conv2_block2_1_bn (BatchNo  (None, 56, 56, 64)           256       ['conv2_block2_1_conv[0][0]'] \n",
      " rmalization)                                                                                     \n",
      "                                                                                                  \n",
      " conv2_block2_1_relu (Activ  (None, 56, 56, 64)           0         ['conv2_block2_1_bn[0][0]']   \n",
      " ation)                                                                                           \n",
      "                                                                                                  \n",
      " conv2_block2_2_conv (Conv2  (None, 56, 56, 64)           36928     ['conv2_block2_1_relu[0][0]'] \n",
      " D)                                                                                               \n",
      "                                                                                                  \n",
      " conv2_block2_2_bn (BatchNo  (None, 56, 56, 64)           256       ['conv2_block2_2_conv[0][0]'] \n",
      " rmalization)                                                                                     \n",
      "                                                                                                  \n",
      " conv2_block2_2_relu (Activ  (None, 56, 56, 64)           0         ['conv2_block2_2_bn[0][0]']   \n",
      " ation)                                                                                           \n",
      "                                                                                                  \n",
      " conv2_block2_3_conv (Conv2  (None, 56, 56, 256)          16640     ['conv2_block2_2_relu[0][0]'] \n",
      " D)                                                                                               \n",
      "                                                                                                  \n",
      " conv2_block2_3_bn (BatchNo  (None, 56, 56, 256)          1024      ['conv2_block2_3_conv[0][0]'] \n",
      " rmalization)                                                                                     \n",
      "                                                                                                  \n",
      " conv2_block2_add (Add)      (None, 56, 56, 256)          0         ['conv2_block1_out[0][0]',    \n",
      "                                                                     'conv2_block2_3_bn[0][0]']   \n",
      "                                                                                                  \n",
      " conv2_block2_out (Activati  (None, 56, 56, 256)          0         ['conv2_block2_add[0][0]']    \n",
      " on)                                                                                              \n"
     ]
    },
    {
     "name": "stdout",
     "output_type": "stream",
     "text": [
      "                                                                                                  \n",
      " conv2_block3_1_conv (Conv2  (None, 56, 56, 64)           16448     ['conv2_block2_out[0][0]']    \n",
      " D)                                                                                               \n",
      "                                                                                                  \n",
      " conv2_block3_1_bn (BatchNo  (None, 56, 56, 64)           256       ['conv2_block3_1_conv[0][0]'] \n",
      " rmalization)                                                                                     \n",
      "                                                                                                  \n",
      " conv2_block3_1_relu (Activ  (None, 56, 56, 64)           0         ['conv2_block3_1_bn[0][0]']   \n",
      " ation)                                                                                           \n",
      "                                                                                                  \n",
      " conv2_block3_2_conv (Conv2  (None, 56, 56, 64)           36928     ['conv2_block3_1_relu[0][0]'] \n",
      " D)                                                                                               \n",
      "                                                                                                  \n",
      " conv2_block3_2_bn (BatchNo  (None, 56, 56, 64)           256       ['conv2_block3_2_conv[0][0]'] \n",
      " rmalization)                                                                                     \n",
      "                                                                                                  \n",
      " conv2_block3_2_relu (Activ  (None, 56, 56, 64)           0         ['conv2_block3_2_bn[0][0]']   \n",
      " ation)                                                                                           \n",
      "                                                                                                  \n",
      " conv2_block3_3_conv (Conv2  (None, 56, 56, 256)          16640     ['conv2_block3_2_relu[0][0]'] \n",
      " D)                                                                                               \n",
      "                                                                                                  \n",
      " conv2_block3_3_bn (BatchNo  (None, 56, 56, 256)          1024      ['conv2_block3_3_conv[0][0]'] \n",
      " rmalization)                                                                                     \n",
      "                                                                                                  \n",
      " conv2_block3_add (Add)      (None, 56, 56, 256)          0         ['conv2_block2_out[0][0]',    \n",
      "                                                                     'conv2_block3_3_bn[0][0]']   \n",
      "                                                                                                  \n",
      " conv2_block3_out (Activati  (None, 56, 56, 256)          0         ['conv2_block3_add[0][0]']    \n",
      " on)                                                                                              \n",
      "                                                                                                  \n",
      " conv3_block1_1_conv (Conv2  (None, 28, 28, 128)          32896     ['conv2_block3_out[0][0]']    \n",
      " D)                                                                                               \n",
      "                                                                                                  \n",
      " conv3_block1_1_bn (BatchNo  (None, 28, 28, 128)          512       ['conv3_block1_1_conv[0][0]'] \n",
      " rmalization)                                                                                     \n",
      "                                                                                                  \n",
      " conv3_block1_1_relu (Activ  (None, 28, 28, 128)          0         ['conv3_block1_1_bn[0][0]']   \n",
      " ation)                                                                                           \n",
      "                                                                                                  \n",
      " conv3_block1_2_conv (Conv2  (None, 28, 28, 128)          147584    ['conv3_block1_1_relu[0][0]'] \n",
      " D)                                                                                               \n",
      "                                                                                                  \n",
      " conv3_block1_2_bn (BatchNo  (None, 28, 28, 128)          512       ['conv3_block1_2_conv[0][0]'] \n",
      " rmalization)                                                                                     \n",
      "                                                                                                  \n",
      " conv3_block1_2_relu (Activ  (None, 28, 28, 128)          0         ['conv3_block1_2_bn[0][0]']   \n",
      " ation)                                                                                           \n",
      "                                                                                                  \n",
      " conv3_block1_0_conv (Conv2  (None, 28, 28, 512)          131584    ['conv2_block3_out[0][0]']    \n",
      " D)                                                                                               \n",
      "                                                                                                  \n",
      " conv3_block1_3_conv (Conv2  (None, 28, 28, 512)          66048     ['conv3_block1_2_relu[0][0]'] \n",
      " D)                                                                                               \n",
      "                                                                                                  \n",
      " conv3_block1_0_bn (BatchNo  (None, 28, 28, 512)          2048      ['conv3_block1_0_conv[0][0]'] \n",
      " rmalization)                                                                                     \n",
      "                                                                                                  \n",
      " conv3_block1_3_bn (BatchNo  (None, 28, 28, 512)          2048      ['conv3_block1_3_conv[0][0]'] \n",
      " rmalization)                                                                                     \n",
      "                                                                                                  \n",
      " conv3_block1_add (Add)      (None, 28, 28, 512)          0         ['conv3_block1_0_bn[0][0]',   \n",
      "                                                                     'conv3_block1_3_bn[0][0]']   \n",
      "                                                                                                  \n",
      " conv3_block1_out (Activati  (None, 28, 28, 512)          0         ['conv3_block1_add[0][0]']    \n",
      " on)                                                                                              \n",
      "                                                                                                  \n",
      " conv3_block2_1_conv (Conv2  (None, 28, 28, 128)          65664     ['conv3_block1_out[0][0]']    \n",
      " D)                                                                                               \n",
      "                                                                                                  \n",
      " conv3_block2_1_bn (BatchNo  (None, 28, 28, 128)          512       ['conv3_block2_1_conv[0][0]'] \n",
      " rmalization)                                                                                     \n",
      "                                                                                                  \n",
      " conv3_block2_1_relu (Activ  (None, 28, 28, 128)          0         ['conv3_block2_1_bn[0][0]']   \n",
      " ation)                                                                                           \n",
      "                                                                                                  \n",
      " conv3_block2_2_conv (Conv2  (None, 28, 28, 128)          147584    ['conv3_block2_1_relu[0][0]'] \n",
      " D)                                                                                               \n",
      "                                                                                                  \n",
      " conv3_block2_2_bn (BatchNo  (None, 28, 28, 128)          512       ['conv3_block2_2_conv[0][0]'] \n",
      " rmalization)                                                                                     \n",
      "                                                                                                  \n",
      " conv3_block2_2_relu (Activ  (None, 28, 28, 128)          0         ['conv3_block2_2_bn[0][0]']   \n"
     ]
    },
    {
     "name": "stdout",
     "output_type": "stream",
     "text": [
      " ation)                                                                                           \n",
      "                                                                                                  \n",
      " conv3_block2_3_conv (Conv2  (None, 28, 28, 512)          66048     ['conv3_block2_2_relu[0][0]'] \n",
      " D)                                                                                               \n",
      "                                                                                                  \n",
      " conv3_block2_3_bn (BatchNo  (None, 28, 28, 512)          2048      ['conv3_block2_3_conv[0][0]'] \n",
      " rmalization)                                                                                     \n",
      "                                                                                                  \n",
      " conv3_block2_add (Add)      (None, 28, 28, 512)          0         ['conv3_block1_out[0][0]',    \n",
      "                                                                     'conv3_block2_3_bn[0][0]']   \n",
      "                                                                                                  \n",
      " conv3_block2_out (Activati  (None, 28, 28, 512)          0         ['conv3_block2_add[0][0]']    \n",
      " on)                                                                                              \n",
      "                                                                                                  \n",
      " conv3_block3_1_conv (Conv2  (None, 28, 28, 128)          65664     ['conv3_block2_out[0][0]']    \n",
      " D)                                                                                               \n",
      "                                                                                                  \n",
      " conv3_block3_1_bn (BatchNo  (None, 28, 28, 128)          512       ['conv3_block3_1_conv[0][0]'] \n",
      " rmalization)                                                                                     \n",
      "                                                                                                  \n",
      " conv3_block3_1_relu (Activ  (None, 28, 28, 128)          0         ['conv3_block3_1_bn[0][0]']   \n",
      " ation)                                                                                           \n",
      "                                                                                                  \n",
      " conv3_block3_2_conv (Conv2  (None, 28, 28, 128)          147584    ['conv3_block3_1_relu[0][0]'] \n",
      " D)                                                                                               \n",
      "                                                                                                  \n",
      " conv3_block3_2_bn (BatchNo  (None, 28, 28, 128)          512       ['conv3_block3_2_conv[0][0]'] \n",
      " rmalization)                                                                                     \n",
      "                                                                                                  \n",
      " conv3_block3_2_relu (Activ  (None, 28, 28, 128)          0         ['conv3_block3_2_bn[0][0]']   \n",
      " ation)                                                                                           \n",
      "                                                                                                  \n",
      " conv3_block3_3_conv (Conv2  (None, 28, 28, 512)          66048     ['conv3_block3_2_relu[0][0]'] \n",
      " D)                                                                                               \n",
      "                                                                                                  \n",
      " conv3_block3_3_bn (BatchNo  (None, 28, 28, 512)          2048      ['conv3_block3_3_conv[0][0]'] \n",
      " rmalization)                                                                                     \n",
      "                                                                                                  \n",
      " conv3_block3_add (Add)      (None, 28, 28, 512)          0         ['conv3_block2_out[0][0]',    \n",
      "                                                                     'conv3_block3_3_bn[0][0]']   \n",
      "                                                                                                  \n",
      " conv3_block3_out (Activati  (None, 28, 28, 512)          0         ['conv3_block3_add[0][0]']    \n",
      " on)                                                                                              \n",
      "                                                                                                  \n",
      " conv3_block4_1_conv (Conv2  (None, 28, 28, 128)          65664     ['conv3_block3_out[0][0]']    \n",
      " D)                                                                                               \n",
      "                                                                                                  \n",
      " conv3_block4_1_bn (BatchNo  (None, 28, 28, 128)          512       ['conv3_block4_1_conv[0][0]'] \n",
      " rmalization)                                                                                     \n",
      "                                                                                                  \n",
      " conv3_block4_1_relu (Activ  (None, 28, 28, 128)          0         ['conv3_block4_1_bn[0][0]']   \n",
      " ation)                                                                                           \n",
      "                                                                                                  \n",
      " conv3_block4_2_conv (Conv2  (None, 28, 28, 128)          147584    ['conv3_block4_1_relu[0][0]'] \n",
      " D)                                                                                               \n",
      "                                                                                                  \n",
      " conv3_block4_2_bn (BatchNo  (None, 28, 28, 128)          512       ['conv3_block4_2_conv[0][0]'] \n",
      " rmalization)                                                                                     \n",
      "                                                                                                  \n",
      " conv3_block4_2_relu (Activ  (None, 28, 28, 128)          0         ['conv3_block4_2_bn[0][0]']   \n",
      " ation)                                                                                           \n",
      "                                                                                                  \n",
      " conv3_block4_3_conv (Conv2  (None, 28, 28, 512)          66048     ['conv3_block4_2_relu[0][0]'] \n",
      " D)                                                                                               \n",
      "                                                                                                  \n",
      " conv3_block4_3_bn (BatchNo  (None, 28, 28, 512)          2048      ['conv3_block4_3_conv[0][0]'] \n",
      " rmalization)                                                                                     \n",
      "                                                                                                  \n",
      " conv3_block4_add (Add)      (None, 28, 28, 512)          0         ['conv3_block3_out[0][0]',    \n",
      "                                                                     'conv3_block4_3_bn[0][0]']   \n",
      "                                                                                                  \n",
      " conv3_block4_out (Activati  (None, 28, 28, 512)          0         ['conv3_block4_add[0][0]']    \n",
      " on)                                                                                              \n",
      "                                                                                                  \n",
      " conv4_block1_1_conv (Conv2  (None, 14, 14, 256)          131328    ['conv3_block4_out[0][0]']    \n",
      " D)                                                                                               \n",
      "                                                                                                  \n",
      " conv4_block1_1_bn (BatchNo  (None, 14, 14, 256)          1024      ['conv4_block1_1_conv[0][0]'] \n",
      " rmalization)                                                                                     \n",
      "                                                                                                  \n",
      " conv4_block1_1_relu (Activ  (None, 14, 14, 256)          0         ['conv4_block1_1_bn[0][0]']   \n",
      " ation)                                                                                           \n",
      "                                                                                                  \n"
     ]
    },
    {
     "name": "stdout",
     "output_type": "stream",
     "text": [
      " conv4_block1_2_conv (Conv2  (None, 14, 14, 256)          590080    ['conv4_block1_1_relu[0][0]'] \n",
      " D)                                                                                               \n",
      "                                                                                                  \n",
      " conv4_block1_2_bn (BatchNo  (None, 14, 14, 256)          1024      ['conv4_block1_2_conv[0][0]'] \n",
      " rmalization)                                                                                     \n",
      "                                                                                                  \n",
      " conv4_block1_2_relu (Activ  (None, 14, 14, 256)          0         ['conv4_block1_2_bn[0][0]']   \n",
      " ation)                                                                                           \n",
      "                                                                                                  \n",
      " conv4_block1_0_conv (Conv2  (None, 14, 14, 1024)         525312    ['conv3_block4_out[0][0]']    \n",
      " D)                                                                                               \n",
      "                                                                                                  \n",
      " conv4_block1_3_conv (Conv2  (None, 14, 14, 1024)         263168    ['conv4_block1_2_relu[0][0]'] \n",
      " D)                                                                                               \n",
      "                                                                                                  \n",
      " conv4_block1_0_bn (BatchNo  (None, 14, 14, 1024)         4096      ['conv4_block1_0_conv[0][0]'] \n",
      " rmalization)                                                                                     \n",
      "                                                                                                  \n",
      " conv4_block1_3_bn (BatchNo  (None, 14, 14, 1024)         4096      ['conv4_block1_3_conv[0][0]'] \n",
      " rmalization)                                                                                     \n",
      "                                                                                                  \n",
      " conv4_block1_add (Add)      (None, 14, 14, 1024)         0         ['conv4_block1_0_bn[0][0]',   \n",
      "                                                                     'conv4_block1_3_bn[0][0]']   \n",
      "                                                                                                  \n",
      " conv4_block1_out (Activati  (None, 14, 14, 1024)         0         ['conv4_block1_add[0][0]']    \n",
      " on)                                                                                              \n",
      "                                                                                                  \n",
      " conv4_block2_1_conv (Conv2  (None, 14, 14, 256)          262400    ['conv4_block1_out[0][0]']    \n",
      " D)                                                                                               \n",
      "                                                                                                  \n",
      " conv4_block2_1_bn (BatchNo  (None, 14, 14, 256)          1024      ['conv4_block2_1_conv[0][0]'] \n",
      " rmalization)                                                                                     \n",
      "                                                                                                  \n",
      " conv4_block2_1_relu (Activ  (None, 14, 14, 256)          0         ['conv4_block2_1_bn[0][0]']   \n",
      " ation)                                                                                           \n",
      "                                                                                                  \n",
      " conv4_block2_2_conv (Conv2  (None, 14, 14, 256)          590080    ['conv4_block2_1_relu[0][0]'] \n",
      " D)                                                                                               \n",
      "                                                                                                  \n",
      " conv4_block2_2_bn (BatchNo  (None, 14, 14, 256)          1024      ['conv4_block2_2_conv[0][0]'] \n",
      " rmalization)                                                                                     \n",
      "                                                                                                  \n",
      " conv4_block2_2_relu (Activ  (None, 14, 14, 256)          0         ['conv4_block2_2_bn[0][0]']   \n",
      " ation)                                                                                           \n",
      "                                                                                                  \n",
      " conv4_block2_3_conv (Conv2  (None, 14, 14, 1024)         263168    ['conv4_block2_2_relu[0][0]'] \n",
      " D)                                                                                               \n",
      "                                                                                                  \n",
      " conv4_block2_3_bn (BatchNo  (None, 14, 14, 1024)         4096      ['conv4_block2_3_conv[0][0]'] \n",
      " rmalization)                                                                                     \n",
      "                                                                                                  \n",
      " conv4_block2_add (Add)      (None, 14, 14, 1024)         0         ['conv4_block1_out[0][0]',    \n",
      "                                                                     'conv4_block2_3_bn[0][0]']   \n",
      "                                                                                                  \n",
      " conv4_block2_out (Activati  (None, 14, 14, 1024)         0         ['conv4_block2_add[0][0]']    \n",
      " on)                                                                                              \n",
      "                                                                                                  \n",
      " conv4_block3_1_conv (Conv2  (None, 14, 14, 256)          262400    ['conv4_block2_out[0][0]']    \n",
      " D)                                                                                               \n",
      "                                                                                                  \n",
      " conv4_block3_1_bn (BatchNo  (None, 14, 14, 256)          1024      ['conv4_block3_1_conv[0][0]'] \n",
      " rmalization)                                                                                     \n",
      "                                                                                                  \n",
      " conv4_block3_1_relu (Activ  (None, 14, 14, 256)          0         ['conv4_block3_1_bn[0][0]']   \n",
      " ation)                                                                                           \n",
      "                                                                                                  \n",
      " conv4_block3_2_conv (Conv2  (None, 14, 14, 256)          590080    ['conv4_block3_1_relu[0][0]'] \n",
      " D)                                                                                               \n",
      "                                                                                                  \n",
      " conv4_block3_2_bn (BatchNo  (None, 14, 14, 256)          1024      ['conv4_block3_2_conv[0][0]'] \n",
      " rmalization)                                                                                     \n",
      "                                                                                                  \n",
      " conv4_block3_2_relu (Activ  (None, 14, 14, 256)          0         ['conv4_block3_2_bn[0][0]']   \n",
      " ation)                                                                                           \n",
      "                                                                                                  \n",
      " conv4_block3_3_conv (Conv2  (None, 14, 14, 1024)         263168    ['conv4_block3_2_relu[0][0]'] \n",
      " D)                                                                                               \n",
      "                                                                                                  \n",
      " conv4_block3_3_bn (BatchNo  (None, 14, 14, 1024)         4096      ['conv4_block3_3_conv[0][0]'] \n",
      " rmalization)                                                                                     \n",
      "                                                                                                  \n",
      " conv4_block3_add (Add)      (None, 14, 14, 1024)         0         ['conv4_block2_out[0][0]',    \n",
      "                                                                     'conv4_block3_3_bn[0][0]']   \n"
     ]
    },
    {
     "name": "stdout",
     "output_type": "stream",
     "text": [
      "                                                                                                  \n",
      " conv4_block3_out (Activati  (None, 14, 14, 1024)         0         ['conv4_block3_add[0][0]']    \n",
      " on)                                                                                              \n",
      "                                                                                                  \n",
      " conv4_block4_1_conv (Conv2  (None, 14, 14, 256)          262400    ['conv4_block3_out[0][0]']    \n",
      " D)                                                                                               \n",
      "                                                                                                  \n",
      " conv4_block4_1_bn (BatchNo  (None, 14, 14, 256)          1024      ['conv4_block4_1_conv[0][0]'] \n",
      " rmalization)                                                                                     \n",
      "                                                                                                  \n",
      " conv4_block4_1_relu (Activ  (None, 14, 14, 256)          0         ['conv4_block4_1_bn[0][0]']   \n",
      " ation)                                                                                           \n",
      "                                                                                                  \n",
      " conv4_block4_2_conv (Conv2  (None, 14, 14, 256)          590080    ['conv4_block4_1_relu[0][0]'] \n",
      " D)                                                                                               \n",
      "                                                                                                  \n",
      " conv4_block4_2_bn (BatchNo  (None, 14, 14, 256)          1024      ['conv4_block4_2_conv[0][0]'] \n",
      " rmalization)                                                                                     \n",
      "                                                                                                  \n",
      " conv4_block4_2_relu (Activ  (None, 14, 14, 256)          0         ['conv4_block4_2_bn[0][0]']   \n",
      " ation)                                                                                           \n",
      "                                                                                                  \n",
      " conv4_block4_3_conv (Conv2  (None, 14, 14, 1024)         263168    ['conv4_block4_2_relu[0][0]'] \n",
      " D)                                                                                               \n",
      "                                                                                                  \n",
      " conv4_block4_3_bn (BatchNo  (None, 14, 14, 1024)         4096      ['conv4_block4_3_conv[0][0]'] \n",
      " rmalization)                                                                                     \n",
      "                                                                                                  \n",
      " conv4_block4_add (Add)      (None, 14, 14, 1024)         0         ['conv4_block3_out[0][0]',    \n",
      "                                                                     'conv4_block4_3_bn[0][0]']   \n",
      "                                                                                                  \n",
      " conv4_block4_out (Activati  (None, 14, 14, 1024)         0         ['conv4_block4_add[0][0]']    \n",
      " on)                                                                                              \n",
      "                                                                                                  \n",
      " conv4_block5_1_conv (Conv2  (None, 14, 14, 256)          262400    ['conv4_block4_out[0][0]']    \n",
      " D)                                                                                               \n",
      "                                                                                                  \n",
      " conv4_block5_1_bn (BatchNo  (None, 14, 14, 256)          1024      ['conv4_block5_1_conv[0][0]'] \n",
      " rmalization)                                                                                     \n",
      "                                                                                                  \n",
      " conv4_block5_1_relu (Activ  (None, 14, 14, 256)          0         ['conv4_block5_1_bn[0][0]']   \n",
      " ation)                                                                                           \n",
      "                                                                                                  \n",
      " conv4_block5_2_conv (Conv2  (None, 14, 14, 256)          590080    ['conv4_block5_1_relu[0][0]'] \n",
      " D)                                                                                               \n",
      "                                                                                                  \n",
      " conv4_block5_2_bn (BatchNo  (None, 14, 14, 256)          1024      ['conv4_block5_2_conv[0][0]'] \n",
      " rmalization)                                                                                     \n",
      "                                                                                                  \n",
      " conv4_block5_2_relu (Activ  (None, 14, 14, 256)          0         ['conv4_block5_2_bn[0][0]']   \n",
      " ation)                                                                                           \n",
      "                                                                                                  \n",
      " conv4_block5_3_conv (Conv2  (None, 14, 14, 1024)         263168    ['conv4_block5_2_relu[0][0]'] \n",
      " D)                                                                                               \n",
      "                                                                                                  \n",
      " conv4_block5_3_bn (BatchNo  (None, 14, 14, 1024)         4096      ['conv4_block5_3_conv[0][0]'] \n",
      " rmalization)                                                                                     \n",
      "                                                                                                  \n",
      " conv4_block5_add (Add)      (None, 14, 14, 1024)         0         ['conv4_block4_out[0][0]',    \n",
      "                                                                     'conv4_block5_3_bn[0][0]']   \n",
      "                                                                                                  \n",
      " conv4_block5_out (Activati  (None, 14, 14, 1024)         0         ['conv4_block5_add[0][0]']    \n",
      " on)                                                                                              \n",
      "                                                                                                  \n",
      " conv4_block6_1_conv (Conv2  (None, 14, 14, 256)          262400    ['conv4_block5_out[0][0]']    \n",
      " D)                                                                                               \n",
      "                                                                                                  \n",
      " conv4_block6_1_bn (BatchNo  (None, 14, 14, 256)          1024      ['conv4_block6_1_conv[0][0]'] \n",
      " rmalization)                                                                                     \n",
      "                                                                                                  \n",
      " conv4_block6_1_relu (Activ  (None, 14, 14, 256)          0         ['conv4_block6_1_bn[0][0]']   \n",
      " ation)                                                                                           \n",
      "                                                                                                  \n",
      " conv4_block6_2_conv (Conv2  (None, 14, 14, 256)          590080    ['conv4_block6_1_relu[0][0]'] \n",
      " D)                                                                                               \n",
      "                                                                                                  \n",
      " conv4_block6_2_bn (BatchNo  (None, 14, 14, 256)          1024      ['conv4_block6_2_conv[0][0]'] \n",
      " rmalization)                                                                                     \n",
      "                                                                                                  \n",
      " conv4_block6_2_relu (Activ  (None, 14, 14, 256)          0         ['conv4_block6_2_bn[0][0]']   \n",
      " ation)                                                                                           \n",
      "                                                                                                  \n",
      " conv4_block6_3_conv (Conv2  (None, 14, 14, 1024)         263168    ['conv4_block6_2_relu[0][0]'] \n"
     ]
    },
    {
     "name": "stdout",
     "output_type": "stream",
     "text": [
      " D)                                                                                               \n",
      "                                                                                                  \n",
      " conv4_block6_3_bn (BatchNo  (None, 14, 14, 1024)         4096      ['conv4_block6_3_conv[0][0]'] \n",
      " rmalization)                                                                                     \n",
      "                                                                                                  \n",
      " conv4_block6_add (Add)      (None, 14, 14, 1024)         0         ['conv4_block5_out[0][0]',    \n",
      "                                                                     'conv4_block6_3_bn[0][0]']   \n",
      "                                                                                                  \n",
      " conv4_block6_out (Activati  (None, 14, 14, 1024)         0         ['conv4_block6_add[0][0]']    \n",
      " on)                                                                                              \n",
      "                                                                                                  \n",
      " conv5_block1_1_conv (Conv2  (None, 7, 7, 512)            524800    ['conv4_block6_out[0][0]']    \n",
      " D)                                                                                               \n",
      "                                                                                                  \n",
      " conv5_block1_1_bn (BatchNo  (None, 7, 7, 512)            2048      ['conv5_block1_1_conv[0][0]'] \n",
      " rmalization)                                                                                     \n",
      "                                                                                                  \n",
      " conv5_block1_1_relu (Activ  (None, 7, 7, 512)            0         ['conv5_block1_1_bn[0][0]']   \n",
      " ation)                                                                                           \n",
      "                                                                                                  \n",
      " conv5_block1_2_conv (Conv2  (None, 7, 7, 512)            2359808   ['conv5_block1_1_relu[0][0]'] \n",
      " D)                                                                                               \n",
      "                                                                                                  \n",
      " conv5_block1_2_bn (BatchNo  (None, 7, 7, 512)            2048      ['conv5_block1_2_conv[0][0]'] \n",
      " rmalization)                                                                                     \n",
      "                                                                                                  \n",
      " conv5_block1_2_relu (Activ  (None, 7, 7, 512)            0         ['conv5_block1_2_bn[0][0]']   \n",
      " ation)                                                                                           \n",
      "                                                                                                  \n",
      " conv5_block1_0_conv (Conv2  (None, 7, 7, 2048)           2099200   ['conv4_block6_out[0][0]']    \n",
      " D)                                                                                               \n",
      "                                                                                                  \n",
      " conv5_block1_3_conv (Conv2  (None, 7, 7, 2048)           1050624   ['conv5_block1_2_relu[0][0]'] \n",
      " D)                                                                                               \n",
      "                                                                                                  \n",
      " conv5_block1_0_bn (BatchNo  (None, 7, 7, 2048)           8192      ['conv5_block1_0_conv[0][0]'] \n",
      " rmalization)                                                                                     \n",
      "                                                                                                  \n",
      " conv5_block1_3_bn (BatchNo  (None, 7, 7, 2048)           8192      ['conv5_block1_3_conv[0][0]'] \n",
      " rmalization)                                                                                     \n",
      "                                                                                                  \n",
      " conv5_block1_add (Add)      (None, 7, 7, 2048)           0         ['conv5_block1_0_bn[0][0]',   \n",
      "                                                                     'conv5_block1_3_bn[0][0]']   \n",
      "                                                                                                  \n",
      " conv5_block1_out (Activati  (None, 7, 7, 2048)           0         ['conv5_block1_add[0][0]']    \n",
      " on)                                                                                              \n",
      "                                                                                                  \n",
      " conv5_block2_1_conv (Conv2  (None, 7, 7, 512)            1049088   ['conv5_block1_out[0][0]']    \n",
      " D)                                                                                               \n",
      "                                                                                                  \n",
      " conv5_block2_1_bn (BatchNo  (None, 7, 7, 512)            2048      ['conv5_block2_1_conv[0][0]'] \n",
      " rmalization)                                                                                     \n",
      "                                                                                                  \n",
      " conv5_block2_1_relu (Activ  (None, 7, 7, 512)            0         ['conv5_block2_1_bn[0][0]']   \n",
      " ation)                                                                                           \n",
      "                                                                                                  \n",
      " conv5_block2_2_conv (Conv2  (None, 7, 7, 512)            2359808   ['conv5_block2_1_relu[0][0]'] \n",
      " D)                                                                                               \n",
      "                                                                                                  \n",
      " conv5_block2_2_bn (BatchNo  (None, 7, 7, 512)            2048      ['conv5_block2_2_conv[0][0]'] \n",
      " rmalization)                                                                                     \n",
      "                                                                                                  \n",
      " conv5_block2_2_relu (Activ  (None, 7, 7, 512)            0         ['conv5_block2_2_bn[0][0]']   \n",
      " ation)                                                                                           \n",
      "                                                                                                  \n",
      " conv5_block2_3_conv (Conv2  (None, 7, 7, 2048)           1050624   ['conv5_block2_2_relu[0][0]'] \n",
      " D)                                                                                               \n",
      "                                                                                                  \n",
      " conv5_block2_3_bn (BatchNo  (None, 7, 7, 2048)           8192      ['conv5_block2_3_conv[0][0]'] \n",
      " rmalization)                                                                                     \n",
      "                                                                                                  \n",
      " conv5_block2_add (Add)      (None, 7, 7, 2048)           0         ['conv5_block1_out[0][0]',    \n",
      "                                                                     'conv5_block2_3_bn[0][0]']   \n",
      "                                                                                                  \n",
      " conv5_block2_out (Activati  (None, 7, 7, 2048)           0         ['conv5_block2_add[0][0]']    \n",
      " on)                                                                                              \n",
      "                                                                                                  \n",
      " conv5_block3_1_conv (Conv2  (None, 7, 7, 512)            1049088   ['conv5_block2_out[0][0]']    \n",
      " D)                                                                                               \n",
      "                                                                                                  \n",
      " conv5_block3_1_bn (BatchNo  (None, 7, 7, 512)            2048      ['conv5_block3_1_conv[0][0]'] \n",
      " rmalization)                                                                                     \n",
      "                                                                                                  \n"
     ]
    },
    {
     "name": "stdout",
     "output_type": "stream",
     "text": [
      " conv5_block3_1_relu (Activ  (None, 7, 7, 512)            0         ['conv5_block3_1_bn[0][0]']   \n",
      " ation)                                                                                           \n",
      "                                                                                                  \n",
      " conv5_block3_2_conv (Conv2  (None, 7, 7, 512)            2359808   ['conv5_block3_1_relu[0][0]'] \n",
      " D)                                                                                               \n",
      "                                                                                                  \n",
      " conv5_block3_2_bn (BatchNo  (None, 7, 7, 512)            2048      ['conv5_block3_2_conv[0][0]'] \n",
      " rmalization)                                                                                     \n",
      "                                                                                                  \n",
      " conv5_block3_2_relu (Activ  (None, 7, 7, 512)            0         ['conv5_block3_2_bn[0][0]']   \n",
      " ation)                                                                                           \n",
      "                                                                                                  \n",
      " conv5_block3_3_conv (Conv2  (None, 7, 7, 2048)           1050624   ['conv5_block3_2_relu[0][0]'] \n",
      " D)                                                                                               \n",
      "                                                                                                  \n",
      " conv5_block3_3_bn (BatchNo  (None, 7, 7, 2048)           8192      ['conv5_block3_3_conv[0][0]'] \n",
      " rmalization)                                                                                     \n",
      "                                                                                                  \n",
      " conv5_block3_add (Add)      (None, 7, 7, 2048)           0         ['conv5_block2_out[0][0]',    \n",
      "                                                                     'conv5_block3_3_bn[0][0]']   \n",
      "                                                                                                  \n",
      " conv5_block3_out (Activati  (None, 7, 7, 2048)           0         ['conv5_block3_add[0][0]']    \n",
      " on)                                                                                              \n",
      "                                                                                                  \n",
      "==================================================================================================\n",
      "Total params: 23587712 (89.98 MB)\n",
      "Trainable params: 23534592 (89.78 MB)\n",
      "Non-trainable params: 53120 (207.50 KB)\n",
      "__________________________________________________________________________________________________\n"
     ]
    }
   ],
   "source": [
    "base_model = tf.keras.models.load_model('section 4/base_model')\n",
    "base_model.summary()"
   ]
  },
  {
   "cell_type": "code",
   "execution_count": 22,
   "id": "5dafa06d-fa91-4411-b061-a2f849b32e56",
   "metadata": {},
   "outputs": [
    {
     "name": "stdout",
     "output_type": "stream",
     "text": [
      "Found 768 images belonging to 8 classes.\n",
      "Found 192 images belonging to 8 classes.\n",
      "Found 240 images belonging to 8 classes.\n"
     ]
    }
   ],
   "source": [
    "train_image_generator = ImageDataGenerator(rescale=1./255, validation_split=0.2, rotation_range=60, height_shift_range=0.2, \n",
    "                                          width_shift_range=0.2, zoom_range=0.2, shear_range=0.2, horizontal_flip=True,\n",
    "                                          preprocessing_function=tf.keras.applications.resnet50.preprocess_input)\n",
    "test_image_generator = ImageDataGenerator(rescale=1./255, preprocessing_function=tf.keras.applications.resnet50.preprocess_input)\n",
    "\n",
    "target_size=(224, 224)\n",
    "batch_size=32\n",
    "train_data_generator = train_image_generator.flow_from_directory(\n",
    "    directory=train_dir, \n",
    "    target_size=target_size, \n",
    "    class_mode='categorical',\n",
    "    subset='training',\n",
    "    shuffle=True                                                                 \n",
    ")\n",
    "validation_data_generator = train_image_generator.flow_from_directory(\n",
    "    directory=train_dir, \n",
    "    target_size=target_size, \n",
    "    class_mode='categorical',\n",
    "    subset='validation',\n",
    "    shuffle=True                                                                 \n",
    ")\n",
    "\n",
    "test_data_generator = test_image_generator.flow_from_directory(\n",
    "    directory=test_dir, \n",
    "    target_size=target_size, \n",
    "    class_mode='categorical'\n",
    "    )"
   ]
  },
  {
   "cell_type": "code",
   "execution_count": 25,
   "id": "d7e275ae-f0f1-4e7b-9e52-5723300291cd",
   "metadata": {},
   "outputs": [
    {
     "name": "stdout",
     "output_type": "stream",
     "text": [
      "Model: \"model_1\"\n",
      "_________________________________________________________________\n",
      " Layer (type)                Output Shape              Param #   \n",
      "=================================================================\n",
      " input_3 (InputLayer)        [(None, 224, 224, 3)]     0         \n",
      "                                                                 \n",
      " resnet50 (Functional)       (None, 7, 7, 2048)        23587712  \n",
      "                                                                 \n",
      " max_pooling2d_8 (MaxPoolin  (None, 3, 3, 2048)        0         \n",
      " g2D)                                                            \n",
      "                                                                 \n",
      " flatten_3 (Flatten)         (None, 18432)             0         \n",
      "                                                                 \n",
      " dense_6 (Dense)             (None, 8)                 147464    \n",
      "                                                                 \n",
      "=================================================================\n",
      "Total params: 23735176 (90.54 MB)\n",
      "Trainable params: 23682056 (90.34 MB)\n",
      "Non-trainable params: 53120 (207.50 KB)\n",
      "_________________________________________________________________\n"
     ]
    }
   ],
   "source": [
    "inputs = Input(shape=(224, 224, 3))\n",
    "x = base_model(inputs, training=False)\n",
    "p = MaxPool2D()(x)\n",
    "f = Flatten()(p)\n",
    "outputs=Dense(8, activation='softmax')(f)\n",
    "\n",
    "model = Model(inputs, outputs)\n",
    "model.compile(optimizer='adam', loss='categorical_crossentropy', metrics=['accuracy'])\n",
    "model.summary()"
   ]
  },
  {
   "cell_type": "code",
   "execution_count": 26,
   "id": "8b49c9b6-05ba-41b8-8159-28c2aa9376ac",
   "metadata": {},
   "outputs": [
    {
     "name": "stdout",
     "output_type": "stream",
     "text": [
      "Epoch 1/3\n",
      "24/24 [==============================] - ETA: 0s - loss: 5.5182 - accuracy: 0.1328INFO:tensorflow:Assets written to: best_optimized_tl_model\\assets\n"
     ]
    },
    {
     "name": "stderr",
     "output_type": "stream",
     "text": [
      "INFO:tensorflow:Assets written to: best_optimized_tl_model\\assets\n"
     ]
    },
    {
     "name": "stdout",
     "output_type": "stream",
     "text": [
      "24/24 [==============================] - 185s 7s/step - loss: 5.5182 - accuracy: 0.1328 - val_loss: 2.0979 - val_accuracy: 0.1250\n",
      "Epoch 2/3\n",
      "24/24 [==============================] - ETA: 0s - loss: 2.1047 - accuracy: 0.1133INFO:tensorflow:Assets written to: best_optimized_tl_model\\assets\n"
     ]
    },
    {
     "name": "stderr",
     "output_type": "stream",
     "text": [
      "INFO:tensorflow:Assets written to: best_optimized_tl_model\\assets\n"
     ]
    },
    {
     "name": "stdout",
     "output_type": "stream",
     "text": [
      "24/24 [==============================] - 171s 7s/step - loss: 2.1047 - accuracy: 0.1133 - val_loss: 2.0961 - val_accuracy: 0.1250\n",
      "Epoch 3/3\n",
      "24/24 [==============================] - ETA: 0s - loss: 2.0983 - accuracy: 0.1146INFO:tensorflow:Assets written to: best_optimized_tl_model\\assets\n"
     ]
    },
    {
     "name": "stderr",
     "output_type": "stream",
     "text": [
      "INFO:tensorflow:Assets written to: best_optimized_tl_model\\assets\n"
     ]
    },
    {
     "name": "stdout",
     "output_type": "stream",
     "text": [
      "\b\b\b\b\b\b\b\b\b\b\b\b\b\b\b\b\b\b\b\b\b\b\b\b\b\b\b\b\b\b\b\b\b\b\b\b\b\b\b\b\b\b\b\b\b\b\b\b\b\b\b\b\b\b\b\b\b\b\b\b\b\b\b\b\b\b\b\b\b\b\b\b\b\b\b\b\b\b\b\b\b\b\r",
      "24/24 [==============================] - 170s 7s/step - loss: 2.0983 - accuracy: 0.1146 - val_loss: 2.0853 - val_accuracy: 0.1250\n"
     ]
    }
   ],
   "source": [
    "early_stop = EarlyStopping(min_delta = 0.01, patience=5, restore_best_weights=True)\n",
    "model_checkpoint = ModelCheckpoint(filepath='best_optimized_tl_model', save_best_only=True)\n",
    "\n",
    "history = model.fit(train_data_generator, validation_data=validation_data_generator, epochs=3, callbacks=[early_stop, model_checkpoint])"
   ]
  },
  {
   "cell_type": "code",
   "execution_count": 27,
   "id": "4a76ccfe-18ac-4b76-a983-a73d4636b634",
   "metadata": {},
   "outputs": [
    {
     "name": "stdout",
     "output_type": "stream",
     "text": [
      "8/8 [==============================] - 12s 1s/step - loss: 2.0853 - accuracy: 0.1250\n",
      "Transfer Learning Model accuracy : 0.12\n"
     ]
    }
   ],
   "source": [
    "loss, accuracy = model.evaluate(test_data_generator)\n",
    "print(f'Transfer Learning Model accuracy : {accuracy:.2f}')"
   ]
  },
  {
   "cell_type": "markdown",
   "id": "cb6651a8-2286-4f3d-b007-19a5a5f5fbf8",
   "metadata": {},
   "source": [
    "#### Section C: Question 5:    (15 Marks)\n",
    "\n",
    "Develop a Semantic segmentation model using Unet architecture on the given dataset.\n",
    "\n",
    "Dataset contains the images and the corresponding masks. Find the dataset under the folder “Unet_Dataset”. 1141 Glioma tumor images and its corresponding masks are provided.\n",
    "\n",
    "Students can make use of pre-trained Unet segmentation model using the library\n",
    "\n",
    "import segmentation_models as sm\n",
    "\n",
    "Hints\n",
    "1. Load all the images in one array of size 1141x128x128x1\n",
    "    Where 1141 is total number of trained images\n",
    "    128x128x3 is each image size (You can resize to any size of your choice, but bigger images takes time)\n",
    "2. Load all the masks in one array of size 1141x128x128x1\n",
    "3. Scale both the above two arrays\n",
    "4. Split the data into train and test\n",
    "5. Define the pre-trained segmentation model. Use encoder_weight=None, If internet access is not available.\n",
    "6. Properly define the classes and activation of the model.\n",
    "6. Compile with appropriate loss and metric and fit the data into it.\n",
    "7. Reduce the batch_size to 1 or 2, if you get any memory related error \n",
    "\n",
    "Run the model for minimum 2 epochs and present your result. The solution will be evaluated based on approach only as it take lot of epochs to produce good result.\n",
    "\n"
   ]
  },
  {
   "cell_type": "code",
   "execution_count": 28,
   "id": "7b703732-faaa-4719-879f-a06553204af5",
   "metadata": {},
   "outputs": [
    {
     "name": "stdout",
     "output_type": "stream",
     "text": [
      "Segmentation Models: using `keras` framework.\n"
     ]
    },
    {
     "data": {
      "text/plain": [
       "'tf.keras'"
      ]
     },
     "execution_count": 28,
     "metadata": {},
     "output_type": "execute_result"
    }
   ],
   "source": [
    "import os\n",
    "import cv2\n",
    "from PIL import Image\n",
    "import tensorflow as tf\n",
    "import numpy as np\n",
    "from matplotlib import pyplot as plt\n",
    "import segmentation_models as sm\n",
    "from sklearn.model_selection import train_test_split\n",
    "from PIL import Image\n",
    "from tensorflow.keras.utils import normalize\n",
    "sm.set_framework('tf.keras')\n",
    "sm.framework()"
   ]
  },
  {
   "cell_type": "code",
   "execution_count": 29,
   "id": "96aa6a22-183d-4a68-9ee0-83e07bd355f1",
   "metadata": {},
   "outputs": [],
   "source": [
    "# hint : uncomment  below to fetch path\n",
    "image_dir=r'section 5/Unet_Dataset/glioma_img/'\n",
    "mask_dir=r'section 5/Unet_Dataset/glioma_mask/'"
   ]
  },
  {
   "cell_type": "code",
   "execution_count": 36,
   "id": "f2943f9b-6588-49e6-986c-6e93174c5c49",
   "metadata": {},
   "outputs": [],
   "source": [
    "size=128\n",
    "image_dataset = []\n",
    "mask_dataset = []\n",
    "\n",
    "images = os.listdir(image_dir)\n",
    "image_ids = []\n",
    "\n",
    "for i, image_name in enumerate(images):\n",
    "    if image_name.split('.')[-1] == 'jpg':\n",
    "        image_ids.append(image_name.split('_')[-1])\n",
    "        image = cv2.imread(image_dir + image_name, cv2.IMREAD_GRAYSCALE)\n",
    "        image = Image.fromarray(image)\n",
    "        image = image.resize((size, size))\n",
    "        image_dataset.append(np.array(image))\n",
    "        \n",
    "masks = os.listdir(mask_dir)\n",
    "\n",
    "for i, image_name in enumerate(masks):\n",
    "    if image_name.split('.')[-1] == 'jpg' and image_name.split('_')[-1] in image_ids:\n",
    "        image_ids.append(image_name.split('_')[-1])\n",
    "        image = cv2.imread(mask_dir + image_name, cv2.IMREAD_GRAYSCALE)\n",
    "        image = cv2.resize(image, (size, size))\n",
    "        (threshold, bwimage) = cv2.threshold(image, 127, 255, cv2.THRESH_BINARY)\n",
    "        bwimage = Image.fromarray(image)\n",
    "        mask_dataset.append(np.array(bwimage))"
   ]
  },
  {
   "cell_type": "code",
   "execution_count": 37,
   "id": "61f19c47-097f-45ab-b127-f6f96c5fbecb",
   "metadata": {},
   "outputs": [
    {
     "data": {
      "text/plain": [
       "(1141, 128, 128, 1)"
      ]
     },
     "execution_count": 37,
     "metadata": {},
     "output_type": "execute_result"
    }
   ],
   "source": [
    "image_dataset = np.array(image_dataset).astype('float32')\n",
    "image_dataset = np.expand_dims(image_dataset, axis=3)\n",
    "image_dataset.shape"
   ]
  },
  {
   "cell_type": "code",
   "execution_count": 38,
   "id": "7d8c3b3c-0e60-4684-bae8-b36165952659",
   "metadata": {},
   "outputs": [
    {
     "data": {
      "text/plain": [
       "(1141, 128, 128, 1)"
      ]
     },
     "execution_count": 38,
     "metadata": {},
     "output_type": "execute_result"
    }
   ],
   "source": [
    "mask_dataset = np.array(mask_dataset)\n",
    "mask_dataset = np.where(mask_dataset > 0, 1, 0).astype('float32')\n",
    "mask_dataset = np.expand_dims(mask_dataset, axis=3)\n",
    "mask_dataset.shape"
   ]
  },
  {
   "cell_type": "code",
   "execution_count": 42,
   "id": "7175a485",
   "metadata": {},
   "outputs": [
    {
     "data": {
      "image/png": "[encoded data removed]",
      "text/plain": [
       "<Figure size 640x480 with 4 Axes>"
      ]
     },
     "metadata": {},
     "output_type": "display_data"
    }
   ],
   "source": [
    "r1 = np.random.randint(1, 1141, size=(1, 2))\n",
    "\n",
    "plt.subplot(2, 2, 1)\n",
    "plt.imshow(image_dataset[r1[0][0], :, :, :], cmap='gray')\n",
    "\n",
    "plt.subplot(2, 2, 2)\n",
    "plt.imshow(mask_dataset[r1[0][0], :, :, :], cmap='gray')\n",
    "\n",
    "plt.subplot(2, 2, 3)\n",
    "plt.imshow(image_dataset[r1[0][1], :, :, :], cmap='gray')\n",
    "\n",
    "plt.subplot(2, 2, 4)\n",
    "plt.imshow(mask_dataset[r1[0][1], :, :, :], cmap='gray')\n",
    "\n",
    "plt.tight_layout()\n",
    "plt.show()"
   ]
  },
  {
   "cell_type": "code",
   "execution_count": 39,
   "id": "c328be70-2c77-4b5a-9dca-cb1d43ecb3af",
   "metadata": {},
   "outputs": [],
   "source": [
    "x_train, x_test, y_train, y_test = train_test_split(image_dataset, mask_dataset, test_size=0.2, random_state=43)\n",
    "\n",
    "backbone = 'resnet34'\n",
    "preprocess_func = sm.get_preprocessing(backbone)\n",
    "\n",
    "x_train_processed = preprocess_func(x_train)\n",
    "x_test_processed = preprocess_func(x_test)"
   ]
  },
  {
   "cell_type": "code",
   "execution_count": 40,
   "id": "ebbaa3a8-a804-4e42-bf1c-e9c870c744bb",
   "metadata": {},
   "outputs": [
    {
     "name": "stdout",
     "output_type": "stream",
     "text": [
      "Model: \"model_1\"\n",
      "__________________________________________________________________________________________________\n",
      " Layer (type)                Output Shape                 Param #   Connected to                  \n",
      "==================================================================================================\n",
      " data (InputLayer)           [(None, 128, 128, 1)]        0         []                            \n",
      "                                                                                                  \n",
      " bn_data (BatchNormalizatio  (None, 128, 128, 1)          3         ['data[0][0]']                \n",
      " n)                                                                                               \n",
      "                                                                                                  \n",
      " zero_padding2d (ZeroPaddin  (None, 134, 134, 1)          0         ['bn_data[0][0]']             \n",
      " g2D)                                                                                             \n",
      "                                                                                                  \n",
      " conv0 (Conv2D)              (None, 64, 64, 64)           3136      ['zero_padding2d[0][0]']      \n",
      "                                                                                                  \n",
      " bn0 (BatchNormalization)    (None, 64, 64, 64)           256       ['conv0[0][0]']               \n",
      "                                                                                                  \n",
      " relu0 (Activation)          (None, 64, 64, 64)           0         ['bn0[0][0]']                 \n",
      "                                                                                                  \n",
      " zero_padding2d_1 (ZeroPadd  (None, 66, 66, 64)           0         ['relu0[0][0]']               \n",
      " ing2D)                                                                                           \n",
      "                                                                                                  \n",
      " pooling0 (MaxPooling2D)     (None, 32, 32, 64)           0         ['zero_padding2d_1[0][0]']    \n",
      "                                                                                                  \n",
      " stage1_unit1_bn1 (BatchNor  (None, 32, 32, 64)           256       ['pooling0[0][0]']            \n",
      " malization)                                                                                      \n",
      "                                                                                                  \n",
      " stage1_unit1_relu1 (Activa  (None, 32, 32, 64)           0         ['stage1_unit1_bn1[0][0]']    \n",
      " tion)                                                                                            \n",
      "                                                                                                  \n",
      " zero_padding2d_2 (ZeroPadd  (None, 34, 34, 64)           0         ['stage1_unit1_relu1[0][0]']  \n",
      " ing2D)                                                                                           \n",
      "                                                                                                  \n",
      " stage1_unit1_conv1 (Conv2D  (None, 32, 32, 64)           36864     ['zero_padding2d_2[0][0]']    \n",
      " )                                                                                                \n",
      "                                                                                                  \n",
      " stage1_unit1_bn2 (BatchNor  (None, 32, 32, 64)           256       ['stage1_unit1_conv1[0][0]']  \n",
      " malization)                                                                                      \n",
      "                                                                                                  \n",
      " stage1_unit1_relu2 (Activa  (None, 32, 32, 64)           0         ['stage1_unit1_bn2[0][0]']    \n",
      " tion)                                                                                            \n",
      "                                                                                                  \n",
      " zero_padding2d_3 (ZeroPadd  (None, 34, 34, 64)           0         ['stage1_unit1_relu2[0][0]']  \n",
      " ing2D)                                                                                           \n",
      "                                                                                                  \n",
      " stage1_unit1_conv2 (Conv2D  (None, 32, 32, 64)           36864     ['zero_padding2d_3[0][0]']    \n",
      " )                                                                                                \n",
      "                                                                                                  \n",
      " stage1_unit1_sc (Conv2D)    (None, 32, 32, 64)           4096      ['stage1_unit1_relu1[0][0]']  \n",
      "                                                                                                  \n",
      " add (Add)                   (None, 32, 32, 64)           0         ['stage1_unit1_conv2[0][0]',  \n",
      "                                                                     'stage1_unit1_sc[0][0]']     \n",
      "                                                                                                  \n",
      " stage1_unit2_bn1 (BatchNor  (None, 32, 32, 64)           256       ['add[0][0]']                 \n",
      " malization)                                                                                      \n",
      "                                                                                                  \n",
      " stage1_unit2_relu1 (Activa  (None, 32, 32, 64)           0         ['stage1_unit2_bn1[0][0]']    \n",
      " tion)                                                                                            \n",
      "                                                                                                  \n",
      " zero_padding2d_4 (ZeroPadd  (None, 34, 34, 64)           0         ['stage1_unit2_relu1[0][0]']  \n",
      " ing2D)                                                                                           \n",
      "                                                                                                  \n",
      " stage1_unit2_conv1 (Conv2D  (None, 32, 32, 64)           36864     ['zero_padding2d_4[0][0]']    \n",
      " )                                                                                                \n",
      "                                                                                                  \n",
      " stage1_unit2_bn2 (BatchNor  (None, 32, 32, 64)           256       ['stage1_unit2_conv1[0][0]']  \n",
      " malization)                                                                                      \n",
      "                                                                                                  \n",
      " stage1_unit2_relu2 (Activa  (None, 32, 32, 64)           0         ['stage1_unit2_bn2[0][0]']    \n",
      " tion)                                                                                            \n",
      "                                                                                                  \n",
      " zero_padding2d_5 (ZeroPadd  (None, 34, 34, 64)           0         ['stage1_unit2_relu2[0][0]']  \n",
      " ing2D)                                                                                           \n",
      "                                                                                                  \n",
      " stage1_unit2_conv2 (Conv2D  (None, 32, 32, 64)           36864     ['zero_padding2d_5[0][0]']    \n",
      " )                                                                                                \n",
      "                                                                                                  \n",
      " add_1 (Add)                 (None, 32, 32, 64)           0         ['stage1_unit2_conv2[0][0]',  \n",
      "                                                                     'add[0][0]']                 \n",
      "                                                                                                  \n",
      " stage1_unit3_bn1 (BatchNor  (None, 32, 32, 64)           256       ['add_1[0][0]']               \n",
      " malization)                                                                                      \n",
      "                                                                                                  \n",
      " stage1_unit3_relu1 (Activa  (None, 32, 32, 64)           0         ['stage1_unit3_bn1[0][0]']    \n",
      " tion)                                                                                            \n"
     ]
    },
    {
     "name": "stdout",
     "output_type": "stream",
     "text": [
      "                                                                                                  \n",
      " zero_padding2d_6 (ZeroPadd  (None, 34, 34, 64)           0         ['stage1_unit3_relu1[0][0]']  \n",
      " ing2D)                                                                                           \n",
      "                                                                                                  \n",
      " stage1_unit3_conv1 (Conv2D  (None, 32, 32, 64)           36864     ['zero_padding2d_6[0][0]']    \n",
      " )                                                                                                \n",
      "                                                                                                  \n",
      " stage1_unit3_bn2 (BatchNor  (None, 32, 32, 64)           256       ['stage1_unit3_conv1[0][0]']  \n",
      " malization)                                                                                      \n",
      "                                                                                                  \n",
      " stage1_unit3_relu2 (Activa  (None, 32, 32, 64)           0         ['stage1_unit3_bn2[0][0]']    \n",
      " tion)                                                                                            \n",
      "                                                                                                  \n",
      " zero_padding2d_7 (ZeroPadd  (None, 34, 34, 64)           0         ['stage1_unit3_relu2[0][0]']  \n",
      " ing2D)                                                                                           \n",
      "                                                                                                  \n",
      " stage1_unit3_conv2 (Conv2D  (None, 32, 32, 64)           36864     ['zero_padding2d_7[0][0]']    \n",
      " )                                                                                                \n",
      "                                                                                                  \n",
      " add_2 (Add)                 (None, 32, 32, 64)           0         ['stage1_unit3_conv2[0][0]',  \n",
      "                                                                     'add_1[0][0]']               \n",
      "                                                                                                  \n",
      " stage2_unit1_bn1 (BatchNor  (None, 32, 32, 64)           256       ['add_2[0][0]']               \n",
      " malization)                                                                                      \n",
      "                                                                                                  \n",
      " stage2_unit1_relu1 (Activa  (None, 32, 32, 64)           0         ['stage2_unit1_bn1[0][0]']    \n",
      " tion)                                                                                            \n",
      "                                                                                                  \n",
      " zero_padding2d_8 (ZeroPadd  (None, 34, 34, 64)           0         ['stage2_unit1_relu1[0][0]']  \n",
      " ing2D)                                                                                           \n",
      "                                                                                                  \n",
      " stage2_unit1_conv1 (Conv2D  (None, 16, 16, 128)          73728     ['zero_padding2d_8[0][0]']    \n",
      " )                                                                                                \n",
      "                                                                                                  \n",
      " stage2_unit1_bn2 (BatchNor  (None, 16, 16, 128)          512       ['stage2_unit1_conv1[0][0]']  \n",
      " malization)                                                                                      \n",
      "                                                                                                  \n",
      " stage2_unit1_relu2 (Activa  (None, 16, 16, 128)          0         ['stage2_unit1_bn2[0][0]']    \n",
      " tion)                                                                                            \n",
      "                                                                                                  \n",
      " zero_padding2d_9 (ZeroPadd  (None, 18, 18, 128)          0         ['stage2_unit1_relu2[0][0]']  \n",
      " ing2D)                                                                                           \n",
      "                                                                                                  \n",
      " stage2_unit1_conv2 (Conv2D  (None, 16, 16, 128)          147456    ['zero_padding2d_9[0][0]']    \n",
      " )                                                                                                \n",
      "                                                                                                  \n",
      " stage2_unit1_sc (Conv2D)    (None, 16, 16, 128)          8192      ['stage2_unit1_relu1[0][0]']  \n",
      "                                                                                                  \n",
      " add_3 (Add)                 (None, 16, 16, 128)          0         ['stage2_unit1_conv2[0][0]',  \n",
      "                                                                     'stage2_unit1_sc[0][0]']     \n",
      "                                                                                                  \n",
      " stage2_unit2_bn1 (BatchNor  (None, 16, 16, 128)          512       ['add_3[0][0]']               \n",
      " malization)                                                                                      \n",
      "                                                                                                  \n",
      " stage2_unit2_relu1 (Activa  (None, 16, 16, 128)          0         ['stage2_unit2_bn1[0][0]']    \n",
      " tion)                                                                                            \n",
      "                                                                                                  \n",
      " zero_padding2d_10 (ZeroPad  (None, 18, 18, 128)          0         ['stage2_unit2_relu1[0][0]']  \n",
      " ding2D)                                                                                          \n",
      "                                                                                                  \n",
      " stage2_unit2_conv1 (Conv2D  (None, 16, 16, 128)          147456    ['zero_padding2d_10[0][0]']   \n",
      " )                                                                                                \n",
      "                                                                                                  \n",
      " stage2_unit2_bn2 (BatchNor  (None, 16, 16, 128)          512       ['stage2_unit2_conv1[0][0]']  \n",
      " malization)                                                                                      \n",
      "                                                                                                  \n",
      " stage2_unit2_relu2 (Activa  (None, 16, 16, 128)          0         ['stage2_unit2_bn2[0][0]']    \n",
      " tion)                                                                                            \n",
      "                                                                                                  \n",
      " zero_padding2d_11 (ZeroPad  (None, 18, 18, 128)          0         ['stage2_unit2_relu2[0][0]']  \n",
      " ding2D)                                                                                          \n",
      "                                                                                                  \n",
      " stage2_unit2_conv2 (Conv2D  (None, 16, 16, 128)          147456    ['zero_padding2d_11[0][0]']   \n",
      " )                                                                                                \n",
      "                                                                                                  \n",
      " add_4 (Add)                 (None, 16, 16, 128)          0         ['stage2_unit2_conv2[0][0]',  \n",
      "                                                                     'add_3[0][0]']               \n",
      "                                                                                                  \n",
      " stage2_unit3_bn1 (BatchNor  (None, 16, 16, 128)          512       ['add_4[0][0]']               \n",
      " malization)                                                                                      \n",
      "                                                                                                  \n",
      " stage2_unit3_relu1 (Activa  (None, 16, 16, 128)          0         ['stage2_unit3_bn1[0][0]']    \n",
      " tion)                                                                                            \n"
     ]
    },
    {
     "name": "stdout",
     "output_type": "stream",
     "text": [
      "                                                                                                  \n",
      " zero_padding2d_12 (ZeroPad  (None, 18, 18, 128)          0         ['stage2_unit3_relu1[0][0]']  \n",
      " ding2D)                                                                                          \n",
      "                                                                                                  \n",
      " stage2_unit3_conv1 (Conv2D  (None, 16, 16, 128)          147456    ['zero_padding2d_12[0][0]']   \n",
      " )                                                                                                \n",
      "                                                                                                  \n",
      " stage2_unit3_bn2 (BatchNor  (None, 16, 16, 128)          512       ['stage2_unit3_conv1[0][0]']  \n",
      " malization)                                                                                      \n",
      "                                                                                                  \n",
      " stage2_unit3_relu2 (Activa  (None, 16, 16, 128)          0         ['stage2_unit3_bn2[0][0]']    \n",
      " tion)                                                                                            \n",
      "                                                                                                  \n",
      " zero_padding2d_13 (ZeroPad  (None, 18, 18, 128)          0         ['stage2_unit3_relu2[0][0]']  \n",
      " ding2D)                                                                                          \n",
      "                                                                                                  \n",
      " stage2_unit3_conv2 (Conv2D  (None, 16, 16, 128)          147456    ['zero_padding2d_13[0][0]']   \n",
      " )                                                                                                \n",
      "                                                                                                  \n",
      " add_5 (Add)                 (None, 16, 16, 128)          0         ['stage2_unit3_conv2[0][0]',  \n",
      "                                                                     'add_4[0][0]']               \n",
      "                                                                                                  \n",
      " stage2_unit4_bn1 (BatchNor  (None, 16, 16, 128)          512       ['add_5[0][0]']               \n",
      " malization)                                                                                      \n",
      "                                                                                                  \n",
      " stage2_unit4_relu1 (Activa  (None, 16, 16, 128)          0         ['stage2_unit4_bn1[0][0]']    \n",
      " tion)                                                                                            \n",
      "                                                                                                  \n",
      " zero_padding2d_14 (ZeroPad  (None, 18, 18, 128)          0         ['stage2_unit4_relu1[0][0]']  \n",
      " ding2D)                                                                                          \n",
      "                                                                                                  \n",
      " stage2_unit4_conv1 (Conv2D  (None, 16, 16, 128)          147456    ['zero_padding2d_14[0][0]']   \n",
      " )                                                                                                \n",
      "                                                                                                  \n",
      " stage2_unit4_bn2 (BatchNor  (None, 16, 16, 128)          512       ['stage2_unit4_conv1[0][0]']  \n",
      " malization)                                                                                      \n",
      "                                                                                                  \n",
      " stage2_unit4_relu2 (Activa  (None, 16, 16, 128)          0         ['stage2_unit4_bn2[0][0]']    \n",
      " tion)                                                                                            \n",
      "                                                                                                  \n",
      " zero_padding2d_15 (ZeroPad  (None, 18, 18, 128)          0         ['stage2_unit4_relu2[0][0]']  \n",
      " ding2D)                                                                                          \n",
      "                                                                                                  \n",
      " stage2_unit4_conv2 (Conv2D  (None, 16, 16, 128)          147456    ['zero_padding2d_15[0][0]']   \n",
      " )                                                                                                \n",
      "                                                                                                  \n",
      " add_6 (Add)                 (None, 16, 16, 128)          0         ['stage2_unit4_conv2[0][0]',  \n",
      "                                                                     'add_5[0][0]']               \n",
      "                                                                                                  \n",
      " stage3_unit1_bn1 (BatchNor  (None, 16, 16, 128)          512       ['add_6[0][0]']               \n",
      " malization)                                                                                      \n",
      "                                                                                                  \n",
      " stage3_unit1_relu1 (Activa  (None, 16, 16, 128)          0         ['stage3_unit1_bn1[0][0]']    \n",
      " tion)                                                                                            \n",
      "                                                                                                  \n",
      " zero_padding2d_16 (ZeroPad  (None, 18, 18, 128)          0         ['stage3_unit1_relu1[0][0]']  \n",
      " ding2D)                                                                                          \n",
      "                                                                                                  \n",
      " stage3_unit1_conv1 (Conv2D  (None, 8, 8, 256)            294912    ['zero_padding2d_16[0][0]']   \n",
      " )                                                                                                \n",
      "                                                                                                  \n",
      " stage3_unit1_bn2 (BatchNor  (None, 8, 8, 256)            1024      ['stage3_unit1_conv1[0][0]']  \n",
      " malization)                                                                                      \n",
      "                                                                                                  \n",
      " stage3_unit1_relu2 (Activa  (None, 8, 8, 256)            0         ['stage3_unit1_bn2[0][0]']    \n",
      " tion)                                                                                            \n",
      "                                                                                                  \n",
      " zero_padding2d_17 (ZeroPad  (None, 10, 10, 256)          0         ['stage3_unit1_relu2[0][0]']  \n",
      " ding2D)                                                                                          \n",
      "                                                                                                  \n",
      " stage3_unit1_conv2 (Conv2D  (None, 8, 8, 256)            589824    ['zero_padding2d_17[0][0]']   \n",
      " )                                                                                                \n",
      "                                                                                                  \n",
      " stage3_unit1_sc (Conv2D)    (None, 8, 8, 256)            32768     ['stage3_unit1_relu1[0][0]']  \n",
      "                                                                                                  \n",
      " add_7 (Add)                 (None, 8, 8, 256)            0         ['stage3_unit1_conv2[0][0]',  \n",
      "                                                                     'stage3_unit1_sc[0][0]']     \n",
      "                                                                                                  \n",
      " stage3_unit2_bn1 (BatchNor  (None, 8, 8, 256)            1024      ['add_7[0][0]']               \n",
      " malization)                                                                                      \n",
      "                                                                                                  \n",
      " stage3_unit2_relu1 (Activa  (None, 8, 8, 256)            0         ['stage3_unit2_bn1[0][0]']    \n",
      " tion)                                                                                            \n"
     ]
    },
    {
     "name": "stdout",
     "output_type": "stream",
     "text": [
      "                                                                                                  \n",
      " zero_padding2d_18 (ZeroPad  (None, 10, 10, 256)          0         ['stage3_unit2_relu1[0][0]']  \n",
      " ding2D)                                                                                          \n",
      "                                                                                                  \n",
      " stage3_unit2_conv1 (Conv2D  (None, 8, 8, 256)            589824    ['zero_padding2d_18[0][0]']   \n",
      " )                                                                                                \n",
      "                                                                                                  \n",
      " stage3_unit2_bn2 (BatchNor  (None, 8, 8, 256)            1024      ['stage3_unit2_conv1[0][0]']  \n",
      " malization)                                                                                      \n",
      "                                                                                                  \n",
      " stage3_unit2_relu2 (Activa  (None, 8, 8, 256)            0         ['stage3_unit2_bn2[0][0]']    \n",
      " tion)                                                                                            \n",
      "                                                                                                  \n",
      " zero_padding2d_19 (ZeroPad  (None, 10, 10, 256)          0         ['stage3_unit2_relu2[0][0]']  \n",
      " ding2D)                                                                                          \n",
      "                                                                                                  \n",
      " stage3_unit2_conv2 (Conv2D  (None, 8, 8, 256)            589824    ['zero_padding2d_19[0][0]']   \n",
      " )                                                                                                \n",
      "                                                                                                  \n",
      " add_8 (Add)                 (None, 8, 8, 256)            0         ['stage3_unit2_conv2[0][0]',  \n",
      "                                                                     'add_7[0][0]']               \n",
      "                                                                                                  \n",
      " stage3_unit3_bn1 (BatchNor  (None, 8, 8, 256)            1024      ['add_8[0][0]']               \n",
      " malization)                                                                                      \n",
      "                                                                                                  \n",
      " stage3_unit3_relu1 (Activa  (None, 8, 8, 256)            0         ['stage3_unit3_bn1[0][0]']    \n",
      " tion)                                                                                            \n",
      "                                                                                                  \n",
      " zero_padding2d_20 (ZeroPad  (None, 10, 10, 256)          0         ['stage3_unit3_relu1[0][0]']  \n",
      " ding2D)                                                                                          \n",
      "                                                                                                  \n",
      " stage3_unit3_conv1 (Conv2D  (None, 8, 8, 256)            589824    ['zero_padding2d_20[0][0]']   \n",
      " )                                                                                                \n",
      "                                                                                                  \n",
      " stage3_unit3_bn2 (BatchNor  (None, 8, 8, 256)            1024      ['stage3_unit3_conv1[0][0]']  \n",
      " malization)                                                                                      \n",
      "                                                                                                  \n",
      " stage3_unit3_relu2 (Activa  (None, 8, 8, 256)            0         ['stage3_unit3_bn2[0][0]']    \n",
      " tion)                                                                                            \n",
      "                                                                                                  \n",
      " zero_padding2d_21 (ZeroPad  (None, 10, 10, 256)          0         ['stage3_unit3_relu2[0][0]']  \n",
      " ding2D)                                                                                          \n",
      "                                                                                                  \n",
      " stage3_unit3_conv2 (Conv2D  (None, 8, 8, 256)            589824    ['zero_padding2d_21[0][0]']   \n",
      " )                                                                                                \n",
      "                                                                                                  \n",
      " add_9 (Add)                 (None, 8, 8, 256)            0         ['stage3_unit3_conv2[0][0]',  \n",
      "                                                                     'add_8[0][0]']               \n",
      "                                                                                                  \n",
      " stage3_unit4_bn1 (BatchNor  (None, 8, 8, 256)            1024      ['add_9[0][0]']               \n",
      " malization)                                                                                      \n",
      "                                                                                                  \n",
      " stage3_unit4_relu1 (Activa  (None, 8, 8, 256)            0         ['stage3_unit4_bn1[0][0]']    \n",
      " tion)                                                                                            \n",
      "                                                                                                  \n",
      " zero_padding2d_22 (ZeroPad  (None, 10, 10, 256)          0         ['stage3_unit4_relu1[0][0]']  \n",
      " ding2D)                                                                                          \n",
      "                                                                                                  \n",
      " stage3_unit4_conv1 (Conv2D  (None, 8, 8, 256)            589824    ['zero_padding2d_22[0][0]']   \n",
      " )                                                                                                \n",
      "                                                                                                  \n",
      " stage3_unit4_bn2 (BatchNor  (None, 8, 8, 256)            1024      ['stage3_unit4_conv1[0][0]']  \n",
      " malization)                                                                                      \n",
      "                                                                                                  \n",
      " stage3_unit4_relu2 (Activa  (None, 8, 8, 256)            0         ['stage3_unit4_bn2[0][0]']    \n",
      " tion)                                                                                            \n",
      "                                                                                                  \n",
      " zero_padding2d_23 (ZeroPad  (None, 10, 10, 256)          0         ['stage3_unit4_relu2[0][0]']  \n",
      " ding2D)                                                                                          \n",
      "                                                                                                  \n",
      " stage3_unit4_conv2 (Conv2D  (None, 8, 8, 256)            589824    ['zero_padding2d_23[0][0]']   \n",
      " )                                                                                                \n",
      "                                                                                                  \n",
      " add_10 (Add)                (None, 8, 8, 256)            0         ['stage3_unit4_conv2[0][0]',  \n",
      "                                                                     'add_9[0][0]']               \n",
      "                                                                                                  \n",
      " stage3_unit5_bn1 (BatchNor  (None, 8, 8, 256)            1024      ['add_10[0][0]']              \n",
      " malization)                                                                                      \n",
      "                                                                                                  \n",
      " stage3_unit5_relu1 (Activa  (None, 8, 8, 256)            0         ['stage3_unit5_bn1[0][0]']    \n",
      " tion)                                                                                            \n",
      "                                                                                                  \n",
      " zero_padding2d_24 (ZeroPad  (None, 10, 10, 256)          0         ['stage3_unit5_relu1[0][0]']  \n"
     ]
    },
    {
     "name": "stdout",
     "output_type": "stream",
     "text": [
      " ding2D)                                                                                          \n",
      "                                                                                                  \n",
      " stage3_unit5_conv1 (Conv2D  (None, 8, 8, 256)            589824    ['zero_padding2d_24[0][0]']   \n",
      " )                                                                                                \n",
      "                                                                                                  \n",
      " stage3_unit5_bn2 (BatchNor  (None, 8, 8, 256)            1024      ['stage3_unit5_conv1[0][0]']  \n",
      " malization)                                                                                      \n",
      "                                                                                                  \n",
      " stage3_unit5_relu2 (Activa  (None, 8, 8, 256)            0         ['stage3_unit5_bn2[0][0]']    \n",
      " tion)                                                                                            \n",
      "                                                                                                  \n",
      " zero_padding2d_25 (ZeroPad  (None, 10, 10, 256)          0         ['stage3_unit5_relu2[0][0]']  \n",
      " ding2D)                                                                                          \n",
      "                                                                                                  \n",
      " stage3_unit5_conv2 (Conv2D  (None, 8, 8, 256)            589824    ['zero_padding2d_25[0][0]']   \n",
      " )                                                                                                \n",
      "                                                                                                  \n",
      " add_11 (Add)                (None, 8, 8, 256)            0         ['stage3_unit5_conv2[0][0]',  \n",
      "                                                                     'add_10[0][0]']              \n",
      "                                                                                                  \n",
      " stage3_unit6_bn1 (BatchNor  (None, 8, 8, 256)            1024      ['add_11[0][0]']              \n",
      " malization)                                                                                      \n",
      "                                                                                                  \n",
      " stage3_unit6_relu1 (Activa  (None, 8, 8, 256)            0         ['stage3_unit6_bn1[0][0]']    \n",
      " tion)                                                                                            \n",
      "                                                                                                  \n",
      " zero_padding2d_26 (ZeroPad  (None, 10, 10, 256)          0         ['stage3_unit6_relu1[0][0]']  \n",
      " ding2D)                                                                                          \n",
      "                                                                                                  \n",
      " stage3_unit6_conv1 (Conv2D  (None, 8, 8, 256)            589824    ['zero_padding2d_26[0][0]']   \n",
      " )                                                                                                \n",
      "                                                                                                  \n",
      " stage3_unit6_bn2 (BatchNor  (None, 8, 8, 256)            1024      ['stage3_unit6_conv1[0][0]']  \n",
      " malization)                                                                                      \n",
      "                                                                                                  \n",
      " stage3_unit6_relu2 (Activa  (None, 8, 8, 256)            0         ['stage3_unit6_bn2[0][0]']    \n",
      " tion)                                                                                            \n",
      "                                                                                                  \n",
      " zero_padding2d_27 (ZeroPad  (None, 10, 10, 256)          0         ['stage3_unit6_relu2[0][0]']  \n",
      " ding2D)                                                                                          \n",
      "                                                                                                  \n",
      " stage3_unit6_conv2 (Conv2D  (None, 8, 8, 256)            589824    ['zero_padding2d_27[0][0]']   \n",
      " )                                                                                                \n",
      "                                                                                                  \n",
      " add_12 (Add)                (None, 8, 8, 256)            0         ['stage3_unit6_conv2[0][0]',  \n",
      "                                                                     'add_11[0][0]']              \n",
      "                                                                                                  \n",
      " stage4_unit1_bn1 (BatchNor  (None, 8, 8, 256)            1024      ['add_12[0][0]']              \n",
      " malization)                                                                                      \n",
      "                                                                                                  \n",
      " stage4_unit1_relu1 (Activa  (None, 8, 8, 256)            0         ['stage4_unit1_bn1[0][0]']    \n",
      " tion)                                                                                            \n",
      "                                                                                                  \n",
      " zero_padding2d_28 (ZeroPad  (None, 10, 10, 256)          0         ['stage4_unit1_relu1[0][0]']  \n",
      " ding2D)                                                                                          \n",
      "                                                                                                  \n",
      " stage4_unit1_conv1 (Conv2D  (None, 4, 4, 512)            1179648   ['zero_padding2d_28[0][0]']   \n",
      " )                                                                                                \n",
      "                                                                                                  \n",
      " stage4_unit1_bn2 (BatchNor  (None, 4, 4, 512)            2048      ['stage4_unit1_conv1[0][0]']  \n",
      " malization)                                                                                      \n",
      "                                                                                                  \n",
      " stage4_unit1_relu2 (Activa  (None, 4, 4, 512)            0         ['stage4_unit1_bn2[0][0]']    \n",
      " tion)                                                                                            \n",
      "                                                                                                  \n",
      " zero_padding2d_29 (ZeroPad  (None, 6, 6, 512)            0         ['stage4_unit1_relu2[0][0]']  \n",
      " ding2D)                                                                                          \n",
      "                                                                                                  \n",
      " stage4_unit1_conv2 (Conv2D  (None, 4, 4, 512)            2359296   ['zero_padding2d_29[0][0]']   \n",
      " )                                                                                                \n",
      "                                                                                                  \n",
      " stage4_unit1_sc (Conv2D)    (None, 4, 4, 512)            131072    ['stage4_unit1_relu1[0][0]']  \n",
      "                                                                                                  \n",
      " add_13 (Add)                (None, 4, 4, 512)            0         ['stage4_unit1_conv2[0][0]',  \n",
      "                                                                     'stage4_unit1_sc[0][0]']     \n",
      "                                                                                                  \n",
      " stage4_unit2_bn1 (BatchNor  (None, 4, 4, 512)            2048      ['add_13[0][0]']              \n",
      " malization)                                                                                      \n",
      "                                                                                                  \n",
      " stage4_unit2_relu1 (Activa  (None, 4, 4, 512)            0         ['stage4_unit2_bn1[0][0]']    \n",
      " tion)                                                                                            \n",
      "                                                                                                  \n",
      " zero_padding2d_30 (ZeroPad  (None, 6, 6, 512)            0         ['stage4_unit2_relu1[0][0]']  \n"
     ]
    },
    {
     "name": "stdout",
     "output_type": "stream",
     "text": [
      " ding2D)                                                                                          \n",
      "                                                                                                  \n",
      " stage4_unit2_conv1 (Conv2D  (None, 4, 4, 512)            2359296   ['zero_padding2d_30[0][0]']   \n",
      " )                                                                                                \n",
      "                                                                                                  \n",
      " stage4_unit2_bn2 (BatchNor  (None, 4, 4, 512)            2048      ['stage4_unit2_conv1[0][0]']  \n",
      " malization)                                                                                      \n",
      "                                                                                                  \n",
      " stage4_unit2_relu2 (Activa  (None, 4, 4, 512)            0         ['stage4_unit2_bn2[0][0]']    \n",
      " tion)                                                                                            \n",
      "                                                                                                  \n",
      " zero_padding2d_31 (ZeroPad  (None, 6, 6, 512)            0         ['stage4_unit2_relu2[0][0]']  \n",
      " ding2D)                                                                                          \n",
      "                                                                                                  \n",
      " stage4_unit2_conv2 (Conv2D  (None, 4, 4, 512)            2359296   ['zero_padding2d_31[0][0]']   \n",
      " )                                                                                                \n",
      "                                                                                                  \n",
      " add_14 (Add)                (None, 4, 4, 512)            0         ['stage4_unit2_conv2[0][0]',  \n",
      "                                                                     'add_13[0][0]']              \n",
      "                                                                                                  \n",
      " stage4_unit3_bn1 (BatchNor  (None, 4, 4, 512)            2048      ['add_14[0][0]']              \n",
      " malization)                                                                                      \n",
      "                                                                                                  \n",
      " stage4_unit3_relu1 (Activa  (None, 4, 4, 512)            0         ['stage4_unit3_bn1[0][0]']    \n",
      " tion)                                                                                            \n",
      "                                                                                                  \n",
      " zero_padding2d_32 (ZeroPad  (None, 6, 6, 512)            0         ['stage4_unit3_relu1[0][0]']  \n",
      " ding2D)                                                                                          \n",
      "                                                                                                  \n",
      " stage4_unit3_conv1 (Conv2D  (None, 4, 4, 512)            2359296   ['zero_padding2d_32[0][0]']   \n",
      " )                                                                                                \n",
      "                                                                                                  \n",
      " stage4_unit3_bn2 (BatchNor  (None, 4, 4, 512)            2048      ['stage4_unit3_conv1[0][0]']  \n",
      " malization)                                                                                      \n",
      "                                                                                                  \n",
      " stage4_unit3_relu2 (Activa  (None, 4, 4, 512)            0         ['stage4_unit3_bn2[0][0]']    \n",
      " tion)                                                                                            \n",
      "                                                                                                  \n",
      " zero_padding2d_33 (ZeroPad  (None, 6, 6, 512)            0         ['stage4_unit3_relu2[0][0]']  \n",
      " ding2D)                                                                                          \n",
      "                                                                                                  \n",
      " stage4_unit3_conv2 (Conv2D  (None, 4, 4, 512)            2359296   ['zero_padding2d_33[0][0]']   \n",
      " )                                                                                                \n",
      "                                                                                                  \n",
      " add_15 (Add)                (None, 4, 4, 512)            0         ['stage4_unit3_conv2[0][0]',  \n",
      "                                                                     'add_14[0][0]']              \n",
      "                                                                                                  \n",
      " bn1 (BatchNormalization)    (None, 4, 4, 512)            2048      ['add_15[0][0]']              \n",
      "                                                                                                  \n",
      " relu1 (Activation)          (None, 4, 4, 512)            0         ['bn1[0][0]']                 \n",
      "                                                                                                  \n",
      " decoder_stage0_upsampling   (None, 8, 8, 512)            0         ['relu1[0][0]']               \n",
      " (UpSampling2D)                                                                                   \n",
      "                                                                                                  \n",
      " decoder_stage0_concat (Con  (None, 8, 8, 768)            0         ['decoder_stage0_upsampling[0]\n",
      " catenate)                                                          [0]',                         \n",
      "                                                                     'stage4_unit1_relu1[0][0]']  \n",
      "                                                                                                  \n",
      " decoder_stage0a_conv (Conv  (None, 8, 8, 256)            1769472   ['decoder_stage0_concat[0][0]'\n",
      " 2D)                                                                ]                             \n",
      "                                                                                                  \n",
      " decoder_stage0a_bn (BatchN  (None, 8, 8, 256)            1024      ['decoder_stage0a_conv[0][0]']\n",
      " ormalization)                                                                                    \n",
      "                                                                                                  \n",
      " decoder_stage0a_relu (Acti  (None, 8, 8, 256)            0         ['decoder_stage0a_bn[0][0]']  \n",
      " vation)                                                                                          \n",
      "                                                                                                  \n",
      " decoder_stage0b_conv (Conv  (None, 8, 8, 256)            589824    ['decoder_stage0a_relu[0][0]']\n",
      " 2D)                                                                                              \n",
      "                                                                                                  \n",
      " decoder_stage0b_bn (BatchN  (None, 8, 8, 256)            1024      ['decoder_stage0b_conv[0][0]']\n",
      " ormalization)                                                                                    \n",
      "                                                                                                  \n",
      " decoder_stage0b_relu (Acti  (None, 8, 8, 256)            0         ['decoder_stage0b_bn[0][0]']  \n",
      " vation)                                                                                          \n",
      "                                                                                                  \n",
      " decoder_stage1_upsampling   (None, 16, 16, 256)          0         ['decoder_stage0b_relu[0][0]']\n",
      " (UpSampling2D)                                                                                   \n",
      "                                                                                                  \n",
      " decoder_stage1_concat (Con  (None, 16, 16, 384)          0         ['decoder_stage1_upsampling[0]\n",
      " catenate)                                                          [0]',                         \n",
      "                                                                     'stage3_unit1_relu1[0][0]']  \n",
      "                                                                                                  \n"
     ]
    },
    {
     "name": "stdout",
     "output_type": "stream",
     "text": [
      " decoder_stage1a_conv (Conv  (None, 16, 16, 128)          442368    ['decoder_stage1_concat[0][0]'\n",
      " 2D)                                                                ]                             \n",
      "                                                                                                  \n",
      " decoder_stage1a_bn (BatchN  (None, 16, 16, 128)          512       ['decoder_stage1a_conv[0][0]']\n",
      " ormalization)                                                                                    \n",
      "                                                                                                  \n",
      " decoder_stage1a_relu (Acti  (None, 16, 16, 128)          0         ['decoder_stage1a_bn[0][0]']  \n",
      " vation)                                                                                          \n",
      "                                                                                                  \n",
      " decoder_stage1b_conv (Conv  (None, 16, 16, 128)          147456    ['decoder_stage1a_relu[0][0]']\n",
      " 2D)                                                                                              \n",
      "                                                                                                  \n",
      " decoder_stage1b_bn (BatchN  (None, 16, 16, 128)          512       ['decoder_stage1b_conv[0][0]']\n",
      " ormalization)                                                                                    \n",
      "                                                                                                  \n",
      " decoder_stage1b_relu (Acti  (None, 16, 16, 128)          0         ['decoder_stage1b_bn[0][0]']  \n",
      " vation)                                                                                          \n",
      "                                                                                                  \n",
      " decoder_stage2_upsampling   (None, 32, 32, 128)          0         ['decoder_stage1b_relu[0][0]']\n",
      " (UpSampling2D)                                                                                   \n",
      "                                                                                                  \n",
      " decoder_stage2_concat (Con  (None, 32, 32, 192)          0         ['decoder_stage2_upsampling[0]\n",
      " catenate)                                                          [0]',                         \n",
      "                                                                     'stage2_unit1_relu1[0][0]']  \n",
      "                                                                                                  \n",
      " decoder_stage2a_conv (Conv  (None, 32, 32, 64)           110592    ['decoder_stage2_concat[0][0]'\n",
      " 2D)                                                                ]                             \n",
      "                                                                                                  \n",
      " decoder_stage2a_bn (BatchN  (None, 32, 32, 64)           256       ['decoder_stage2a_conv[0][0]']\n",
      " ormalization)                                                                                    \n",
      "                                                                                                  \n",
      " decoder_stage2a_relu (Acti  (None, 32, 32, 64)           0         ['decoder_stage2a_bn[0][0]']  \n",
      " vation)                                                                                          \n",
      "                                                                                                  \n",
      " decoder_stage2b_conv (Conv  (None, 32, 32, 64)           36864     ['decoder_stage2a_relu[0][0]']\n",
      " 2D)                                                                                              \n",
      "                                                                                                  \n",
      " decoder_stage2b_bn (BatchN  (None, 32, 32, 64)           256       ['decoder_stage2b_conv[0][0]']\n",
      " ormalization)                                                                                    \n",
      "                                                                                                  \n",
      " decoder_stage2b_relu (Acti  (None, 32, 32, 64)           0         ['decoder_stage2b_bn[0][0]']  \n",
      " vation)                                                                                          \n",
      "                                                                                                  \n",
      " decoder_stage3_upsampling   (None, 64, 64, 64)           0         ['decoder_stage2b_relu[0][0]']\n",
      " (UpSampling2D)                                                                                   \n",
      "                                                                                                  \n",
      " decoder_stage3_concat (Con  (None, 64, 64, 128)          0         ['decoder_stage3_upsampling[0]\n",
      " catenate)                                                          [0]',                         \n",
      "                                                                     'relu0[0][0]']               \n",
      "                                                                                                  \n",
      " decoder_stage3a_conv (Conv  (None, 64, 64, 32)           36864     ['decoder_stage3_concat[0][0]'\n",
      " 2D)                                                                ]                             \n",
      "                                                                                                  \n",
      " decoder_stage3a_bn (BatchN  (None, 64, 64, 32)           128       ['decoder_stage3a_conv[0][0]']\n",
      " ormalization)                                                                                    \n",
      "                                                                                                  \n",
      " decoder_stage3a_relu (Acti  (None, 64, 64, 32)           0         ['decoder_stage3a_bn[0][0]']  \n",
      " vation)                                                                                          \n",
      "                                                                                                  \n",
      " decoder_stage3b_conv (Conv  (None, 64, 64, 32)           9216      ['decoder_stage3a_relu[0][0]']\n",
      " 2D)                                                                                              \n",
      "                                                                                                  \n",
      " decoder_stage3b_bn (BatchN  (None, 64, 64, 32)           128       ['decoder_stage3b_conv[0][0]']\n",
      " ormalization)                                                                                    \n",
      "                                                                                                  \n",
      " decoder_stage3b_relu (Acti  (None, 64, 64, 32)           0         ['decoder_stage3b_bn[0][0]']  \n",
      " vation)                                                                                          \n",
      "                                                                                                  \n",
      " decoder_stage4_upsampling   (None, 128, 128, 32)         0         ['decoder_stage3b_relu[0][0]']\n",
      " (UpSampling2D)                                                                                   \n",
      "                                                                                                  \n",
      " decoder_stage4a_conv (Conv  (None, 128, 128, 16)         4608      ['decoder_stage4_upsampling[0]\n",
      " 2D)                                                                [0]']                         \n",
      "                                                                                                  \n",
      " decoder_stage4a_bn (BatchN  (None, 128, 128, 16)         64        ['decoder_stage4a_conv[0][0]']\n",
      " ormalization)                                                                                    \n",
      "                                                                                                  \n",
      " decoder_stage4a_relu (Acti  (None, 128, 128, 16)         0         ['decoder_stage4a_bn[0][0]']  \n",
      " vation)                                                                                          \n",
      "                                                                                                  \n",
      " decoder_stage4b_conv (Conv  (None, 128, 128, 16)         2304      ['decoder_stage4a_relu[0][0]']\n",
      " 2D)                                                                                              \n",
      "                                                                                                  \n"
     ]
    },
    {
     "name": "stdout",
     "output_type": "stream",
     "text": [
      " decoder_stage4b_bn (BatchN  (None, 128, 128, 16)         64        ['decoder_stage4b_conv[0][0]']\n",
      " ormalization)                                                                                    \n",
      "                                                                                                  \n",
      " decoder_stage4b_relu (Acti  (None, 128, 128, 16)         0         ['decoder_stage4b_bn[0][0]']  \n",
      " vation)                                                                                          \n",
      "                                                                                                  \n",
      " final_conv (Conv2D)         (None, 128, 128, 1)          145       ['decoder_stage4b_relu[0][0]']\n",
      "                                                                                                  \n",
      " sigmoid (Activation)        (None, 128, 128, 1)          0         ['final_conv[0][0]']          \n",
      "                                                                                                  \n",
      "==================================================================================================\n",
      "Total params: 24449876 (93.27 MB)\n",
      "Trainable params: 24432530 (93.20 MB)\n",
      "Non-trainable params: 17346 (67.76 KB)\n",
      "__________________________________________________________________________________________________\n"
     ]
    }
   ],
   "source": [
    "tf.keras.backend.clear_session()\n",
    "\n",
    "model = sm.Unet(backbone_name=backbone, input_shape=(128, 128, 1), encoder_weights=None, activation='sigmoid', classes=1)\n",
    "\n",
    "model.compile(optimizer='adam', loss=sm.losses.bce_jaccard_loss, metrics=[sm.metrics.iou_score])\n",
    "model.summary()"
   ]
  },
  {
   "cell_type": "code",
   "execution_count": 49,
   "id": "292ac88a-a431-4790-a9eb-cf44a50f0314",
   "metadata": {},
   "outputs": [
    {
     "name": "stdout",
     "output_type": "stream",
     "text": [
      "Epoch 1/20\n",
      "29/29 [==============================] - ETA: 0s - loss: 0.8970 - iou_score: 0.1966INFO:tensorflow:Assets written to: best_optimized_unet_model\\assets\n"
     ]
    },
    {
     "name": "stderr",
     "output_type": "stream",
     "text": [
      "INFO:tensorflow:Assets written to: best_optimized_unet_model\\assets\n"
     ]
    },
    {
     "name": "stdout",
     "output_type": "stream",
     "text": [
      "29/29 [==============================] - 134s 5s/step - loss: 0.8970 - iou_score: 0.1966 - val_loss: 11679.4893 - val_iou_score: 1.2435e-09\n",
      "Epoch 2/20\n",
      "29/29 [==============================] - ETA: 0s - loss: 0.8170 - iou_score: 0.2663INFO:tensorflow:Assets written to: best_optimized_unet_model\\assets\n"
     ]
    },
    {
     "name": "stderr",
     "output_type": "stream",
     "text": [
      "INFO:tensorflow:Assets written to: best_optimized_unet_model\\assets\n"
     ]
    },
    {
     "name": "stdout",
     "output_type": "stream",
     "text": [
      "29/29 [==============================] - 132s 5s/step - loss: 0.8170 - iou_score: 0.2663 - val_loss: 3226.8320 - val_iou_score: 1.2435e-09\n",
      "Epoch 3/20\n",
      "29/29 [==============================] - ETA: 0s - loss: 0.7515 - iou_score: 0.3269INFO:tensorflow:Assets written to: best_optimized_unet_model\\assets\n"
     ]
    },
    {
     "name": "stderr",
     "output_type": "stream",
     "text": [
      "INFO:tensorflow:Assets written to: best_optimized_unet_model\\assets\n"
     ]
    },
    {
     "name": "stdout",
     "output_type": "stream",
     "text": [
      "29/29 [==============================] - 132s 5s/step - loss: 0.7515 - iou_score: 0.3269 - val_loss: 3.2799 - val_iou_score: 0.0616\n",
      "Epoch 4/20\n",
      "29/29 [==============================] - ETA: 0s - loss: 0.7042 - iou_score: 0.3703INFO:tensorflow:Assets written to: best_optimized_unet_model\\assets\n"
     ]
    },
    {
     "name": "stderr",
     "output_type": "stream",
     "text": [
      "INFO:tensorflow:Assets written to: best_optimized_unet_model\\assets\n"
     ]
    },
    {
     "name": "stdout",
     "output_type": "stream",
     "text": [
      "29/29 [==============================] - 142s 5s/step - loss: 0.7042 - iou_score: 0.3703 - val_loss: 1.1090 - val_iou_score: 0.1639\n",
      "Epoch 5/20\n",
      "29/29 [==============================] - ETA: 0s - loss: 0.6603 - iou_score: 0.4122INFO:tensorflow:Assets written to: best_optimized_unet_model\\assets\n"
     ]
    },
    {
     "name": "stderr",
     "output_type": "stream",
     "text": [
      "INFO:tensorflow:Assets written to: best_optimized_unet_model\\assets\n"
     ]
    },
    {
     "name": "stdout",
     "output_type": "stream",
     "text": [
      "29/29 [==============================] - 150s 5s/step - loss: 0.6603 - iou_score: 0.4122 - val_loss: 1.0894 - val_iou_score: 0.2040\n",
      "Epoch 6/20\n",
      "29/29 [==============================] - ETA: 0s - loss: 0.6258 - iou_score: 0.4430INFO:tensorflow:Assets written to: best_optimized_unet_model\\assets\n"
     ]
    },
    {
     "name": "stderr",
     "output_type": "stream",
     "text": [
      "INFO:tensorflow:Assets written to: best_optimized_unet_model\\assets\n"
     ]
    },
    {
     "name": "stdout",
     "output_type": "stream",
     "text": [
      "29/29 [==============================] - 142s 5s/step - loss: 0.6258 - iou_score: 0.4430 - val_loss: 0.7775 - val_iou_score: 0.3384\n",
      "Epoch 7/20\n",
      "29/29 [==============================] - 121s 4s/step - loss: 0.5887 - iou_score: 0.4747 - val_loss: 0.8903 - val_iou_score: 0.2852\n",
      "Epoch 8/20\n",
      "29/29 [==============================] - ETA: 0s - loss: 0.5645 - iou_score: 0.4981INFO:tensorflow:Assets written to: best_optimized_unet_model\\assets\n"
     ]
    },
    {
     "name": "stderr",
     "output_type": "stream",
     "text": [
      "INFO:tensorflow:Assets written to: best_optimized_unet_model\\assets\n"
     ]
    },
    {
     "name": "stdout",
     "output_type": "stream",
     "text": [
      "29/29 [==============================] - 138s 5s/step - loss: 0.5645 - iou_score: 0.4981 - val_loss: 0.6506 - val_iou_score: 0.4250\n",
      "Epoch 9/20\n",
      "29/29 [==============================] - ETA: 0s - loss: 0.5416 - iou_score: 0.5171INFO:tensorflow:Assets written to: best_optimized_unet_model\\assets\n"
     ]
    },
    {
     "name": "stderr",
     "output_type": "stream",
     "text": [
      "INFO:tensorflow:Assets written to: best_optimized_unet_model\\assets\n"
     ]
    },
    {
     "name": "stdout",
     "output_type": "stream",
     "text": [
      "29/29 [==============================] - 139s 5s/step - loss: 0.5416 - iou_score: 0.5171 - val_loss: 0.6132 - val_iou_score: 0.4472\n",
      "Epoch 10/20\n",
      "29/29 [==============================] - 122s 4s/step - loss: 0.5387 - iou_score: 0.5226 - val_loss: 0.6467 - val_iou_score: 0.4429\n",
      "Epoch 11/20\n",
      "29/29 [==============================] - 119s 4s/step - loss: 0.5035 - iou_score: 0.5513 - val_loss: 0.7238 - val_iou_score: 0.3477\n",
      "Epoch 12/20\n",
      "29/29 [==============================] - 127s 4s/step - loss: 0.4959 - iou_score: 0.5596 - val_loss: 0.6387 - val_iou_score: 0.4231\n",
      "Epoch 13/20\n",
      "29/29 [==============================] - ETA: 0s - loss: 0.4766 - iou_score: 0.5750INFO:tensorflow:Assets written to: best_optimized_unet_model\\assets\n"
     ]
    },
    {
     "name": "stderr",
     "output_type": "stream",
     "text": [
      "INFO:tensorflow:Assets written to: best_optimized_unet_model\\assets\n"
     ]
    },
    {
     "name": "stdout",
     "output_type": "stream",
     "text": [
      "29/29 [==============================] - 151s 5s/step - loss: 0.4766 - iou_score: 0.5750 - val_loss: 0.6017 - val_iou_score: 0.4539\n",
      "Epoch 14/20\n",
      "29/29 [==============================] - ETA: 0s - loss: 0.4546 - iou_score: 0.5956INFO:tensorflow:Assets written to: best_optimized_unet_model\\assets\n"
     ]
    },
    {
     "name": "stderr",
     "output_type": "stream",
     "text": [
      "INFO:tensorflow:Assets written to: best_optimized_unet_model\\assets\n"
     ]
    },
    {
     "name": "stdout",
     "output_type": "stream",
     "text": [
      "29/29 [==============================] - 146s 5s/step - loss: 0.4546 - iou_score: 0.5956 - val_loss: 0.5812 - val_iou_score: 0.4723\n",
      "Epoch 15/20\n",
      "29/29 [==============================] - 123s 4s/step - loss: 0.4743 - iou_score: 0.5799 - val_loss: 0.5950 - val_iou_score: 0.4701\n",
      "Epoch 16/20\n",
      "29/29 [==============================] - ETA: 0s - loss: 0.4218 - iou_score: 0.6235INFO:tensorflow:Assets written to: best_optimized_unet_model\\assets\n"
     ]
    },
    {
     "name": "stderr",
     "output_type": "stream",
     "text": [
      "INFO:tensorflow:Assets written to: best_optimized_unet_model\\assets\n"
     ]
    },
    {
     "name": "stdout",
     "output_type": "stream",
     "text": [
      "29/29 [==============================] - 135s 5s/step - loss: 0.4218 - iou_score: 0.6235 - val_loss: 0.5727 - val_iou_score: 0.4837\n",
      "Epoch 17/20\n",
      "29/29 [==============================] - ETA: 0s - loss: 0.4241 - iou_score: 0.6240INFO:tensorflow:Assets written to: best_optimized_unet_model\\assets\n"
     ]
    },
    {
     "name": "stderr",
     "output_type": "stream",
     "text": [
      "INFO:tensorflow:Assets written to: best_optimized_unet_model\\assets\n"
     ]
    },
    {
     "name": "stdout",
     "output_type": "stream",
     "text": [
      "29/29 [==============================] - 136s 5s/step - loss: 0.4241 - iou_score: 0.6240 - val_loss: 0.5507 - val_iou_score: 0.5125\n",
      "Epoch 18/20\n",
      "29/29 [==============================] - 117s 4s/step - loss: 0.3950 - iou_score: 0.6489 - val_loss: 0.5857 - val_iou_score: 0.4835\n",
      "Epoch 19/20\n",
      "29/29 [==============================] - ETA: 0s - loss: 0.3724 - iou_score: 0.6673INFO:tensorflow:Assets written to: best_optimized_unet_model\\assets\n"
     ]
    },
    {
     "name": "stderr",
     "output_type": "stream",
     "text": [
      "INFO:tensorflow:Assets written to: best_optimized_unet_model\\assets\n"
     ]
    },
    {
     "name": "stdout",
     "output_type": "stream",
     "text": [
      "29/29 [==============================] - 134s 5s/step - loss: 0.3724 - iou_score: 0.6673 - val_loss: 0.5498 - val_iou_score: 0.5043\n",
      "Epoch 20/20\n",
      "29/29 [==============================] - 119s 4s/step - loss: 0.3613 - iou_score: 0.6796 - val_loss: 0.5673 - val_iou_score: 0.4949\n"
     ]
    }
   ],
   "source": [
    "early_stop = EarlyStopping(min_delta = 0.01, patience=5, restore_best_weights=True)\n",
    "model_checkpoint = ModelCheckpoint(filepath='best_optimized_unet_model', save_best_only=True)\n",
    "history = model.fit(x_train_processed, y_train, epochs=20, validation_data=(x_test_processed, y_test), callbacks=[early_stop, model_checkpoint])"
   ]
  },
  {
   "cell_type": "code",
   "execution_count": 50,
   "id": "59a0db7f-41a5-4194-a8ed-e3e8d1fc3052",
   "metadata": {},
   "outputs": [
    {
     "name": "stdout",
     "output_type": "stream",
     "text": [
      "1/1 [==============================] - 0s 81ms/step\n",
      "(1, 128, 128, 1)\n"
     ]
    }
   ],
   "source": [
    "n = np.random.randint(0, len(x_test))\n",
    "test_image = x_test_processed[n]\n",
    "test_image = np.expand_dims(test_image, axis=0)\n",
    "\n",
    "predicted_image = model.predict(test_image)\n",
    "print(predicted_image.shape)\n",
    "predicted_image = (predicted_image[0, :, :, 0] > 0.5).astype(np.uint8)"
   ]
  },
  {
   "cell_type": "code",
   "execution_count": 51,
   "id": "035c302b-2b0e-489e-a4a2-20f95c54739a",
   "metadata": {},
   "outputs": [
    {
     "data": {
      "image/png": "[encoded data removed]",
      "text/plain": [
       "<Figure size 640x480 with 3 Axes>"
      ]
     },
     "metadata": {},
     "output_type": "display_data"
    }
   ],
   "source": [
    "plt.subplot(1, 3, 1)\n",
    "plt.title('Original Image')\n",
    "plt.imshow(x_test[n, :, :, :], cmap='gray')\n",
    "\n",
    "plt.subplot(1, 3, 2)\n",
    "plt.title('Original mask Image')\n",
    "plt.imshow(y_test[n, :, :, :], cmap='gray')\n",
    "\n",
    "plt.subplot(1, 3, 3)\n",
    "plt.title('Predicted mask Image')\n",
    "plt.imshow(predicted_image, cmap='gray')\n",
    "\n",
    "plt.tight_layout()\n",
    "plt.show()"
   ]
  },
  {
   "cell_type": "code",
   "execution_count": null,
   "id": "8585e1bd-2624-4657-b3b7-0ce7775a06de",
   "metadata": {},
   "outputs": [],
   "source": []
  },
  {
   "cell_type": "code",
   "execution_count": null,
   "id": "118bfa5f-6632-4ee1-bbc6-0dd53f5d0130",
   "metadata": {},
   "outputs": [],
   "source": []
  }
 ],
 "metadata": {
  "kernelspec": {
   "display_name": "Python 3 (ipykernel)",
   "language": "python",
   "name": "python3"
  },
  "language_info": {
   "codemirror_mode": {
    "name": "ipython",
    "version": 3
   },
   "file_extension": ".py",
   "mimetype": "text/x-python",
   "name": "python",
   "nbconvert_exporter": "python",
   "pygments_lexer": "ipython3",
   "version": "3.9.13"
  }
 },
 "nbformat": 4,
 "nbformat_minor": 5
}
